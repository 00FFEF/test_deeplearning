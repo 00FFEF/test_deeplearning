{
  "nbformat": 4,
  "nbformat_minor": 0,
  "metadata": {
    "colab": {
      "name": "mnist_classification.ipynb",
      "provenance": [],
      "authorship_tag": "ABX9TyMGg239md5fBm9wSb6LDpM4"
    },
    "kernelspec": {
      "name": "python3",
      "display_name": "Python 3"
    },
    "language_info": {
      "name": "python"
    }
  },
  "cells": [
    {
      "cell_type": "code",
      "metadata": {
        "id": "mHk5rsUalwiO"
      },
      "source": [
        "from tensorflow.keras.datasets.mnist import load_data"
      ],
      "execution_count": 1,
      "outputs": []
    },
    {
      "cell_type": "code",
      "metadata": {
        "colab": {
          "base_uri": "https://localhost:8080/"
        },
        "id": "_942GZVWqw42",
        "outputId": "410a0348-7dd9-4c01-c406-bb79ac77af00"
      },
      "source": [
        "(x_train, y_train), (x_test, y_test) = load_data(path='mnist.npz')\n",
        "x_train.shape, y_train.shape, x_test.shape, y_test.shape"
      ],
      "execution_count": 2,
      "outputs": [
        {
          "output_type": "execute_result",
          "data": {
            "text/plain": [
              "((60000, 28, 28), (60000,), (10000, 28, 28), (10000,))"
            ]
          },
          "metadata": {
            "tags": []
          },
          "execution_count": 2
        }
      ]
    },
    {
      "cell_type": "code",
      "metadata": {
        "id": "0rqe6ZlnrEpO"
      },
      "source": [
        "y_train[4], x_train[4]"
      ],
      "execution_count": null,
      "outputs": []
    },
    {
      "cell_type": "code",
      "metadata": {
        "colab": {
          "base_uri": "https://localhost:8080/",
          "height": 283
        },
        "id": "unnNAtFnsQtP",
        "outputId": "e88e2ad8-419a-4a43-a1a6-b9ed67af2e4e"
      },
      "source": [
        "import matplotlib.pyplot as plt\n",
        "plt.imshow(x_train[50000])\n",
        "print(y_train[50000], type(y_train[50000]))"
      ],
      "execution_count": 4,
      "outputs": [
        {
          "output_type": "stream",
          "text": [
            "3 <class 'numpy.uint8'>\n"
          ],
          "name": "stdout"
        },
        {
          "output_type": "display_data",
          "data": {
            "image/png": "[encoded data removed]",
            "text/plain": [
              "<Figure size 432x288 with 1 Axes>"
            ]
          },
          "metadata": {
            "tags": [],
            "needs_background": "light"
          }
        }
      ]
    },
    {
      "cell_type": "code",
      "metadata": {
        "colab": {
          "base_uri": "https://localhost:8080/"
        },
        "id": "5hotxXv9tCXf",
        "outputId": "9b5e2b72-2d08-4d4e-af8d-2c6bc07e36c1"
      },
      "source": [
        "x_train = x_train.reshape(-1, 28*28) / 255\n",
        "x_train.shape"
      ],
      "execution_count": 5,
      "outputs": [
        {
          "output_type": "execute_result",
          "data": {
            "text/plain": [
              "(60000, 784)"
            ]
          },
          "metadata": {
            "tags": []
          },
          "execution_count": 5
        }
      ]
    },
    {
      "cell_type": "code",
      "metadata": {
        "colab": {
          "base_uri": "https://localhost:8080/"
        },
        "id": "YEoS0yY7uqsv",
        "outputId": "1dc6fa8a-9c7d-439b-cfad-cdb8837f33c6"
      },
      "source": [
        "x_test = x_test.reshape(-1, 28*28) / 255\n",
        "x_test.shape"
      ],
      "execution_count": 6,
      "outputs": [
        {
          "output_type": "execute_result",
          "data": {
            "text/plain": [
              "(10000, 784)"
            ]
          },
          "metadata": {
            "tags": []
          },
          "execution_count": 6
        }
      ]
    },
    {
      "cell_type": "code",
      "metadata": {
        "colab": {
          "base_uri": "https://localhost:8080/"
        },
        "id": "_XOzr4enwGIx",
        "outputId": "ae1e1ef4-7a2f-4692-eaa9-ba62a7c17ad3"
      },
      "source": [
        "y_train[2:10], y_train.shape"
      ],
      "execution_count": 7,
      "outputs": [
        {
          "output_type": "execute_result",
          "data": {
            "text/plain": [
              "(array([4, 1, 9, 2, 1, 3, 1, 4], dtype=uint8), (60000,))"
            ]
          },
          "metadata": {
            "tags": []
          },
          "execution_count": 7
        }
      ]
    },
    {
      "cell_type": "code",
      "metadata": {
        "colab": {
          "base_uri": "https://localhost:8080/"
        },
        "id": "4N_GijBdxpY9",
        "outputId": "aaa25817-eada-4a89-ca9d-f92cc9b9f9b7"
      },
      "source": [
        "import numpy as np\n",
        "np.unique(y_train)"
      ],
      "execution_count": 8,
      "outputs": [
        {
          "output_type": "execute_result",
          "data": {
            "text/plain": [
              "array([0, 1, 2, 3, 4, 5, 6, 7, 8, 9], dtype=uint8)"
            ]
          },
          "metadata": {
            "tags": []
          },
          "execution_count": 8
        }
      ]
    },
    {
      "cell_type": "markdown",
      "metadata": {
        "id": "7b5vGJEHwJTx"
      },
      "source": [
        "# apply model"
      ]
    },
    {
      "cell_type": "code",
      "metadata": {
        "id": "WLh86xv8wLh4"
      },
      "source": [
        "import tensorflow as tf"
      ],
      "execution_count": 9,
      "outputs": []
    },
    {
      "cell_type": "code",
      "metadata": {
        "colab": {
          "base_uri": "https://localhost:8080/"
        },
        "id": "9YBsou_kwRCQ",
        "outputId": "64a13960-491b-4534-a82f-ba1191b0d7b3"
      },
      "source": [
        "model = tf.keras.models.Sequential()\n",
        "\n",
        "model.add(tf.keras.Input(shape=(784,))) # input\n",
        "model.add(tf.keras.layers.Dense(64, activation='relu')) # hidden\n",
        "model.add(tf.keras.layers.Dense(64, activation='relu'))\n",
        "# 3개 이상 --> softmax\n",
        "model.add(tf.keras.layers.Dense(10, activation='softmax')) # output\n",
        "# binary --> sigmoid\n",
        "\n",
        "# regression --> loss : mse\n",
        "# binary classification --> loss : binary crossentropy\n",
        "# over 3 classification --> loss : categorical crossentropy (sparse_categorical_crossentropy)\n",
        "model.compile(optimizer='adam', loss='sparse_categorical_crossentropy', metrics=['acc'])"
      ],
      "execution_count": 10,
      "outputs": [
        {
          "output_type": "stream",
          "text": [
            "WARNING:tensorflow:Please add `keras.layers.InputLayer` instead of `keras.Input` to Sequential model. `keras.Input` is intended to be used by Functional model.\n"
          ],
          "name": "stdout"
        }
      ]
    },
    {
      "cell_type": "code",
      "metadata": {
        "colab": {
          "base_uri": "https://localhost:8080/"
        },
        "id": "lZyOcQJ8_PjH",
        "outputId": "9c2c5231-6668-469a-a1cf-85b5e6a33415"
      },
      "source": [
        "hist = model.fit(x_train, y_train, epochs=100, validation_split=0.3)"
      ],
      "execution_count": 11,
      "outputs": [
        {
          "output_type": "stream",
          "text": [
            "Epoch 1/100\n",
            "1313/1313 [==============================] - 3s 2ms/step - loss: 0.3219 - acc: 0.9075 - val_loss: 0.1821 - val_acc: 0.9464\n",
            "Epoch 2/100\n",
            "1313/1313 [==============================] - 3s 2ms/step - loss: 0.1531 - acc: 0.9546 - val_loss: 0.1621 - val_acc: 0.9516\n",
            "Epoch 3/100\n",
            "1313/1313 [==============================] - 3s 2ms/step - loss: 0.1119 - acc: 0.9662 - val_loss: 0.1560 - val_acc: 0.9531\n",
            "Epoch 4/100\n",
            "1313/1313 [==============================] - 3s 2ms/step - loss: 0.0873 - acc: 0.9736 - val_loss: 0.1280 - val_acc: 0.9636\n",
            "Epoch 5/100\n",
            "1313/1313 [==============================] - 3s 2ms/step - loss: 0.0704 - acc: 0.9785 - val_loss: 0.1185 - val_acc: 0.9660\n",
            "Epoch 6/100\n",
            "1313/1313 [==============================] - 3s 2ms/step - loss: 0.0573 - acc: 0.9815 - val_loss: 0.1221 - val_acc: 0.9664\n",
            "Epoch 7/100\n",
            "1313/1313 [==============================] - 3s 2ms/step - loss: 0.0459 - acc: 0.9851 - val_loss: 0.1201 - val_acc: 0.9683\n",
            "Epoch 8/100\n",
            "1313/1313 [==============================] - 3s 2ms/step - loss: 0.0395 - acc: 0.9874 - val_loss: 0.1220 - val_acc: 0.9674\n",
            "Epoch 9/100\n",
            "1313/1313 [==============================] - 3s 2ms/step - loss: 0.0345 - acc: 0.9886 - val_loss: 0.1250 - val_acc: 0.9688\n",
            "Epoch 10/100\n",
            "1313/1313 [==============================] - 3s 2ms/step - loss: 0.0297 - acc: 0.9900 - val_loss: 0.1256 - val_acc: 0.9696\n",
            "Epoch 11/100\n",
            "1313/1313 [==============================] - 3s 2ms/step - loss: 0.0253 - acc: 0.9921 - val_loss: 0.1504 - val_acc: 0.9651\n",
            "Epoch 12/100\n",
            "1313/1313 [==============================] - 3s 2ms/step - loss: 0.0209 - acc: 0.9930 - val_loss: 0.1417 - val_acc: 0.9683\n",
            "Epoch 13/100\n",
            "1313/1313 [==============================] - 3s 2ms/step - loss: 0.0202 - acc: 0.9929 - val_loss: 0.1715 - val_acc: 0.9647\n",
            "Epoch 14/100\n",
            "1313/1313 [==============================] - 3s 2ms/step - loss: 0.0184 - acc: 0.9941 - val_loss: 0.1541 - val_acc: 0.9687\n",
            "Epoch 15/100\n",
            "1313/1313 [==============================] - 3s 2ms/step - loss: 0.0175 - acc: 0.9937 - val_loss: 0.1477 - val_acc: 0.9697\n",
            "Epoch 16/100\n",
            "1313/1313 [==============================] - 3s 2ms/step - loss: 0.0134 - acc: 0.9960 - val_loss: 0.1569 - val_acc: 0.9689\n",
            "Epoch 17/100\n",
            "1313/1313 [==============================] - 3s 2ms/step - loss: 0.0146 - acc: 0.9955 - val_loss: 0.1600 - val_acc: 0.9696\n",
            "Epoch 18/100\n",
            "1313/1313 [==============================] - 3s 2ms/step - loss: 0.0135 - acc: 0.9955 - val_loss: 0.1699 - val_acc: 0.9696\n",
            "Epoch 19/100\n",
            "1313/1313 [==============================] - 3s 2ms/step - loss: 0.0117 - acc: 0.9962 - val_loss: 0.1583 - val_acc: 0.9704\n",
            "Epoch 20/100\n",
            "1313/1313 [==============================] - 3s 2ms/step - loss: 0.0123 - acc: 0.9964 - val_loss: 0.1700 - val_acc: 0.9691\n",
            "Epoch 21/100\n",
            "1313/1313 [==============================] - 3s 2ms/step - loss: 0.0130 - acc: 0.9958 - val_loss: 0.1985 - val_acc: 0.9651\n",
            "Epoch 22/100\n",
            "1313/1313 [==============================] - 3s 2ms/step - loss: 0.0111 - acc: 0.9963 - val_loss: 0.2110 - val_acc: 0.9669\n",
            "Epoch 23/100\n",
            "1313/1313 [==============================] - 3s 2ms/step - loss: 0.0112 - acc: 0.9965 - val_loss: 0.1938 - val_acc: 0.9679\n",
            "Epoch 24/100\n",
            "1313/1313 [==============================] - 3s 2ms/step - loss: 0.0079 - acc: 0.9974 - val_loss: 0.1877 - val_acc: 0.9689\n",
            "Epoch 25/100\n",
            "1313/1313 [==============================] - 3s 2ms/step - loss: 0.0116 - acc: 0.9961 - val_loss: 0.1789 - val_acc: 0.9708\n",
            "Epoch 26/100\n",
            "1313/1313 [==============================] - 3s 2ms/step - loss: 0.0094 - acc: 0.9971 - val_loss: 0.1888 - val_acc: 0.9699\n",
            "Epoch 27/100\n",
            "1313/1313 [==============================] - 3s 2ms/step - loss: 0.0092 - acc: 0.9972 - val_loss: 0.1874 - val_acc: 0.9723\n",
            "Epoch 28/100\n",
            "1313/1313 [==============================] - 3s 2ms/step - loss: 0.0075 - acc: 0.9975 - val_loss: 0.2228 - val_acc: 0.9671\n",
            "Epoch 29/100\n",
            "1313/1313 [==============================] - 3s 2ms/step - loss: 0.0080 - acc: 0.9973 - val_loss: 0.2109 - val_acc: 0.9697\n",
            "Epoch 30/100\n",
            "1313/1313 [==============================] - 3s 2ms/step - loss: 0.0102 - acc: 0.9967 - val_loss: 0.2107 - val_acc: 0.9688\n",
            "Epoch 31/100\n",
            "1313/1313 [==============================] - 3s 2ms/step - loss: 0.0085 - acc: 0.9971 - val_loss: 0.2356 - val_acc: 0.9673\n",
            "Epoch 32/100\n",
            "1313/1313 [==============================] - 3s 2ms/step - loss: 0.0072 - acc: 0.9974 - val_loss: 0.2248 - val_acc: 0.9699\n",
            "Epoch 33/100\n",
            "1313/1313 [==============================] - 3s 2ms/step - loss: 0.0100 - acc: 0.9972 - val_loss: 0.2287 - val_acc: 0.9688\n",
            "Epoch 34/100\n",
            "1313/1313 [==============================] - 3s 2ms/step - loss: 0.0071 - acc: 0.9980 - val_loss: 0.2165 - val_acc: 0.9709\n",
            "Epoch 35/100\n",
            "1313/1313 [==============================] - 3s 2ms/step - loss: 0.0075 - acc: 0.9979 - val_loss: 0.2330 - val_acc: 0.9688\n",
            "Epoch 36/100\n",
            "1313/1313 [==============================] - 3s 2ms/step - loss: 0.0079 - acc: 0.9976 - val_loss: 0.2268 - val_acc: 0.9711\n",
            "Epoch 37/100\n",
            "1313/1313 [==============================] - 3s 2ms/step - loss: 0.0052 - acc: 0.9983 - val_loss: 0.2362 - val_acc: 0.9692\n",
            "Epoch 38/100\n",
            "1313/1313 [==============================] - 3s 2ms/step - loss: 0.0075 - acc: 0.9976 - val_loss: 0.2574 - val_acc: 0.9678\n",
            "Epoch 39/100\n",
            "1313/1313 [==============================] - 3s 2ms/step - loss: 0.0088 - acc: 0.9973 - val_loss: 0.2475 - val_acc: 0.9689\n",
            "Epoch 40/100\n",
            "1313/1313 [==============================] - 3s 2ms/step - loss: 0.0046 - acc: 0.9984 - val_loss: 0.2377 - val_acc: 0.9688\n",
            "Epoch 41/100\n",
            "1313/1313 [==============================] - 3s 2ms/step - loss: 0.0097 - acc: 0.9972 - val_loss: 0.2274 - val_acc: 0.9718\n",
            "Epoch 42/100\n",
            "1313/1313 [==============================] - 3s 2ms/step - loss: 0.0084 - acc: 0.9978 - val_loss: 0.2719 - val_acc: 0.9686\n",
            "Epoch 43/100\n",
            "1313/1313 [==============================] - 3s 2ms/step - loss: 0.0052 - acc: 0.9981 - val_loss: 0.2443 - val_acc: 0.9698\n",
            "Epoch 44/100\n",
            "1313/1313 [==============================] - 3s 2ms/step - loss: 0.0080 - acc: 0.9974 - val_loss: 0.2708 - val_acc: 0.9674\n",
            "Epoch 45/100\n",
            "1313/1313 [==============================] - 3s 2ms/step - loss: 0.0063 - acc: 0.9981 - val_loss: 0.2584 - val_acc: 0.9686\n",
            "Epoch 46/100\n",
            "1313/1313 [==============================] - 3s 2ms/step - loss: 0.0054 - acc: 0.9984 - val_loss: 0.2548 - val_acc: 0.9705\n",
            "Epoch 47/100\n",
            "1313/1313 [==============================] - 3s 2ms/step - loss: 0.0064 - acc: 0.9979 - val_loss: 0.2512 - val_acc: 0.9721\n",
            "Epoch 48/100\n",
            "1313/1313 [==============================] - 3s 2ms/step - loss: 0.0084 - acc: 0.9975 - val_loss: 0.2672 - val_acc: 0.9697\n",
            "Epoch 49/100\n",
            "1313/1313 [==============================] - 3s 2ms/step - loss: 0.0051 - acc: 0.9983 - val_loss: 0.3032 - val_acc: 0.9655\n",
            "Epoch 50/100\n",
            "1313/1313 [==============================] - 3s 2ms/step - loss: 0.0086 - acc: 0.9975 - val_loss: 0.2525 - val_acc: 0.9715\n",
            "Epoch 51/100\n",
            "1313/1313 [==============================] - 3s 2ms/step - loss: 0.0039 - acc: 0.9986 - val_loss: 0.2760 - val_acc: 0.9687\n",
            "Epoch 52/100\n",
            "1313/1313 [==============================] - 3s 2ms/step - loss: 0.0092 - acc: 0.9974 - val_loss: 0.2654 - val_acc: 0.9721\n",
            "Epoch 53/100\n",
            "1313/1313 [==============================] - 3s 2ms/step - loss: 0.0070 - acc: 0.9980 - val_loss: 0.2727 - val_acc: 0.9717\n",
            "Epoch 54/100\n",
            "1313/1313 [==============================] - 3s 2ms/step - loss: 0.0068 - acc: 0.9979 - val_loss: 0.2705 - val_acc: 0.9692\n",
            "Epoch 55/100\n",
            "1313/1313 [==============================] - 3s 2ms/step - loss: 0.0052 - acc: 0.9985 - val_loss: 0.2879 - val_acc: 0.9707\n",
            "Epoch 56/100\n",
            "1313/1313 [==============================] - 3s 2ms/step - loss: 0.0090 - acc: 0.9974 - val_loss: 0.2780 - val_acc: 0.9693\n",
            "Epoch 57/100\n",
            "1313/1313 [==============================] - 3s 2ms/step - loss: 0.0072 - acc: 0.9981 - val_loss: 0.2759 - val_acc: 0.9711\n",
            "Epoch 58/100\n",
            "1313/1313 [==============================] - 3s 2ms/step - loss: 0.0043 - acc: 0.9987 - val_loss: 0.2835 - val_acc: 0.9702\n",
            "Epoch 59/100\n",
            "1313/1313 [==============================] - 3s 2ms/step - loss: 0.0038 - acc: 0.9990 - val_loss: 0.3251 - val_acc: 0.9635\n",
            "Epoch 60/100\n",
            "1313/1313 [==============================] - 3s 2ms/step - loss: 0.0103 - acc: 0.9972 - val_loss: 0.3006 - val_acc: 0.9701\n",
            "Epoch 61/100\n",
            "1313/1313 [==============================] - 3s 2ms/step - loss: 0.0049 - acc: 0.9985 - val_loss: 0.3118 - val_acc: 0.9696\n",
            "Epoch 62/100\n",
            "1313/1313 [==============================] - 3s 2ms/step - loss: 0.0032 - acc: 0.9987 - val_loss: 0.3150 - val_acc: 0.9687\n",
            "Epoch 63/100\n",
            "1313/1313 [==============================] - 3s 2ms/step - loss: 0.0070 - acc: 0.9980 - val_loss: 0.2868 - val_acc: 0.9704\n",
            "Epoch 64/100\n",
            "1313/1313 [==============================] - 3s 2ms/step - loss: 0.0044 - acc: 0.9984 - val_loss: 0.3003 - val_acc: 0.9711\n",
            "Epoch 65/100\n",
            "1313/1313 [==============================] - 3s 2ms/step - loss: 0.0084 - acc: 0.9977 - val_loss: 0.3143 - val_acc: 0.9698\n",
            "Epoch 66/100\n",
            "1313/1313 [==============================] - 3s 2ms/step - loss: 0.0048 - acc: 0.9985 - val_loss: 0.3242 - val_acc: 0.9693\n",
            "Epoch 67/100\n",
            "1313/1313 [==============================] - 3s 2ms/step - loss: 0.0070 - acc: 0.9980 - val_loss: 0.3094 - val_acc: 0.9705\n",
            "Epoch 68/100\n",
            "1313/1313 [==============================] - 3s 2ms/step - loss: 0.0049 - acc: 0.9987 - val_loss: 0.3070 - val_acc: 0.9712\n",
            "Epoch 69/100\n",
            "1313/1313 [==============================] - 3s 2ms/step - loss: 0.0075 - acc: 0.9976 - val_loss: 0.3038 - val_acc: 0.9733\n",
            "Epoch 70/100\n",
            "1313/1313 [==============================] - 3s 2ms/step - loss: 0.0017 - acc: 0.9995 - val_loss: 0.2913 - val_acc: 0.9726\n",
            "Epoch 71/100\n",
            "1313/1313 [==============================] - 3s 2ms/step - loss: 0.0066 - acc: 0.9981 - val_loss: 0.3222 - val_acc: 0.9701\n",
            "Epoch 72/100\n",
            "1313/1313 [==============================] - 3s 2ms/step - loss: 0.0060 - acc: 0.9982 - val_loss: 0.2974 - val_acc: 0.9705\n",
            "Epoch 73/100\n",
            "1313/1313 [==============================] - 3s 2ms/step - loss: 0.0040 - acc: 0.9987 - val_loss: 0.3122 - val_acc: 0.9719\n",
            "Epoch 74/100\n",
            "1313/1313 [==============================] - 3s 2ms/step - loss: 0.0045 - acc: 0.9986 - val_loss: 0.3399 - val_acc: 0.9680\n",
            "Epoch 75/100\n",
            "1313/1313 [==============================] - 3s 2ms/step - loss: 0.0072 - acc: 0.9980 - val_loss: 0.2972 - val_acc: 0.9734\n",
            "Epoch 76/100\n",
            "1313/1313 [==============================] - 3s 2ms/step - loss: 0.0057 - acc: 0.9984 - val_loss: 0.3045 - val_acc: 0.9724\n",
            "Epoch 77/100\n",
            "1313/1313 [==============================] - 3s 2ms/step - loss: 0.0042 - acc: 0.9990 - val_loss: 0.3320 - val_acc: 0.9704\n",
            "Epoch 78/100\n",
            "1313/1313 [==============================] - 3s 2ms/step - loss: 0.0114 - acc: 0.9974 - val_loss: 0.3271 - val_acc: 0.9714\n",
            "Epoch 79/100\n",
            "1313/1313 [==============================] - 3s 2ms/step - loss: 0.0017 - acc: 0.9995 - val_loss: 0.3184 - val_acc: 0.9726\n",
            "Epoch 80/100\n",
            "1313/1313 [==============================] - 3s 2ms/step - loss: 0.0062 - acc: 0.9988 - val_loss: 0.3984 - val_acc: 0.9668\n",
            "Epoch 81/100\n",
            "1313/1313 [==============================] - 3s 2ms/step - loss: 0.0072 - acc: 0.9982 - val_loss: 0.3636 - val_acc: 0.9684\n",
            "Epoch 82/100\n",
            "1313/1313 [==============================] - 3s 2ms/step - loss: 0.0052 - acc: 0.9985 - val_loss: 0.3607 - val_acc: 0.9708\n",
            "Epoch 83/100\n",
            "1313/1313 [==============================] - 3s 2ms/step - loss: 0.0050 - acc: 0.9986 - val_loss: 0.3186 - val_acc: 0.9704\n",
            "Epoch 84/100\n",
            "1313/1313 [==============================] - 3s 2ms/step - loss: 0.0046 - acc: 0.9987 - val_loss: 0.3212 - val_acc: 0.9719\n",
            "Epoch 85/100\n",
            "1313/1313 [==============================] - 3s 2ms/step - loss: 0.0045 - acc: 0.9986 - val_loss: 0.3405 - val_acc: 0.9726\n",
            "Epoch 86/100\n",
            "1313/1313 [==============================] - 3s 2ms/step - loss: 0.0047 - acc: 0.9988 - val_loss: 0.3797 - val_acc: 0.9684\n",
            "Epoch 87/100\n",
            "1313/1313 [==============================] - 3s 2ms/step - loss: 0.0055 - acc: 0.9986 - val_loss: 0.3596 - val_acc: 0.9694\n",
            "Epoch 88/100\n",
            "1313/1313 [==============================] - 3s 2ms/step - loss: 0.0055 - acc: 0.9985 - val_loss: 0.3519 - val_acc: 0.9698\n",
            "Epoch 89/100\n",
            "1313/1313 [==============================] - 3s 2ms/step - loss: 0.0039 - acc: 0.9989 - val_loss: 0.3526 - val_acc: 0.9711\n",
            "Epoch 90/100\n",
            "1313/1313 [==============================] - 3s 2ms/step - loss: 0.0062 - acc: 0.9984 - val_loss: 0.3598 - val_acc: 0.9717\n",
            "Epoch 91/100\n",
            "1313/1313 [==============================] - 3s 2ms/step - loss: 0.0039 - acc: 0.9990 - val_loss: 0.3544 - val_acc: 0.9713\n",
            "Epoch 92/100\n",
            "1313/1313 [==============================] - 3s 2ms/step - loss: 0.0062 - acc: 0.9984 - val_loss: 0.3321 - val_acc: 0.9716\n",
            "Epoch 93/100\n",
            "1313/1313 [==============================] - 3s 2ms/step - loss: 0.0031 - acc: 0.9990 - val_loss: 0.3489 - val_acc: 0.9730\n",
            "Epoch 94/100\n",
            "1313/1313 [==============================] - 3s 2ms/step - loss: 0.0062 - acc: 0.9986 - val_loss: 0.3495 - val_acc: 0.9723\n",
            "Epoch 95/100\n",
            "1313/1313 [==============================] - 3s 2ms/step - loss: 0.0071 - acc: 0.9986 - val_loss: 0.3847 - val_acc: 0.9705\n",
            "Epoch 96/100\n",
            "1313/1313 [==============================] - 3s 2ms/step - loss: 0.0042 - acc: 0.9988 - val_loss: 0.3927 - val_acc: 0.9702\n",
            "Epoch 97/100\n",
            "1313/1313 [==============================] - 3s 2ms/step - loss: 0.0041 - acc: 0.9989 - val_loss: 0.3865 - val_acc: 0.9694\n",
            "Epoch 98/100\n",
            "1313/1313 [==============================] - 3s 2ms/step - loss: 0.0063 - acc: 0.9984 - val_loss: 0.3868 - val_acc: 0.9699\n",
            "Epoch 99/100\n",
            "1313/1313 [==============================] - 3s 2ms/step - loss: 0.0061 - acc: 0.9983 - val_loss: 0.4203 - val_acc: 0.9684\n",
            "Epoch 100/100\n",
            "1313/1313 [==============================] - 3s 2ms/step - loss: 0.0041 - acc: 0.9991 - val_loss: 0.3574 - val_acc: 0.9728\n"
          ],
          "name": "stdout"
        }
      ]
    },
    {
      "cell_type": "markdown",
      "metadata": {
        "id": "Njg34SrrKvXJ"
      },
      "source": [
        "# evaluation"
      ]
    },
    {
      "cell_type": "code",
      "metadata": {
        "colab": {
          "base_uri": "https://localhost:8080/"
        },
        "id": "1ITt8KuxLIrm",
        "outputId": "71d03563-e5b2-4cd5-df85-0102ced2cd4c"
      },
      "source": [
        "hist.history.keys()"
      ],
      "execution_count": 12,
      "outputs": [
        {
          "output_type": "execute_result",
          "data": {
            "text/plain": [
              "dict_keys(['loss', 'acc', 'val_loss', 'val_acc'])"
            ]
          },
          "metadata": {
            "tags": []
          },
          "execution_count": 12
        }
      ]
    },
    {
      "cell_type": "code",
      "metadata": {
        "colab": {
          "base_uri": "https://localhost:8080/",
          "height": 265
        },
        "id": "4E8n7yyk_npO",
        "outputId": "681f62b1-b377-40a1-8e64-9b875dac667d"
      },
      "source": [
        "import matplotlib.pyplot as plt\n",
        "\n",
        "plt.plot(hist.history['loss'])\n",
        "plt.plot(hist.history['val_loss'], 'b-')\n",
        "plt.show()"
      ],
      "execution_count": 13,
      "outputs": [
        {
          "output_type": "display_data",
          "data": {
            "image/png": "[encoded data removed]",
            "text/plain": [
              "<Figure size 432x288 with 1 Axes>"
            ]
          },
          "metadata": {
            "tags": [],
            "needs_background": "light"
          }
        }
      ]
    },
    {
      "cell_type": "code",
      "metadata": {
        "colab": {
          "base_uri": "https://localhost:8080/",
          "height": 265
        },
        "id": "K3kgroEWLaAC",
        "outputId": "4951d070-7bb3-4f1a-a083-98a046d4ca8e"
      },
      "source": [
        "plt.plot(hist.history['acc'])\n",
        "plt.plot(hist.history['val_acc'], 'r-')\n",
        "plt.show()"
      ],
      "execution_count": 14,
      "outputs": [
        {
          "output_type": "display_data",
          "data": {
            "image/png": "[encoded data removed]",
            "text/plain": [
              "<Figure size 432x288 with 1 Axes>"
            ]
          },
          "metadata": {
            "tags": [],
            "needs_background": "light"
          }
        }
      ]
    },
    {
      "cell_type": "markdown",
      "metadata": {
        "id": "waUJbDwZMpro"
      },
      "source": [
        "# service"
      ]
    },
    {
      "cell_type": "code",
      "metadata": {
        "colab": {
          "base_uri": "https://localhost:8080/"
        },
        "id": "RefBdd7SMoLs",
        "outputId": "2f011395-7820-4fe2-9990-815a04242f1e"
      },
      "source": [
        "y_test[30]"
      ],
      "execution_count": 15,
      "outputs": [
        {
          "output_type": "execute_result",
          "data": {
            "text/plain": [
              "3"
            ]
          },
          "metadata": {
            "tags": []
          },
          "execution_count": 15
        }
      ]
    },
    {
      "cell_type": "code",
      "metadata": {
        "colab": {
          "base_uri": "https://localhost:8080/"
        },
        "id": "-HbDMb7yMtX8",
        "outputId": "35dcfc3a-e4fc-4b6e-9197-0f3666f1ebde"
      },
      "source": [
        "import numpy as np\n",
        "# np.set_printoptions(precision=8)\n",
        "\n",
        "pred = model.predict(x_test[30:31])\n",
        "pred"
      ],
      "execution_count": 21,
      "outputs": [
        {
          "output_type": "execute_result",
          "data": {
            "text/plain": [
              "array([[0.0000000e+00, 0.0000000e+00, 0.0000000e+00, 1.0000000e+00,\n",
              "        0.0000000e+00, 5.8489150e-34, 0.0000000e+00, 1.1790589e-34,\n",
              "        0.0000000e+00, 1.4442462e-31]], dtype=float32)"
            ]
          },
          "metadata": {
            "tags": []
          },
          "execution_count": 21
        }
      ]
    },
    {
      "cell_type": "code",
      "metadata": {
        "colab": {
          "base_uri": "https://localhost:8080/"
        },
        "id": "97CMDgZFnj0c",
        "outputId": "e69e1e9b-a986-47b2-f71b-492dd6aa10d7"
      },
      "source": [
        "model.save('./model_save')"
      ],
      "execution_count": 22,
      "outputs": [
        {
          "output_type": "stream",
          "text": [
            "INFO:tensorflow:Assets written to: ./model_save/assets\n"
          ],
          "name": "stdout"
        }
      ]
    },
    {
      "cell_type": "code",
      "metadata": {
        "id": "rQKR06dl6kd6"
      },
      "source": [
        "model.save('./model_save01.h5')"
      ],
      "execution_count": 23,
      "outputs": []
    },
    {
      "cell_type": "code",
      "metadata": {
        "colab": {
          "base_uri": "https://localhost:8080/"
        },
        "id": "t7zobRL87Hmk",
        "outputId": "12c3edb8-91fb-4035-8675-0908375cb5a3"
      },
      "source": [
        "model_load = tf.keras.models.load_model('./model_save01.h5')\n",
        "model_load"
      ],
      "execution_count": 27,
      "outputs": [
        {
          "output_type": "execute_result",
          "data": {
            "text/plain": [
              "<tensorflow.python.keras.engine.sequential.Sequential at 0x7f7c9096eed0>"
            ]
          },
          "metadata": {
            "tags": []
          },
          "execution_count": 27
        }
      ]
    },
    {
      "cell_type": "code",
      "metadata": {
        "colab": {
          "base_uri": "https://localhost:8080/"
        },
        "id": "XXfPjE7S8Y4-",
        "outputId": "07a18044-fbda-4644-ff59-7b20748a8d0d"
      },
      "source": [
        "load_pred = model_load.predict(x_test[30:31])\n",
        "load_pred"
      ],
      "execution_count": 28,
      "outputs": [
        {
          "output_type": "execute_result",
          "data": {
            "text/plain": [
              "array([[0.0000000e+00, 0.0000000e+00, 0.0000000e+00, 1.0000000e+00,\n",
              "        0.0000000e+00, 5.8489150e-34, 0.0000000e+00, 1.1790589e-34,\n",
              "        0.0000000e+00, 1.4442462e-31]], dtype=float32)"
            ]
          },
          "metadata": {
            "tags": []
          },
          "execution_count": 28
        }
      ]
    },
    {
      "cell_type": "code",
      "metadata": {
        "id": "8XqPMuZu9Qe-"
      },
      "source": [
        ""
      ],
      "execution_count": null,
      "outputs": []
    }
  ]
}