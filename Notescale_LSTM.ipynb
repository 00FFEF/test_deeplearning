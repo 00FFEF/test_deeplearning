{
  "nbformat": 4,
  "nbformat_minor": 0,
  "metadata": {
    "colab": {
      "name": "Notescale_LSTM.ipynb",
      "provenance": [],
      "collapsed_sections": [],
      "authorship_tag": "ABX9TyPZQXu6+ty7wGWgCGaZOv7o"
    },
    "kernelspec": {
      "name": "python3",
      "display_name": "Python 3"
    },
    "language_info": {
      "name": "python"
    }
  },
  "cells": [
    {
      "cell_type": "code",
      "metadata": {
        "id": "8vo5sG57lBo8"
      },
      "source": [
        "note_seq = ['g8', 'e8', 'e4', 'f8', 'd8', 'd4', 'c8', 'd8', 'e8', 'f8', 'g8', 'g8', 'g4',\n",
        "       'g8', 'e8', 'e8', 'e8', 'f8', 'd8', 'd4', 'c8', 'e8', 'g8', 'g8', 'e8', 'e8', 'e4',\n",
        "       'd8', 'd8', 'd8', 'd8', 'd8', 'e8', 'f4', 'e8', 'e8', 'e8', 'e8', 'e8', 'f8', 'g4',\n",
        "       'g8', 'e8', 'e4', 'f8', 'd8', 'd4', 'c8', 'e8', 'g8', 'g8', 'e8', 'e8', 'e4']"
      ],
      "execution_count": 7,
      "outputs": []
    },
    {
      "cell_type": "code",
      "metadata": {
        "colab": {
          "base_uri": "https://localhost:8080/"
        },
        "id": "r-i_UBR3n-6L",
        "outputId": "7f7ab389-00bc-44c3-9239-7277c1415b63"
      },
      "source": [
        "note_seq[0:4], note_seq[1:5], note_seq[2:6]"
      ],
      "execution_count": 11,
      "outputs": [
        {
          "output_type": "execute_result",
          "data": {
            "text/plain": [
              "(['g8', 'e8', 'e4', 'f8'], ['e8', 'e4', 'f8', 'd8'], ['e4', 'f8', 'd8', 'd4'])"
            ]
          },
          "metadata": {
            "tags": []
          },
          "execution_count": 11
        }
      ]
    },
    {
      "cell_type": "code",
      "metadata": {
        "id": "kKGvqiIzlid5"
      },
      "source": [
        "code2idx = {'c4':0, 'd4':1, 'e4':2, 'f4':3, 'g4':4, 'a4':5, 'b4':6,\n",
        "            'c8':7, 'd8':8, 'e8':9, 'f8':10, 'g8':11, 'a8':12, 'b8':13}"
      ],
      "execution_count": 2,
      "outputs": []
    },
    {
      "cell_type": "code",
      "metadata": {
        "colab": {
          "base_uri": "https://localhost:8080/"
        },
        "id": "Z-qC9DCCnf2N",
        "outputId": "cadd0388-8f7b-41c0-f85f-4fe646ace6cc"
      },
      "source": [
        "range(len(note_seq)-4)"
      ],
      "execution_count": 5,
      "outputs": [
        {
          "output_type": "execute_result",
          "data": {
            "text/plain": [
              "range(0, 50)"
            ]
          },
          "metadata": {
            "tags": []
          },
          "execution_count": 5
        }
      ]
    },
    {
      "cell_type": "code",
      "metadata": {
        "colab": {
          "base_uri": "https://localhost:8080/"
        },
        "id": "ijg016qbljAS",
        "outputId": "0b5b0d93-e4e8-4501-f8a2-843ea699eee7"
      },
      "source": [
        "for i in range(len(note_seq)-4):\n",
        "  subset = note_seq[i:i+4]\n",
        "  print(subset)\n",
        "  for item in subset:\n",
        "    print(code2idx[item])"
      ],
      "execution_count": 13,
      "outputs": [
        {
          "output_type": "stream",
          "text": [
            "['g8', 'e8', 'e4', 'f8']\n",
            "11\n",
            "9\n",
            "2\n",
            "10\n",
            "['e8', 'e4', 'f8', 'd8']\n",
            "9\n",
            "2\n",
            "10\n",
            "8\n",
            "['e4', 'f8', 'd8', 'd4']\n",
            "2\n",
            "10\n",
            "8\n",
            "1\n",
            "['f8', 'd8', 'd4', 'c8']\n",
            "10\n",
            "8\n",
            "1\n",
            "7\n",
            "['d8', 'd4', 'c8', 'd8']\n",
            "8\n",
            "1\n",
            "7\n",
            "8\n",
            "['d4', 'c8', 'd8', 'e8']\n",
            "1\n",
            "7\n",
            "8\n",
            "9\n",
            "['c8', 'd8', 'e8', 'f8']\n",
            "7\n",
            "8\n",
            "9\n",
            "10\n",
            "['d8', 'e8', 'f8', 'g8']\n",
            "8\n",
            "9\n",
            "10\n",
            "11\n",
            "['e8', 'f8', 'g8', 'g8']\n",
            "9\n",
            "10\n",
            "11\n",
            "11\n",
            "['f8', 'g8', 'g8', 'g4']\n",
            "10\n",
            "11\n",
            "11\n",
            "4\n",
            "['g8', 'g8', 'g4', 'g8']\n",
            "11\n",
            "11\n",
            "4\n",
            "11\n",
            "['g8', 'g4', 'g8', 'e8']\n",
            "11\n",
            "4\n",
            "11\n",
            "9\n",
            "['g4', 'g8', 'e8', 'e8']\n",
            "4\n",
            "11\n",
            "9\n",
            "9\n",
            "['g8', 'e8', 'e8', 'e8']\n",
            "11\n",
            "9\n",
            "9\n",
            "9\n",
            "['e8', 'e8', 'e8', 'f8']\n",
            "9\n",
            "9\n",
            "9\n",
            "10\n",
            "['e8', 'e8', 'f8', 'd8']\n",
            "9\n",
            "9\n",
            "10\n",
            "8\n",
            "['e8', 'f8', 'd8', 'd4']\n",
            "9\n",
            "10\n",
            "8\n",
            "1\n",
            "['f8', 'd8', 'd4', 'c8']\n",
            "10\n",
            "8\n",
            "1\n",
            "7\n",
            "['d8', 'd4', 'c8', 'e8']\n",
            "8\n",
            "1\n",
            "7\n",
            "9\n",
            "['d4', 'c8', 'e8', 'g8']\n",
            "1\n",
            "7\n",
            "9\n",
            "11\n",
            "['c8', 'e8', 'g8', 'g8']\n",
            "7\n",
            "9\n",
            "11\n",
            "11\n",
            "['e8', 'g8', 'g8', 'e8']\n",
            "9\n",
            "11\n",
            "11\n",
            "9\n",
            "['g8', 'g8', 'e8', 'e8']\n",
            "11\n",
            "11\n",
            "9\n",
            "9\n",
            "['g8', 'e8', 'e8', 'e4']\n",
            "11\n",
            "9\n",
            "9\n",
            "2\n",
            "['e8', 'e8', 'e4', 'd8']\n",
            "9\n",
            "9\n",
            "2\n",
            "8\n",
            "['e8', 'e4', 'd8', 'd8']\n",
            "9\n",
            "2\n",
            "8\n",
            "8\n",
            "['e4', 'd8', 'd8', 'd8']\n",
            "2\n",
            "8\n",
            "8\n",
            "8\n",
            "['d8', 'd8', 'd8', 'd8']\n",
            "8\n",
            "8\n",
            "8\n",
            "8\n",
            "['d8', 'd8', 'd8', 'd8']\n",
            "8\n",
            "8\n",
            "8\n",
            "8\n",
            "['d8', 'd8', 'd8', 'e8']\n",
            "8\n",
            "8\n",
            "8\n",
            "9\n",
            "['d8', 'd8', 'e8', 'f4']\n",
            "8\n",
            "8\n",
            "9\n",
            "3\n",
            "['d8', 'e8', 'f4', 'e8']\n",
            "8\n",
            "9\n",
            "3\n",
            "9\n",
            "['e8', 'f4', 'e8', 'e8']\n",
            "9\n",
            "3\n",
            "9\n",
            "9\n",
            "['f4', 'e8', 'e8', 'e8']\n",
            "3\n",
            "9\n",
            "9\n",
            "9\n",
            "['e8', 'e8', 'e8', 'e8']\n",
            "9\n",
            "9\n",
            "9\n",
            "9\n",
            "['e8', 'e8', 'e8', 'e8']\n",
            "9\n",
            "9\n",
            "9\n",
            "9\n",
            "['e8', 'e8', 'e8', 'f8']\n",
            "9\n",
            "9\n",
            "9\n",
            "10\n",
            "['e8', 'e8', 'f8', 'g4']\n",
            "9\n",
            "9\n",
            "10\n",
            "4\n",
            "['e8', 'f8', 'g4', 'g8']\n",
            "9\n",
            "10\n",
            "4\n",
            "11\n",
            "['f8', 'g4', 'g8', 'e8']\n",
            "10\n",
            "4\n",
            "11\n",
            "9\n",
            "['g4', 'g8', 'e8', 'e4']\n",
            "4\n",
            "11\n",
            "9\n",
            "2\n",
            "['g8', 'e8', 'e4', 'f8']\n",
            "11\n",
            "9\n",
            "2\n",
            "10\n",
            "['e8', 'e4', 'f8', 'd8']\n",
            "9\n",
            "2\n",
            "10\n",
            "8\n",
            "['e4', 'f8', 'd8', 'd4']\n",
            "2\n",
            "10\n",
            "8\n",
            "1\n",
            "['f8', 'd8', 'd4', 'c8']\n",
            "10\n",
            "8\n",
            "1\n",
            "7\n",
            "['d8', 'd4', 'c8', 'e8']\n",
            "8\n",
            "1\n",
            "7\n",
            "9\n",
            "['d4', 'c8', 'e8', 'g8']\n",
            "1\n",
            "7\n",
            "9\n",
            "11\n",
            "['c8', 'e8', 'g8', 'g8']\n",
            "7\n",
            "9\n",
            "11\n",
            "11\n",
            "['e8', 'g8', 'g8', 'e8']\n",
            "9\n",
            "11\n",
            "11\n",
            "9\n",
            "['g8', 'g8', 'e8', 'e8']\n",
            "11\n",
            "11\n",
            "9\n",
            "9\n"
          ],
          "name": "stdout"
        }
      ]
    },
    {
      "cell_type": "code",
      "metadata": {
        "id": "tXcYlWXiozZq"
      },
      "source": [
        ""
      ],
      "execution_count": null,
      "outputs": []
    }
  ]
}