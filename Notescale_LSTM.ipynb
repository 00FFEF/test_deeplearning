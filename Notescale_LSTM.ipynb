{
  "nbformat": 4,
  "nbformat_minor": 0,
  "metadata": {
    "colab": {
      "name": "Notescale_LSTM.ipynb",
      "provenance": [],
      "collapsed_sections": [],
      "authorship_tag": "ABX9TyPCEzNpZcG+DQ10bFbFfP5e"
    },
    "kernelspec": {
      "name": "python3",
      "display_name": "Python 3"
    },
    "language_info": {
      "name": "python"
    }
  },
  "cells": [
    {
      "cell_type": "code",
      "metadata": {
        "id": "8vo5sG57lBo8"
      },
      "source": [
        "note_seq = ['g8', 'e8', 'e4', 'f8', 'd8', 'd4', 'c8', 'd8', 'e8', 'f8', 'g8', 'g8', 'g4',\n",
        "       'g8', 'e8', 'e8', 'e8', 'f8', 'd8', 'd4', 'c8', 'e8', 'g8', 'g8', 'e8', 'e8', 'e4',\n",
        "       'd8', 'd8', 'd8', 'd8', 'd8', 'e8', 'f4', 'e8', 'e8', 'e8', 'e8', 'e8', 'f8', 'g4',\n",
        "       'g8', 'e8', 'e4', 'f8', 'd8', 'd4', 'c8', 'e8', 'g8', 'g8', 'e8', 'e8', 'e4']"
      ],
      "execution_count": 1,
      "outputs": []
    },
    {
      "cell_type": "code",
      "metadata": {
        "colab": {
          "base_uri": "https://localhost:8080/"
        },
        "id": "r-i_UBR3n-6L",
        "outputId": "2320e238-9fe4-42c5-c573-68e6e49ef239"
      },
      "source": [
        "note_seq[0:4], note_seq[1:5], note_seq[2:6]"
      ],
      "execution_count": 2,
      "outputs": [
        {
          "output_type": "execute_result",
          "data": {
            "text/plain": [
              "(['g8', 'e8', 'e4', 'f8'], ['e8', 'e4', 'f8', 'd8'], ['e4', 'f8', 'd8', 'd4'])"
            ]
          },
          "metadata": {
            "tags": []
          },
          "execution_count": 2
        }
      ]
    },
    {
      "cell_type": "code",
      "metadata": {
        "id": "kKGvqiIzlid5"
      },
      "source": [
        "code2idx = {'c4':0, 'd4':1, 'e4':2, 'f4':3, 'g4':4, 'a4':5, 'b4':6,\n",
        "            'c8':7, 'd8':8, 'e8':9, 'f8':10, 'g8':11, 'a8':12, 'b8':13}"
      ],
      "execution_count": 3,
      "outputs": []
    },
    {
      "cell_type": "code",
      "metadata": {
        "colab": {
          "base_uri": "https://localhost:8080/"
        },
        "id": "Z-qC9DCCnf2N",
        "outputId": "a8acbe26-908d-422b-e019-cdc5c7ff7a9b"
      },
      "source": [
        "range(len(note_seq)-4)"
      ],
      "execution_count": 4,
      "outputs": [
        {
          "output_type": "execute_result",
          "data": {
            "text/plain": [
              "range(0, 50)"
            ]
          },
          "metadata": {
            "tags": []
          },
          "execution_count": 4
        }
      ]
    },
    {
      "cell_type": "code",
      "metadata": {
        "colab": {
          "base_uri": "https://localhost:8080/"
        },
        "id": "ijg016qbljAS",
        "outputId": "07eeb2a4-9382-40f4-eb16-9a086bab018f"
      },
      "source": [
        "dataset = list()\n",
        "for i in range(len(note_seq)-3):\n",
        "  subset = note_seq[i:i+4]\n",
        "  items = list()\n",
        "  # print(subset)\n",
        "  for item in subset:\n",
        "    # print(code2idx[item])\n",
        "    items.append(code2idx[item])\n",
        "  # print(items)\n",
        "  dataset.append(items)\n",
        "\n",
        "print(dataset)"
      ],
      "execution_count": 5,
      "outputs": [
        {
          "output_type": "stream",
          "text": [
            "[[11, 9, 2, 10], [9, 2, 10, 8], [2, 10, 8, 1], [10, 8, 1, 7], [8, 1, 7, 8], [1, 7, 8, 9], [7, 8, 9, 10], [8, 9, 10, 11], [9, 10, 11, 11], [10, 11, 11, 4], [11, 11, 4, 11], [11, 4, 11, 9], [4, 11, 9, 9], [11, 9, 9, 9], [9, 9, 9, 10], [9, 9, 10, 8], [9, 10, 8, 1], [10, 8, 1, 7], [8, 1, 7, 9], [1, 7, 9, 11], [7, 9, 11, 11], [9, 11, 11, 9], [11, 11, 9, 9], [11, 9, 9, 2], [9, 9, 2, 8], [9, 2, 8, 8], [2, 8, 8, 8], [8, 8, 8, 8], [8, 8, 8, 8], [8, 8, 8, 9], [8, 8, 9, 3], [8, 9, 3, 9], [9, 3, 9, 9], [3, 9, 9, 9], [9, 9, 9, 9], [9, 9, 9, 9], [9, 9, 9, 10], [9, 9, 10, 4], [9, 10, 4, 11], [10, 4, 11, 9], [4, 11, 9, 2], [11, 9, 2, 10], [9, 2, 10, 8], [2, 10, 8, 1], [10, 8, 1, 7], [8, 1, 7, 9], [1, 7, 9, 11], [7, 9, 11, 11], [9, 11, 11, 9], [11, 11, 9, 9], [11, 9, 9, 2]]\n"
          ],
          "name": "stdout"
        }
      ]
    },
    {
      "cell_type": "code",
      "metadata": {
        "id": "n-eFA36jV0U3"
      },
      "source": [
        "import numpy as np"
      ],
      "execution_count": 6,
      "outputs": []
    },
    {
      "cell_type": "code",
      "metadata": {
        "id": "RtHbropsV4I-"
      },
      "source": [
        "datasets = np.array(dataset)"
      ],
      "execution_count": 7,
      "outputs": []
    },
    {
      "cell_type": "code",
      "metadata": {
        "id": "tXcYlWXiozZq",
        "colab": {
          "base_uri": "https://localhost:8080/"
        },
        "outputId": "175dc5d5-db92-4a2a-d4ee-22888f03981f"
      },
      "source": [
        "x_train = datasets[:,0:3]\n",
        "x_train.shape, #x_train"
      ],
      "execution_count": 8,
      "outputs": [
        {
          "output_type": "execute_result",
          "data": {
            "text/plain": [
              "((51, 3),)"
            ]
          },
          "metadata": {
            "tags": []
          },
          "execution_count": 8
        }
      ]
    },
    {
      "cell_type": "code",
      "metadata": {
        "colab": {
          "base_uri": "https://localhost:8080/"
        },
        "id": "WiXE-rTCV9hM",
        "outputId": "8694afc0-724c-453a-aaf6-6016992900be"
      },
      "source": [
        "y_train = datasets[:,3]\n",
        "y_train.shape, #y_train"
      ],
      "execution_count": 9,
      "outputs": [
        {
          "output_type": "execute_result",
          "data": {
            "text/plain": [
              "((51,),)"
            ]
          },
          "metadata": {
            "tags": []
          },
          "execution_count": 9
        }
      ]
    },
    {
      "cell_type": "code",
      "metadata": {
        "colab": {
          "base_uri": "https://localhost:8080/"
        },
        "id": "A5VmC_ThWLbE",
        "outputId": "6a63a280-cdb5-4003-b182-9ba1592ad572"
      },
      "source": [
        "len(code2idx)"
      ],
      "execution_count": 10,
      "outputs": [
        {
          "output_type": "execute_result",
          "data": {
            "text/plain": [
              "14"
            ]
          },
          "metadata": {
            "tags": []
          },
          "execution_count": 10
        }
      ]
    },
    {
      "cell_type": "code",
      "metadata": {
        "colab": {
          "base_uri": "https://localhost:8080/"
        },
        "id": "hmcKmthPWRis",
        "outputId": "51ce3679-79d7-446d-81c0-1a3e4bdb33e9"
      },
      "source": [
        "x_train = x_train / 13 # len(code2idx)\n",
        "x_train[3]"
      ],
      "execution_count": 11,
      "outputs": [
        {
          "output_type": "execute_result",
          "data": {
            "text/plain": [
              "array([0.76923077, 0.61538462, 0.07692308])"
            ]
          },
          "metadata": {
            "tags": []
          },
          "execution_count": 11
        }
      ]
    },
    {
      "cell_type": "markdown",
      "metadata": {
        "id": "YSpCRSl6XluY"
      },
      "source": [
        "# make model"
      ]
    },
    {
      "cell_type": "code",
      "metadata": {
        "id": "1irvMgcKXiyO"
      },
      "source": [
        "import tensorflow as tf"
      ],
      "execution_count": 12,
      "outputs": []
    },
    {
      "cell_type": "code",
      "metadata": {
        "colab": {
          "base_uri": "https://localhost:8080/"
        },
        "id": "Us1qE_uHd69S",
        "outputId": "33b3c193-7c02-4e29-e2e1-2920f45ef4f2"
      },
      "source": [
        "x_train.shape, x_train[2]"
      ],
      "execution_count": 13,
      "outputs": [
        {
          "output_type": "execute_result",
          "data": {
            "text/plain": [
              "((51, 3), array([0.15384615, 0.76923077, 0.61538462]))"
            ]
          },
          "metadata": {
            "tags": []
          },
          "execution_count": 13
        }
      ]
    },
    {
      "cell_type": "code",
      "metadata": {
        "colab": {
          "base_uri": "https://localhost:8080/"
        },
        "id": "-ii4cA3od9W2",
        "outputId": "50597425-bb94-4246-e8d9-39d309178707"
      },
      "source": [
        "X_train = np.reshape(x_train, (-1, 3, 1))\n",
        "X_train.shape, X_train[2]"
      ],
      "execution_count": 14,
      "outputs": [
        {
          "output_type": "execute_result",
          "data": {
            "text/plain": [
              "((51, 3, 1), array([[0.15384615],\n",
              "        [0.76923077],\n",
              "        [0.61538462]]))"
            ]
          },
          "metadata": {
            "tags": []
          },
          "execution_count": 14
        }
      ]
    },
    {
      "cell_type": "code",
      "metadata": {
        "colab": {
          "base_uri": "https://localhost:8080/"
        },
        "id": "syPMEzUUgrVS",
        "outputId": "62cdaa47-09c2-44e3-8d00-f04c3c86be1a"
      },
      "source": [
        "np.unique(y_train)"
      ],
      "execution_count": 15,
      "outputs": [
        {
          "output_type": "execute_result",
          "data": {
            "text/plain": [
              "array([ 1,  2,  3,  4,  7,  8,  9, 10, 11])"
            ]
          },
          "metadata": {
            "tags": []
          },
          "execution_count": 15
        }
      ]
    },
    {
      "cell_type": "code",
      "metadata": {
        "colab": {
          "base_uri": "https://localhost:8080/"
        },
        "id": "rcf4xs6TX209",
        "outputId": "006228fa-a921-445d-eb14-3e3b78485542"
      },
      "source": [
        "model = tf.keras.models.Sequential()\n",
        "\n",
        "model.add(tf.keras.Input(shape=(3, 1)))\n",
        "model.add(tf.keras.layers.LSTM(128)) # (batch_size, timesteps, input_dim)\n",
        "model.add(tf.keras.layers.Dense(14, activation='softmax'))\n",
        "\n",
        "model.compile(optimizer='adam', loss='sparse_categorical_crossentropy', metrics=['accuracy'])"
      ],
      "execution_count": 16,
      "outputs": [
        {
          "output_type": "stream",
          "text": [
            "WARNING:tensorflow:Please add `keras.layers.InputLayer` instead of `keras.Input` to Sequential model. `keras.Input` is intended to be used by Functional model.\n"
          ],
          "name": "stdout"
        }
      ]
    },
    {
      "cell_type": "code",
      "metadata": {
        "colab": {
          "base_uri": "https://localhost:8080/"
        },
        "id": "wasTRjWUhqwX",
        "outputId": "1547f7dd-dbe7-41fd-ccd1-b6853f5c6064"
      },
      "source": [
        "hist = model.fit(X_train, y_train, epochs=500, batch_size=10)"
      ],
      "execution_count": 26,
      "outputs": [
        {
          "output_type": "stream",
          "text": [
            "Epoch 1/500\n",
            "6/6 [==============================] - 0s 5ms/step - loss: 1.0652 - accuracy: 0.5686\n",
            "Epoch 2/500\n",
            "6/6 [==============================] - 0s 5ms/step - loss: 1.0919 - accuracy: 0.5490\n",
            "Epoch 3/500\n",
            "6/6 [==============================] - 0s 5ms/step - loss: 1.0473 - accuracy: 0.5490\n",
            "Epoch 4/500\n",
            "6/6 [==============================] - 0s 5ms/step - loss: 1.0581 - accuracy: 0.5490\n",
            "Epoch 5/500\n",
            "6/6 [==============================] - 0s 5ms/step - loss: 1.0416 - accuracy: 0.6078\n",
            "Epoch 6/500\n",
            "6/6 [==============================] - 0s 5ms/step - loss: 1.0366 - accuracy: 0.6275\n",
            "Epoch 7/500\n",
            "6/6 [==============================] - 0s 5ms/step - loss: 1.0542 - accuracy: 0.6078\n",
            "Epoch 8/500\n",
            "6/6 [==============================] - 0s 5ms/step - loss: 1.0493 - accuracy: 0.5882\n",
            "Epoch 9/500\n",
            "6/6 [==============================] - 0s 5ms/step - loss: 1.0517 - accuracy: 0.6078\n",
            "Epoch 10/500\n",
            "6/6 [==============================] - 0s 5ms/step - loss: 1.0586 - accuracy: 0.6078\n",
            "Epoch 11/500\n",
            "6/6 [==============================] - 0s 5ms/step - loss: 1.0461 - accuracy: 0.6078\n",
            "Epoch 12/500\n",
            "6/6 [==============================] - 0s 5ms/step - loss: 1.0303 - accuracy: 0.6078\n",
            "Epoch 13/500\n",
            "6/6 [==============================] - 0s 5ms/step - loss: 1.0507 - accuracy: 0.5490\n",
            "Epoch 14/500\n",
            "6/6 [==============================] - 0s 5ms/step - loss: 1.0420 - accuracy: 0.5490\n",
            "Epoch 15/500\n",
            "6/6 [==============================] - 0s 6ms/step - loss: 1.0385 - accuracy: 0.5490\n",
            "Epoch 16/500\n",
            "6/6 [==============================] - 0s 5ms/step - loss: 1.0314 - accuracy: 0.5882\n",
            "Epoch 17/500\n",
            "6/6 [==============================] - 0s 5ms/step - loss: 1.0170 - accuracy: 0.6078\n",
            "Epoch 18/500\n",
            "6/6 [==============================] - 0s 5ms/step - loss: 1.0142 - accuracy: 0.5882\n",
            "Epoch 19/500\n",
            "6/6 [==============================] - 0s 5ms/step - loss: 0.9999 - accuracy: 0.5882\n",
            "Epoch 20/500\n",
            "6/6 [==============================] - 0s 5ms/step - loss: 1.0024 - accuracy: 0.5882\n",
            "Epoch 21/500\n",
            "6/6 [==============================] - 0s 5ms/step - loss: 1.0154 - accuracy: 0.6275\n",
            "Epoch 22/500\n",
            "6/6 [==============================] - 0s 5ms/step - loss: 1.0085 - accuracy: 0.6275\n",
            "Epoch 23/500\n",
            "6/6 [==============================] - 0s 5ms/step - loss: 1.0188 - accuracy: 0.6078\n",
            "Epoch 24/500\n",
            "6/6 [==============================] - 0s 6ms/step - loss: 1.0280 - accuracy: 0.5882\n",
            "Epoch 25/500\n",
            "6/6 [==============================] - 0s 5ms/step - loss: 1.0221 - accuracy: 0.6275\n",
            "Epoch 26/500\n",
            "6/6 [==============================] - 0s 5ms/step - loss: 1.0304 - accuracy: 0.6275\n",
            "Epoch 27/500\n",
            "6/6 [==============================] - 0s 5ms/step - loss: 1.0163 - accuracy: 0.5882\n",
            "Epoch 28/500\n",
            "6/6 [==============================] - 0s 5ms/step - loss: 1.0062 - accuracy: 0.5882\n",
            "Epoch 29/500\n",
            "6/6 [==============================] - 0s 7ms/step - loss: 1.0024 - accuracy: 0.6078\n",
            "Epoch 30/500\n",
            "6/6 [==============================] - 0s 6ms/step - loss: 1.0198 - accuracy: 0.6275\n",
            "Epoch 31/500\n",
            "6/6 [==============================] - 0s 5ms/step - loss: 1.0132 - accuracy: 0.5686\n",
            "Epoch 32/500\n",
            "6/6 [==============================] - 0s 5ms/step - loss: 1.0840 - accuracy: 0.5294\n",
            "Epoch 33/500\n",
            "6/6 [==============================] - 0s 6ms/step - loss: 1.0226 - accuracy: 0.6275\n",
            "Epoch 34/500\n",
            "6/6 [==============================] - 0s 5ms/step - loss: 1.0012 - accuracy: 0.6275\n",
            "Epoch 35/500\n",
            "6/6 [==============================] - 0s 5ms/step - loss: 0.9918 - accuracy: 0.6078\n",
            "Epoch 36/500\n",
            "6/6 [==============================] - 0s 5ms/step - loss: 0.9910 - accuracy: 0.6275\n",
            "Epoch 37/500\n",
            "6/6 [==============================] - 0s 5ms/step - loss: 1.0204 - accuracy: 0.5490\n",
            "Epoch 38/500\n",
            "6/6 [==============================] - 0s 5ms/step - loss: 1.0008 - accuracy: 0.5294\n",
            "Epoch 39/500\n",
            "6/6 [==============================] - 0s 6ms/step - loss: 1.0194 - accuracy: 0.5490\n",
            "Epoch 40/500\n",
            "6/6 [==============================] - 0s 5ms/step - loss: 1.0185 - accuracy: 0.5490\n",
            "Epoch 41/500\n",
            "6/6 [==============================] - 0s 6ms/step - loss: 1.0497 - accuracy: 0.5294\n",
            "Epoch 42/500\n",
            "6/6 [==============================] - 0s 5ms/step - loss: 1.0092 - accuracy: 0.5686\n",
            "Epoch 43/500\n",
            "6/6 [==============================] - 0s 5ms/step - loss: 1.0114 - accuracy: 0.6275\n",
            "Epoch 44/500\n",
            "6/6 [==============================] - 0s 5ms/step - loss: 1.0091 - accuracy: 0.6078\n",
            "Epoch 45/500\n",
            "6/6 [==============================] - 0s 6ms/step - loss: 0.9920 - accuracy: 0.6078\n",
            "Epoch 46/500\n",
            "6/6 [==============================] - 0s 6ms/step - loss: 1.0122 - accuracy: 0.6078\n",
            "Epoch 47/500\n",
            "6/6 [==============================] - 0s 5ms/step - loss: 1.0512 - accuracy: 0.5882\n",
            "Epoch 48/500\n",
            "6/6 [==============================] - 0s 5ms/step - loss: 1.0030 - accuracy: 0.6078\n",
            "Epoch 49/500\n",
            "6/6 [==============================] - 0s 5ms/step - loss: 1.0081 - accuracy: 0.5882\n",
            "Epoch 50/500\n",
            "6/6 [==============================] - 0s 6ms/step - loss: 1.0102 - accuracy: 0.5686\n",
            "Epoch 51/500\n",
            "6/6 [==============================] - 0s 5ms/step - loss: 0.9815 - accuracy: 0.6667\n",
            "Epoch 52/500\n",
            "6/6 [==============================] - 0s 5ms/step - loss: 0.9803 - accuracy: 0.6275\n",
            "Epoch 53/500\n",
            "6/6 [==============================] - 0s 5ms/step - loss: 0.9991 - accuracy: 0.6078\n",
            "Epoch 54/500\n",
            "6/6 [==============================] - 0s 5ms/step - loss: 1.0291 - accuracy: 0.5882\n",
            "Epoch 55/500\n",
            "6/6 [==============================] - 0s 6ms/step - loss: 1.0436 - accuracy: 0.6078\n",
            "Epoch 56/500\n",
            "6/6 [==============================] - 0s 6ms/step - loss: 1.0203 - accuracy: 0.6078\n",
            "Epoch 57/500\n",
            "6/6 [==============================] - 0s 5ms/step - loss: 1.0157 - accuracy: 0.6078\n",
            "Epoch 58/500\n",
            "6/6 [==============================] - 0s 5ms/step - loss: 1.0047 - accuracy: 0.5686\n",
            "Epoch 59/500\n",
            "6/6 [==============================] - 0s 6ms/step - loss: 0.9973 - accuracy: 0.6275\n",
            "Epoch 60/500\n",
            "6/6 [==============================] - 0s 6ms/step - loss: 0.9759 - accuracy: 0.6471\n",
            "Epoch 61/500\n",
            "6/6 [==============================] - 0s 6ms/step - loss: 0.9940 - accuracy: 0.6275\n",
            "Epoch 62/500\n",
            "6/6 [==============================] - 0s 5ms/step - loss: 0.9883 - accuracy: 0.6275\n",
            "Epoch 63/500\n",
            "6/6 [==============================] - 0s 6ms/step - loss: 0.9924 - accuracy: 0.6078\n",
            "Epoch 64/500\n",
            "6/6 [==============================] - 0s 5ms/step - loss: 1.0051 - accuracy: 0.6078\n",
            "Epoch 65/500\n",
            "6/6 [==============================] - 0s 5ms/step - loss: 0.9927 - accuracy: 0.6275\n",
            "Epoch 66/500\n",
            "6/6 [==============================] - 0s 8ms/step - loss: 1.0014 - accuracy: 0.5882\n",
            "Epoch 67/500\n",
            "6/6 [==============================] - 0s 8ms/step - loss: 0.9874 - accuracy: 0.6471\n",
            "Epoch 68/500\n",
            "6/6 [==============================] - 0s 6ms/step - loss: 0.9720 - accuracy: 0.6667\n",
            "Epoch 69/500\n",
            "6/6 [==============================] - 0s 5ms/step - loss: 0.9808 - accuracy: 0.6078\n",
            "Epoch 70/500\n",
            "6/6 [==============================] - 0s 5ms/step - loss: 0.9757 - accuracy: 0.6078\n",
            "Epoch 71/500\n",
            "6/6 [==============================] - 0s 5ms/step - loss: 0.9654 - accuracy: 0.6078\n",
            "Epoch 72/500\n",
            "6/6 [==============================] - 0s 6ms/step - loss: 0.9882 - accuracy: 0.5882\n",
            "Epoch 73/500\n",
            "6/6 [==============================] - 0s 5ms/step - loss: 0.9722 - accuracy: 0.6078\n",
            "Epoch 74/500\n",
            "6/6 [==============================] - 0s 5ms/step - loss: 0.9661 - accuracy: 0.6275\n",
            "Epoch 75/500\n",
            "6/6 [==============================] - 0s 5ms/step - loss: 0.9678 - accuracy: 0.6275\n",
            "Epoch 76/500\n",
            "6/6 [==============================] - 0s 6ms/step - loss: 0.9654 - accuracy: 0.6078\n",
            "Epoch 77/500\n",
            "6/6 [==============================] - 0s 5ms/step - loss: 0.9573 - accuracy: 0.6275\n",
            "Epoch 78/500\n",
            "6/6 [==============================] - 0s 6ms/step - loss: 0.9586 - accuracy: 0.6078\n",
            "Epoch 79/500\n",
            "6/6 [==============================] - 0s 6ms/step - loss: 0.9673 - accuracy: 0.6078\n",
            "Epoch 80/500\n",
            "6/6 [==============================] - 0s 6ms/step - loss: 0.9564 - accuracy: 0.6078\n",
            "Epoch 81/500\n",
            "6/6 [==============================] - 0s 5ms/step - loss: 0.9757 - accuracy: 0.6275\n",
            "Epoch 82/500\n",
            "6/6 [==============================] - 0s 5ms/step - loss: 1.0097 - accuracy: 0.5490\n",
            "Epoch 83/500\n",
            "6/6 [==============================] - 0s 5ms/step - loss: 0.9783 - accuracy: 0.6275\n",
            "Epoch 84/500\n",
            "6/6 [==============================] - 0s 5ms/step - loss: 0.9677 - accuracy: 0.5882\n",
            "Epoch 85/500\n",
            "6/6 [==============================] - 0s 6ms/step - loss: 0.9828 - accuracy: 0.6275\n",
            "Epoch 86/500\n",
            "6/6 [==============================] - 0s 5ms/step - loss: 0.9574 - accuracy: 0.6275\n",
            "Epoch 87/500\n",
            "6/6 [==============================] - 0s 5ms/step - loss: 0.9491 - accuracy: 0.6471\n",
            "Epoch 88/500\n",
            "6/6 [==============================] - 0s 6ms/step - loss: 0.9666 - accuracy: 0.6275\n",
            "Epoch 89/500\n",
            "6/6 [==============================] - 0s 6ms/step - loss: 0.9506 - accuracy: 0.6471\n",
            "Epoch 90/500\n",
            "6/6 [==============================] - 0s 6ms/step - loss: 0.9460 - accuracy: 0.6471\n",
            "Epoch 91/500\n",
            "6/6 [==============================] - 0s 5ms/step - loss: 0.9637 - accuracy: 0.5882\n",
            "Epoch 92/500\n",
            "6/6 [==============================] - 0s 5ms/step - loss: 0.9744 - accuracy: 0.5686\n",
            "Epoch 93/500\n",
            "6/6 [==============================] - 0s 6ms/step - loss: 0.9738 - accuracy: 0.6275\n",
            "Epoch 94/500\n",
            "6/6 [==============================] - 0s 5ms/step - loss: 0.9816 - accuracy: 0.6275\n",
            "Epoch 95/500\n",
            "6/6 [==============================] - 0s 5ms/step - loss: 0.9550 - accuracy: 0.6078\n",
            "Epoch 96/500\n",
            "6/6 [==============================] - 0s 5ms/step - loss: 0.9600 - accuracy: 0.6667\n",
            "Epoch 97/500\n",
            "6/6 [==============================] - 0s 6ms/step - loss: 0.9585 - accuracy: 0.6078\n",
            "Epoch 98/500\n",
            "6/6 [==============================] - 0s 5ms/step - loss: 0.9630 - accuracy: 0.6275\n",
            "Epoch 99/500\n",
            "6/6 [==============================] - 0s 5ms/step - loss: 0.9686 - accuracy: 0.5882\n",
            "Epoch 100/500\n",
            "6/6 [==============================] - 0s 5ms/step - loss: 0.9900 - accuracy: 0.5882\n",
            "Epoch 101/500\n",
            "6/6 [==============================] - 0s 5ms/step - loss: 0.9620 - accuracy: 0.6078\n",
            "Epoch 102/500\n",
            "6/6 [==============================] - 0s 5ms/step - loss: 0.9673 - accuracy: 0.6275\n",
            "Epoch 103/500\n",
            "6/6 [==============================] - 0s 6ms/step - loss: 0.9523 - accuracy: 0.6078\n",
            "Epoch 104/500\n",
            "6/6 [==============================] - 0s 5ms/step - loss: 0.9595 - accuracy: 0.6078\n",
            "Epoch 105/500\n",
            "6/6 [==============================] - 0s 5ms/step - loss: 0.9552 - accuracy: 0.5882\n",
            "Epoch 106/500\n",
            "6/6 [==============================] - 0s 5ms/step - loss: 0.9679 - accuracy: 0.6471\n",
            "Epoch 107/500\n",
            "6/6 [==============================] - 0s 5ms/step - loss: 0.9370 - accuracy: 0.6471\n",
            "Epoch 108/500\n",
            "6/6 [==============================] - 0s 6ms/step - loss: 0.9457 - accuracy: 0.6471\n",
            "Epoch 109/500\n",
            "6/6 [==============================] - 0s 7ms/step - loss: 0.9557 - accuracy: 0.6078\n",
            "Epoch 110/500\n",
            "6/6 [==============================] - 0s 6ms/step - loss: 0.9505 - accuracy: 0.6667\n",
            "Epoch 111/500\n",
            "6/6 [==============================] - 0s 5ms/step - loss: 0.9628 - accuracy: 0.6471\n",
            "Epoch 112/500\n",
            "6/6 [==============================] - 0s 5ms/step - loss: 0.9609 - accuracy: 0.6863\n",
            "Epoch 113/500\n",
            "6/6 [==============================] - 0s 5ms/step - loss: 0.9565 - accuracy: 0.6667\n",
            "Epoch 114/500\n",
            "6/6 [==============================] - 0s 5ms/step - loss: 0.9589 - accuracy: 0.6471\n",
            "Epoch 115/500\n",
            "6/6 [==============================] - 0s 6ms/step - loss: 0.9608 - accuracy: 0.6275\n",
            "Epoch 116/500\n",
            "6/6 [==============================] - 0s 5ms/step - loss: 0.9466 - accuracy: 0.6471\n",
            "Epoch 117/500\n",
            "6/6 [==============================] - 0s 6ms/step - loss: 0.9465 - accuracy: 0.6471\n",
            "Epoch 118/500\n",
            "6/6 [==============================] - 0s 6ms/step - loss: 0.9544 - accuracy: 0.6471\n",
            "Epoch 119/500\n",
            "6/6 [==============================] - 0s 6ms/step - loss: 0.9791 - accuracy: 0.5686\n",
            "Epoch 120/500\n",
            "6/6 [==============================] - 0s 7ms/step - loss: 0.9530 - accuracy: 0.5882\n",
            "Epoch 121/500\n",
            "6/6 [==============================] - 0s 6ms/step - loss: 0.9560 - accuracy: 0.6275\n",
            "Epoch 122/500\n",
            "6/6 [==============================] - 0s 6ms/step - loss: 0.9786 - accuracy: 0.6275\n",
            "Epoch 123/500\n",
            "6/6 [==============================] - 0s 7ms/step - loss: 0.9592 - accuracy: 0.6078\n",
            "Epoch 124/500\n",
            "6/6 [==============================] - 0s 6ms/step - loss: 1.0006 - accuracy: 0.6078\n",
            "Epoch 125/500\n",
            "6/6 [==============================] - 0s 5ms/step - loss: 1.0077 - accuracy: 0.6078\n",
            "Epoch 126/500\n",
            "6/6 [==============================] - 0s 6ms/step - loss: 0.9633 - accuracy: 0.6078\n",
            "Epoch 127/500\n",
            "6/6 [==============================] - 0s 6ms/step - loss: 0.9545 - accuracy: 0.6275\n",
            "Epoch 128/500\n",
            "6/6 [==============================] - 0s 5ms/step - loss: 0.9406 - accuracy: 0.6078\n",
            "Epoch 129/500\n",
            "6/6 [==============================] - 0s 6ms/step - loss: 0.9376 - accuracy: 0.5882\n",
            "Epoch 130/500\n",
            "6/6 [==============================] - 0s 6ms/step - loss: 0.9371 - accuracy: 0.6471\n",
            "Epoch 131/500\n",
            "6/6 [==============================] - 0s 6ms/step - loss: 0.9545 - accuracy: 0.6667\n",
            "Epoch 132/500\n",
            "6/6 [==============================] - 0s 6ms/step - loss: 0.9336 - accuracy: 0.6471\n",
            "Epoch 133/500\n",
            "6/6 [==============================] - 0s 5ms/step - loss: 0.9490 - accuracy: 0.5686\n",
            "Epoch 134/500\n",
            "6/6 [==============================] - 0s 5ms/step - loss: 0.9296 - accuracy: 0.6275\n",
            "Epoch 135/500\n",
            "6/6 [==============================] - 0s 6ms/step - loss: 0.9395 - accuracy: 0.6471\n",
            "Epoch 136/500\n",
            "6/6 [==============================] - 0s 6ms/step - loss: 0.9656 - accuracy: 0.6275\n",
            "Epoch 137/500\n",
            "6/6 [==============================] - 0s 7ms/step - loss: 0.9361 - accuracy: 0.6471\n",
            "Epoch 138/500\n",
            "6/6 [==============================] - 0s 6ms/step - loss: 0.9198 - accuracy: 0.6471\n",
            "Epoch 139/500\n",
            "6/6 [==============================] - 0s 7ms/step - loss: 0.9187 - accuracy: 0.6471\n",
            "Epoch 140/500\n",
            "6/6 [==============================] - 0s 6ms/step - loss: 0.9930 - accuracy: 0.5490\n",
            "Epoch 141/500\n",
            "6/6 [==============================] - 0s 5ms/step - loss: 0.9709 - accuracy: 0.6078\n",
            "Epoch 142/500\n",
            "6/6 [==============================] - 0s 5ms/step - loss: 0.9415 - accuracy: 0.6471\n",
            "Epoch 143/500\n",
            "6/6 [==============================] - 0s 6ms/step - loss: 0.9351 - accuracy: 0.6471\n",
            "Epoch 144/500\n",
            "6/6 [==============================] - 0s 5ms/step - loss: 0.9538 - accuracy: 0.6078\n",
            "Epoch 145/500\n",
            "6/6 [==============================] - 0s 6ms/step - loss: 0.9695 - accuracy: 0.5882\n",
            "Epoch 146/500\n",
            "6/6 [==============================] - 0s 5ms/step - loss: 0.9283 - accuracy: 0.6078\n",
            "Epoch 147/500\n",
            "6/6 [==============================] - 0s 5ms/step - loss: 0.9437 - accuracy: 0.6471\n",
            "Epoch 148/500\n",
            "6/6 [==============================] - 0s 5ms/step - loss: 0.9646 - accuracy: 0.6275\n",
            "Epoch 149/500\n",
            "6/6 [==============================] - 0s 6ms/step - loss: 0.9431 - accuracy: 0.6667\n",
            "Epoch 150/500\n",
            "6/6 [==============================] - 0s 8ms/step - loss: 0.9392 - accuracy: 0.6667\n",
            "Epoch 151/500\n",
            "6/6 [==============================] - 0s 6ms/step - loss: 0.9106 - accuracy: 0.6863\n",
            "Epoch 152/500\n",
            "6/6 [==============================] - 0s 6ms/step - loss: 0.9413 - accuracy: 0.6471\n",
            "Epoch 153/500\n",
            "6/6 [==============================] - 0s 5ms/step - loss: 0.9220 - accuracy: 0.6275\n",
            "Epoch 154/500\n",
            "6/6 [==============================] - 0s 5ms/step - loss: 0.9204 - accuracy: 0.6471\n",
            "Epoch 155/500\n",
            "6/6 [==============================] - 0s 5ms/step - loss: 0.9446 - accuracy: 0.6471\n",
            "Epoch 156/500\n",
            "6/6 [==============================] - 0s 6ms/step - loss: 0.9280 - accuracy: 0.6667\n",
            "Epoch 157/500\n",
            "6/6 [==============================] - 0s 6ms/step - loss: 0.9683 - accuracy: 0.6078\n",
            "Epoch 158/500\n",
            "6/6 [==============================] - 0s 5ms/step - loss: 0.9442 - accuracy: 0.6863\n",
            "Epoch 159/500\n",
            "6/6 [==============================] - 0s 7ms/step - loss: 0.9177 - accuracy: 0.6667\n",
            "Epoch 160/500\n",
            "6/6 [==============================] - 0s 6ms/step - loss: 0.9113 - accuracy: 0.6275\n",
            "Epoch 161/500\n",
            "6/6 [==============================] - 0s 6ms/step - loss: 0.9473 - accuracy: 0.6471\n",
            "Epoch 162/500\n",
            "6/6 [==============================] - 0s 5ms/step - loss: 0.9257 - accuracy: 0.6471\n",
            "Epoch 163/500\n",
            "6/6 [==============================] - 0s 7ms/step - loss: 0.9326 - accuracy: 0.6667\n",
            "Epoch 164/500\n",
            "6/6 [==============================] - 0s 6ms/step - loss: 0.9301 - accuracy: 0.6863\n",
            "Epoch 165/500\n",
            "6/6 [==============================] - 0s 6ms/step - loss: 0.9341 - accuracy: 0.6471\n",
            "Epoch 166/500\n",
            "6/6 [==============================] - 0s 6ms/step - loss: 0.9235 - accuracy: 0.6667\n",
            "Epoch 167/500\n",
            "6/6 [==============================] - 0s 6ms/step - loss: 0.9560 - accuracy: 0.5882\n",
            "Epoch 168/500\n",
            "6/6 [==============================] - 0s 5ms/step - loss: 0.9399 - accuracy: 0.6078\n",
            "Epoch 169/500\n",
            "6/6 [==============================] - 0s 5ms/step - loss: 0.9730 - accuracy: 0.5490\n",
            "Epoch 170/500\n",
            "6/6 [==============================] - 0s 5ms/step - loss: 1.0203 - accuracy: 0.4706\n",
            "Epoch 171/500\n",
            "6/6 [==============================] - 0s 5ms/step - loss: 0.9419 - accuracy: 0.5686\n",
            "Epoch 172/500\n",
            "6/6 [==============================] - 0s 5ms/step - loss: 0.9554 - accuracy: 0.6275\n",
            "Epoch 173/500\n",
            "6/6 [==============================] - 0s 6ms/step - loss: 0.9595 - accuracy: 0.6078\n",
            "Epoch 174/500\n",
            "6/6 [==============================] - 0s 6ms/step - loss: 0.9796 - accuracy: 0.5882\n",
            "Epoch 175/500\n",
            "6/6 [==============================] - 0s 5ms/step - loss: 1.0085 - accuracy: 0.5686\n",
            "Epoch 176/500\n",
            "6/6 [==============================] - 0s 6ms/step - loss: 0.9146 - accuracy: 0.6471\n",
            "Epoch 177/500\n",
            "6/6 [==============================] - 0s 6ms/step - loss: 0.9241 - accuracy: 0.6275\n",
            "Epoch 178/500\n",
            "6/6 [==============================] - 0s 6ms/step - loss: 0.9127 - accuracy: 0.6275\n",
            "Epoch 179/500\n",
            "6/6 [==============================] - 0s 7ms/step - loss: 0.9217 - accuracy: 0.6078\n",
            "Epoch 180/500\n",
            "6/6 [==============================] - 0s 5ms/step - loss: 0.9150 - accuracy: 0.6275\n",
            "Epoch 181/500\n",
            "6/6 [==============================] - 0s 6ms/step - loss: 0.9035 - accuracy: 0.6667\n",
            "Epoch 182/500\n",
            "6/6 [==============================] - 0s 5ms/step - loss: 0.8881 - accuracy: 0.6863\n",
            "Epoch 183/500\n",
            "6/6 [==============================] - 0s 6ms/step - loss: 0.8982 - accuracy: 0.6471\n",
            "Epoch 184/500\n",
            "6/6 [==============================] - 0s 5ms/step - loss: 0.9076 - accuracy: 0.6471\n",
            "Epoch 185/500\n",
            "6/6 [==============================] - 0s 6ms/step - loss: 0.9028 - accuracy: 0.6863\n",
            "Epoch 186/500\n",
            "6/6 [==============================] - 0s 5ms/step - loss: 0.9108 - accuracy: 0.6667\n",
            "Epoch 187/500\n",
            "6/6 [==============================] - 0s 7ms/step - loss: 0.9272 - accuracy: 0.6471\n",
            "Epoch 188/500\n",
            "6/6 [==============================] - 0s 6ms/step - loss: 0.9369 - accuracy: 0.6275\n",
            "Epoch 189/500\n",
            "6/6 [==============================] - 0s 6ms/step - loss: 0.9418 - accuracy: 0.6078\n",
            "Epoch 190/500\n",
            "6/6 [==============================] - 0s 7ms/step - loss: 0.9304 - accuracy: 0.6275\n",
            "Epoch 191/500\n",
            "6/6 [==============================] - 0s 6ms/step - loss: 0.9110 - accuracy: 0.6275\n",
            "Epoch 192/500\n",
            "6/6 [==============================] - 0s 5ms/step - loss: 0.9546 - accuracy: 0.6078\n",
            "Epoch 193/500\n",
            "6/6 [==============================] - 0s 5ms/step - loss: 0.9290 - accuracy: 0.6471\n",
            "Epoch 194/500\n",
            "6/6 [==============================] - 0s 5ms/step - loss: 0.9458 - accuracy: 0.5882\n",
            "Epoch 195/500\n",
            "6/6 [==============================] - 0s 5ms/step - loss: 0.9939 - accuracy: 0.6275\n",
            "Epoch 196/500\n",
            "6/6 [==============================] - 0s 7ms/step - loss: 0.9799 - accuracy: 0.6275\n",
            "Epoch 197/500\n",
            "6/6 [==============================] - 0s 6ms/step - loss: 0.9187 - accuracy: 0.6863\n",
            "Epoch 198/500\n",
            "6/6 [==============================] - 0s 6ms/step - loss: 0.9382 - accuracy: 0.6863\n",
            "Epoch 199/500\n",
            "6/6 [==============================] - 0s 5ms/step - loss: 0.8846 - accuracy: 0.6863\n",
            "Epoch 200/500\n",
            "6/6 [==============================] - 0s 6ms/step - loss: 0.9127 - accuracy: 0.6667\n",
            "Epoch 201/500\n",
            "6/6 [==============================] - 0s 6ms/step - loss: 0.9017 - accuracy: 0.6863\n",
            "Epoch 202/500\n",
            "6/6 [==============================] - 0s 6ms/step - loss: 0.8926 - accuracy: 0.6863\n",
            "Epoch 203/500\n",
            "6/6 [==============================] - 0s 5ms/step - loss: 0.8902 - accuracy: 0.6471\n",
            "Epoch 204/500\n",
            "6/6 [==============================] - 0s 5ms/step - loss: 0.8767 - accuracy: 0.6667\n",
            "Epoch 205/500\n",
            "6/6 [==============================] - 0s 6ms/step - loss: 0.8976 - accuracy: 0.6667\n",
            "Epoch 206/500\n",
            "6/6 [==============================] - 0s 5ms/step - loss: 0.9053 - accuracy: 0.5882\n",
            "Epoch 207/500\n",
            "6/6 [==============================] - 0s 5ms/step - loss: 0.8861 - accuracy: 0.6471\n",
            "Epoch 208/500\n",
            "6/6 [==============================] - 0s 6ms/step - loss: 0.8867 - accuracy: 0.6275\n",
            "Epoch 209/500\n",
            "6/6 [==============================] - 0s 5ms/step - loss: 0.8752 - accuracy: 0.6667\n",
            "Epoch 210/500\n",
            "6/6 [==============================] - 0s 5ms/step - loss: 0.9378 - accuracy: 0.5882\n",
            "Epoch 211/500\n",
            "6/6 [==============================] - 0s 6ms/step - loss: 0.9048 - accuracy: 0.6667\n",
            "Epoch 212/500\n",
            "6/6 [==============================] - 0s 6ms/step - loss: 0.9264 - accuracy: 0.6275\n",
            "Epoch 213/500\n",
            "6/6 [==============================] - 0s 6ms/step - loss: 0.8875 - accuracy: 0.6275\n",
            "Epoch 214/500\n",
            "6/6 [==============================] - 0s 5ms/step - loss: 0.8709 - accuracy: 0.6667\n",
            "Epoch 215/500\n",
            "6/6 [==============================] - 0s 5ms/step - loss: 0.9020 - accuracy: 0.6275\n",
            "Epoch 216/500\n",
            "6/6 [==============================] - 0s 5ms/step - loss: 0.8857 - accuracy: 0.6275\n",
            "Epoch 217/500\n",
            "6/6 [==============================] - 0s 5ms/step - loss: 1.0137 - accuracy: 0.5490\n",
            "Epoch 218/500\n",
            "6/6 [==============================] - 0s 6ms/step - loss: 0.9304 - accuracy: 0.6078\n",
            "Epoch 219/500\n",
            "6/6 [==============================] - 0s 7ms/step - loss: 0.9266 - accuracy: 0.6667\n",
            "Epoch 220/500\n",
            "6/6 [==============================] - 0s 5ms/step - loss: 0.9071 - accuracy: 0.6863\n",
            "Epoch 221/500\n",
            "6/6 [==============================] - 0s 5ms/step - loss: 0.9065 - accuracy: 0.6275\n",
            "Epoch 222/500\n",
            "6/6 [==============================] - 0s 6ms/step - loss: 0.8745 - accuracy: 0.6863\n",
            "Epoch 223/500\n",
            "6/6 [==============================] - 0s 6ms/step - loss: 0.8626 - accuracy: 0.6863\n",
            "Epoch 224/500\n",
            "6/6 [==============================] - 0s 6ms/step - loss: 0.8795 - accuracy: 0.6667\n",
            "Epoch 225/500\n",
            "6/6 [==============================] - 0s 6ms/step - loss: 0.8722 - accuracy: 0.6667\n",
            "Epoch 226/500\n",
            "6/6 [==============================] - 0s 6ms/step - loss: 0.9342 - accuracy: 0.6471\n",
            "Epoch 227/500\n",
            "6/6 [==============================] - 0s 6ms/step - loss: 0.8959 - accuracy: 0.6078\n",
            "Epoch 228/500\n",
            "6/6 [==============================] - 0s 5ms/step - loss: 0.8961 - accuracy: 0.6471\n",
            "Epoch 229/500\n",
            "6/6 [==============================] - 0s 5ms/step - loss: 0.9039 - accuracy: 0.6471\n",
            "Epoch 230/500\n",
            "6/6 [==============================] - 0s 5ms/step - loss: 0.8904 - accuracy: 0.6275\n",
            "Epoch 231/500\n",
            "6/6 [==============================] - 0s 7ms/step - loss: 0.8912 - accuracy: 0.6275\n",
            "Epoch 232/500\n",
            "6/6 [==============================] - 0s 5ms/step - loss: 0.8928 - accuracy: 0.6471\n",
            "Epoch 233/500\n",
            "6/6 [==============================] - 0s 5ms/step - loss: 0.9068 - accuracy: 0.6275\n",
            "Epoch 234/500\n",
            "6/6 [==============================] - 0s 5ms/step - loss: 0.8676 - accuracy: 0.6275\n",
            "Epoch 235/500\n",
            "6/6 [==============================] - 0s 6ms/step - loss: 0.8741 - accuracy: 0.6863\n",
            "Epoch 236/500\n",
            "6/6 [==============================] - 0s 6ms/step - loss: 0.8656 - accuracy: 0.6863\n",
            "Epoch 237/500\n",
            "6/6 [==============================] - 0s 6ms/step - loss: 0.8690 - accuracy: 0.6863\n",
            "Epoch 238/500\n",
            "6/6 [==============================] - 0s 5ms/step - loss: 0.8677 - accuracy: 0.6667\n",
            "Epoch 239/500\n",
            "6/6 [==============================] - 0s 7ms/step - loss: 0.8715 - accuracy: 0.6471\n",
            "Epoch 240/500\n",
            "6/6 [==============================] - 0s 6ms/step - loss: 0.8565 - accuracy: 0.6275\n",
            "Epoch 241/500\n",
            "6/6 [==============================] - 0s 5ms/step - loss: 0.8546 - accuracy: 0.6667\n",
            "Epoch 242/500\n",
            "6/6 [==============================] - 0s 6ms/step - loss: 0.8620 - accuracy: 0.6863\n",
            "Epoch 243/500\n",
            "6/6 [==============================] - 0s 5ms/step - loss: 0.8456 - accuracy: 0.6667\n",
            "Epoch 244/500\n",
            "6/6 [==============================] - 0s 7ms/step - loss: 0.8681 - accuracy: 0.6471\n",
            "Epoch 245/500\n",
            "6/6 [==============================] - 0s 6ms/step - loss: 0.8633 - accuracy: 0.6275\n",
            "Epoch 246/500\n",
            "6/6 [==============================] - 0s 6ms/step - loss: 0.8709 - accuracy: 0.6471\n",
            "Epoch 247/500\n",
            "6/6 [==============================] - 0s 5ms/step - loss: 0.8623 - accuracy: 0.6471\n",
            "Epoch 248/500\n",
            "6/6 [==============================] - 0s 7ms/step - loss: 0.8499 - accuracy: 0.6471\n",
            "Epoch 249/500\n",
            "6/6 [==============================] - 0s 5ms/step - loss: 0.8502 - accuracy: 0.6667\n",
            "Epoch 250/500\n",
            "6/6 [==============================] - 0s 6ms/step - loss: 0.8421 - accuracy: 0.6667\n",
            "Epoch 251/500\n",
            "6/6 [==============================] - 0s 6ms/step - loss: 0.8555 - accuracy: 0.6863\n",
            "Epoch 252/500\n",
            "6/6 [==============================] - 0s 6ms/step - loss: 0.8450 - accuracy: 0.6863\n",
            "Epoch 253/500\n",
            "6/6 [==============================] - 0s 5ms/step - loss: 0.8390 - accuracy: 0.6667\n",
            "Epoch 254/500\n",
            "6/6 [==============================] - 0s 7ms/step - loss: 0.8577 - accuracy: 0.6471\n",
            "Epoch 255/500\n",
            "6/6 [==============================] - 0s 6ms/step - loss: 0.8656 - accuracy: 0.6275\n",
            "Epoch 256/500\n",
            "6/6 [==============================] - 0s 5ms/step - loss: 0.8904 - accuracy: 0.6471\n",
            "Epoch 257/500\n",
            "6/6 [==============================] - 0s 6ms/step - loss: 0.8978 - accuracy: 0.6667\n",
            "Epoch 258/500\n",
            "6/6 [==============================] - 0s 6ms/step - loss: 0.8978 - accuracy: 0.6471\n",
            "Epoch 259/500\n",
            "6/6 [==============================] - 0s 5ms/step - loss: 0.8524 - accuracy: 0.7059\n",
            "Epoch 260/500\n",
            "6/6 [==============================] - 0s 7ms/step - loss: 0.8664 - accuracy: 0.6078\n",
            "Epoch 261/500\n",
            "6/6 [==============================] - 0s 5ms/step - loss: 0.8520 - accuracy: 0.6471\n",
            "Epoch 262/500\n",
            "6/6 [==============================] - 0s 6ms/step - loss: 0.8636 - accuracy: 0.6863\n",
            "Epoch 263/500\n",
            "6/6 [==============================] - 0s 6ms/step - loss: 0.8570 - accuracy: 0.7059\n",
            "Epoch 264/500\n",
            "6/6 [==============================] - 0s 6ms/step - loss: 0.8836 - accuracy: 0.6863\n",
            "Epoch 265/500\n",
            "6/6 [==============================] - 0s 6ms/step - loss: 0.8543 - accuracy: 0.6667\n",
            "Epoch 266/500\n",
            "6/6 [==============================] - 0s 7ms/step - loss: 0.8422 - accuracy: 0.7059\n",
            "Epoch 267/500\n",
            "6/6 [==============================] - 0s 6ms/step - loss: 0.8539 - accuracy: 0.7059\n",
            "Epoch 268/500\n",
            "6/6 [==============================] - 0s 5ms/step - loss: 0.8759 - accuracy: 0.7059\n",
            "Epoch 269/500\n",
            "6/6 [==============================] - 0s 6ms/step - loss: 0.8521 - accuracy: 0.7059\n",
            "Epoch 270/500\n",
            "6/6 [==============================] - 0s 5ms/step - loss: 0.8440 - accuracy: 0.6471\n",
            "Epoch 271/500\n",
            "6/6 [==============================] - 0s 5ms/step - loss: 0.8719 - accuracy: 0.6667\n",
            "Epoch 272/500\n",
            "6/6 [==============================] - 0s 6ms/step - loss: 0.8591 - accuracy: 0.6275\n",
            "Epoch 273/500\n",
            "6/6 [==============================] - 0s 5ms/step - loss: 0.8309 - accuracy: 0.6863\n",
            "Epoch 274/500\n",
            "6/6 [==============================] - 0s 6ms/step - loss: 0.8724 - accuracy: 0.6863\n",
            "Epoch 275/500\n",
            "6/6 [==============================] - 0s 6ms/step - loss: 0.8415 - accuracy: 0.6667\n",
            "Epoch 276/500\n",
            "6/6 [==============================] - 0s 6ms/step - loss: 0.8457 - accuracy: 0.6667\n",
            "Epoch 277/500\n",
            "6/6 [==============================] - 0s 6ms/step - loss: 0.8746 - accuracy: 0.6275\n",
            "Epoch 278/500\n",
            "6/6 [==============================] - 0s 5ms/step - loss: 0.8752 - accuracy: 0.6275\n",
            "Epoch 279/500\n",
            "6/6 [==============================] - 0s 5ms/step - loss: 0.8641 - accuracy: 0.6667\n",
            "Epoch 280/500\n",
            "6/6 [==============================] - 0s 5ms/step - loss: 0.8499 - accuracy: 0.6275\n",
            "Epoch 281/500\n",
            "6/6 [==============================] - 0s 5ms/step - loss: 0.8353 - accuracy: 0.6471\n",
            "Epoch 282/500\n",
            "6/6 [==============================] - 0s 6ms/step - loss: 0.8365 - accuracy: 0.7059\n",
            "Epoch 283/500\n",
            "6/6 [==============================] - 0s 7ms/step - loss: 0.8305 - accuracy: 0.7059\n",
            "Epoch 284/500\n",
            "6/6 [==============================] - 0s 5ms/step - loss: 0.8304 - accuracy: 0.7255\n",
            "Epoch 285/500\n",
            "6/6 [==============================] - 0s 5ms/step - loss: 0.8423 - accuracy: 0.6863\n",
            "Epoch 286/500\n",
            "6/6 [==============================] - 0s 5ms/step - loss: 0.8705 - accuracy: 0.6275\n",
            "Epoch 287/500\n",
            "6/6 [==============================] - 0s 6ms/step - loss: 0.8508 - accuracy: 0.6667\n",
            "Epoch 288/500\n",
            "6/6 [==============================] - 0s 6ms/step - loss: 0.8417 - accuracy: 0.6863\n",
            "Epoch 289/500\n",
            "6/6 [==============================] - 0s 7ms/step - loss: 0.8444 - accuracy: 0.6471\n",
            "Epoch 290/500\n",
            "6/6 [==============================] - 0s 6ms/step - loss: 0.8379 - accuracy: 0.6471\n",
            "Epoch 291/500\n",
            "6/6 [==============================] - 0s 6ms/step - loss: 0.8400 - accuracy: 0.6471\n",
            "Epoch 292/500\n",
            "6/6 [==============================] - 0s 5ms/step - loss: 0.8508 - accuracy: 0.6078\n",
            "Epoch 293/500\n",
            "6/6 [==============================] - 0s 5ms/step - loss: 0.8401 - accuracy: 0.6275\n",
            "Epoch 294/500\n",
            "6/6 [==============================] - 0s 5ms/step - loss: 0.8339 - accuracy: 0.6863\n",
            "Epoch 295/500\n",
            "6/6 [==============================] - 0s 7ms/step - loss: 0.8254 - accuracy: 0.6863\n",
            "Epoch 296/500\n",
            "6/6 [==============================] - 0s 6ms/step - loss: 0.8202 - accuracy: 0.7255\n",
            "Epoch 297/500\n",
            "6/6 [==============================] - 0s 6ms/step - loss: 0.8265 - accuracy: 0.7255\n",
            "Epoch 298/500\n",
            "6/6 [==============================] - 0s 6ms/step - loss: 0.8308 - accuracy: 0.7059\n",
            "Epoch 299/500\n",
            "6/6 [==============================] - 0s 6ms/step - loss: 0.8320 - accuracy: 0.7059\n",
            "Epoch 300/500\n",
            "6/6 [==============================] - 0s 5ms/step - loss: 0.8234 - accuracy: 0.7059\n",
            "Epoch 301/500\n",
            "6/6 [==============================] - 0s 7ms/step - loss: 0.8291 - accuracy: 0.6667\n",
            "Epoch 302/500\n",
            "6/6 [==============================] - 0s 6ms/step - loss: 0.8421 - accuracy: 0.6471\n",
            "Epoch 303/500\n",
            "6/6 [==============================] - 0s 5ms/step - loss: 0.8925 - accuracy: 0.6275\n",
            "Epoch 304/500\n",
            "6/6 [==============================] - 0s 5ms/step - loss: 0.8829 - accuracy: 0.6471\n",
            "Epoch 305/500\n",
            "6/6 [==============================] - 0s 6ms/step - loss: 0.8460 - accuracy: 0.6471\n",
            "Epoch 306/500\n",
            "6/6 [==============================] - 0s 6ms/step - loss: 0.8151 - accuracy: 0.6863\n",
            "Epoch 307/500\n",
            "6/6 [==============================] - 0s 8ms/step - loss: 0.8346 - accuracy: 0.7255\n",
            "Epoch 308/500\n",
            "6/6 [==============================] - 0s 6ms/step - loss: 0.8440 - accuracy: 0.6471\n",
            "Epoch 309/500\n",
            "6/6 [==============================] - 0s 6ms/step - loss: 0.8493 - accuracy: 0.6471\n",
            "Epoch 310/500\n",
            "6/6 [==============================] - 0s 6ms/step - loss: 0.8303 - accuracy: 0.7255\n",
            "Epoch 311/500\n",
            "6/6 [==============================] - 0s 6ms/step - loss: 0.8318 - accuracy: 0.6863\n",
            "Epoch 312/500\n",
            "6/6 [==============================] - 0s 7ms/step - loss: 0.8652 - accuracy: 0.6471\n",
            "Epoch 313/500\n",
            "6/6 [==============================] - 0s 6ms/step - loss: 0.9031 - accuracy: 0.5686\n",
            "Epoch 314/500\n",
            "6/6 [==============================] - 0s 6ms/step - loss: 0.8665 - accuracy: 0.6471\n",
            "Epoch 315/500\n",
            "6/6 [==============================] - 0s 6ms/step - loss: 0.8523 - accuracy: 0.6667\n",
            "Epoch 316/500\n",
            "6/6 [==============================] - 0s 5ms/step - loss: 0.8496 - accuracy: 0.6667\n",
            "Epoch 317/500\n",
            "6/6 [==============================] - 0s 6ms/step - loss: 0.8147 - accuracy: 0.6863\n",
            "Epoch 318/500\n",
            "6/6 [==============================] - 0s 7ms/step - loss: 0.8251 - accuracy: 0.6471\n",
            "Epoch 319/500\n",
            "6/6 [==============================] - 0s 6ms/step - loss: 0.8309 - accuracy: 0.6471\n",
            "Epoch 320/500\n",
            "6/6 [==============================] - 0s 6ms/step - loss: 0.8202 - accuracy: 0.6863\n",
            "Epoch 321/500\n",
            "6/6 [==============================] - 0s 7ms/step - loss: 0.8297 - accuracy: 0.6667\n",
            "Epoch 322/500\n",
            "6/6 [==============================] - 0s 5ms/step - loss: 0.8108 - accuracy: 0.6667\n",
            "Epoch 323/500\n",
            "6/6 [==============================] - 0s 5ms/step - loss: 0.8232 - accuracy: 0.6863\n",
            "Epoch 324/500\n",
            "6/6 [==============================] - 0s 5ms/step - loss: 0.8157 - accuracy: 0.7255\n",
            "Epoch 325/500\n",
            "6/6 [==============================] - 0s 6ms/step - loss: 0.8431 - accuracy: 0.7059\n",
            "Epoch 326/500\n",
            "6/6 [==============================] - 0s 5ms/step - loss: 0.8291 - accuracy: 0.7255\n",
            "Epoch 327/500\n",
            "6/6 [==============================] - 0s 5ms/step - loss: 0.8580 - accuracy: 0.6863\n",
            "Epoch 328/500\n",
            "6/6 [==============================] - 0s 6ms/step - loss: 0.8448 - accuracy: 0.6667\n",
            "Epoch 329/500\n",
            "6/6 [==============================] - 0s 7ms/step - loss: 0.8546 - accuracy: 0.6275\n",
            "Epoch 330/500\n",
            "6/6 [==============================] - 0s 7ms/step - loss: 0.8204 - accuracy: 0.6471\n",
            "Epoch 331/500\n",
            "6/6 [==============================] - 0s 6ms/step - loss: 0.8318 - accuracy: 0.6667\n",
            "Epoch 332/500\n",
            "6/6 [==============================] - 0s 6ms/step - loss: 0.8067 - accuracy: 0.6667\n",
            "Epoch 333/500\n",
            "6/6 [==============================] - 0s 5ms/step - loss: 0.8227 - accuracy: 0.7059\n",
            "Epoch 334/500\n",
            "6/6 [==============================] - 0s 5ms/step - loss: 0.8282 - accuracy: 0.6078\n",
            "Epoch 335/500\n",
            "6/6 [==============================] - 0s 6ms/step - loss: 0.8557 - accuracy: 0.6667\n",
            "Epoch 336/500\n",
            "6/6 [==============================] - 0s 5ms/step - loss: 0.8645 - accuracy: 0.6863\n",
            "Epoch 337/500\n",
            "6/6 [==============================] - 0s 6ms/step - loss: 0.8435 - accuracy: 0.6275\n",
            "Epoch 338/500\n",
            "6/6 [==============================] - 0s 6ms/step - loss: 0.8379 - accuracy: 0.6471\n",
            "Epoch 339/500\n",
            "6/6 [==============================] - 0s 5ms/step - loss: 0.8316 - accuracy: 0.6863\n",
            "Epoch 340/500\n",
            "6/6 [==============================] - 0s 5ms/step - loss: 0.8484 - accuracy: 0.6863\n",
            "Epoch 341/500\n",
            "6/6 [==============================] - 0s 6ms/step - loss: 0.8785 - accuracy: 0.6667\n",
            "Epoch 342/500\n",
            "6/6 [==============================] - 0s 6ms/step - loss: 0.8574 - accuracy: 0.7059\n",
            "Epoch 343/500\n",
            "6/6 [==============================] - 0s 5ms/step - loss: 0.8266 - accuracy: 0.7255\n",
            "Epoch 344/500\n",
            "6/6 [==============================] - 0s 6ms/step - loss: 0.8220 - accuracy: 0.7059\n",
            "Epoch 345/500\n",
            "6/6 [==============================] - 0s 6ms/step - loss: 0.7960 - accuracy: 0.7059\n",
            "Epoch 346/500\n",
            "6/6 [==============================] - 0s 7ms/step - loss: 0.8236 - accuracy: 0.6863\n",
            "Epoch 347/500\n",
            "6/6 [==============================] - 0s 6ms/step - loss: 0.8233 - accuracy: 0.7059\n",
            "Epoch 348/500\n",
            "6/6 [==============================] - 0s 6ms/step - loss: 0.8002 - accuracy: 0.7059\n",
            "Epoch 349/500\n",
            "6/6 [==============================] - 0s 5ms/step - loss: 0.8023 - accuracy: 0.7059\n",
            "Epoch 350/500\n",
            "6/6 [==============================] - 0s 6ms/step - loss: 0.8171 - accuracy: 0.6863\n",
            "Epoch 351/500\n",
            "6/6 [==============================] - 0s 6ms/step - loss: 0.8273 - accuracy: 0.6667\n",
            "Epoch 352/500\n",
            "6/6 [==============================] - 0s 6ms/step - loss: 0.8028 - accuracy: 0.6863\n",
            "Epoch 353/500\n",
            "6/6 [==============================] - 0s 6ms/step - loss: 0.8370 - accuracy: 0.6667\n",
            "Epoch 354/500\n",
            "6/6 [==============================] - 0s 6ms/step - loss: 0.8302 - accuracy: 0.6863\n",
            "Epoch 355/500\n",
            "6/6 [==============================] - 0s 6ms/step - loss: 0.8267 - accuracy: 0.6471\n",
            "Epoch 356/500\n",
            "6/6 [==============================] - 0s 6ms/step - loss: 0.8307 - accuracy: 0.6471\n",
            "Epoch 357/500\n",
            "6/6 [==============================] - 0s 7ms/step - loss: 0.8085 - accuracy: 0.7059\n",
            "Epoch 358/500\n",
            "6/6 [==============================] - 0s 6ms/step - loss: 0.8398 - accuracy: 0.6275\n",
            "Epoch 359/500\n",
            "6/6 [==============================] - 0s 6ms/step - loss: 0.8099 - accuracy: 0.6667\n",
            "Epoch 360/500\n",
            "6/6 [==============================] - 0s 6ms/step - loss: 0.8191 - accuracy: 0.6667\n",
            "Epoch 361/500\n",
            "6/6 [==============================] - 0s 5ms/step - loss: 0.8156 - accuracy: 0.6667\n",
            "Epoch 362/500\n",
            "6/6 [==============================] - 0s 5ms/step - loss: 0.8261 - accuracy: 0.6863\n",
            "Epoch 363/500\n",
            "6/6 [==============================] - 0s 7ms/step - loss: 0.7952 - accuracy: 0.6078\n",
            "Epoch 364/500\n",
            "6/6 [==============================] - 0s 6ms/step - loss: 0.7989 - accuracy: 0.6863\n",
            "Epoch 365/500\n",
            "6/6 [==============================] - 0s 5ms/step - loss: 0.8076 - accuracy: 0.6863\n",
            "Epoch 366/500\n",
            "6/6 [==============================] - 0s 6ms/step - loss: 0.8117 - accuracy: 0.6863\n",
            "Epoch 367/500\n",
            "6/6 [==============================] - 0s 5ms/step - loss: 0.8062 - accuracy: 0.6667\n",
            "Epoch 368/500\n",
            "6/6 [==============================] - 0s 7ms/step - loss: 0.8212 - accuracy: 0.6471\n",
            "Epoch 369/500\n",
            "6/6 [==============================] - 0s 6ms/step - loss: 0.8171 - accuracy: 0.6667\n",
            "Epoch 370/500\n",
            "6/6 [==============================] - 0s 6ms/step - loss: 0.8138 - accuracy: 0.6471\n",
            "Epoch 371/500\n",
            "6/6 [==============================] - 0s 6ms/step - loss: 0.7971 - accuracy: 0.6275\n",
            "Epoch 372/500\n",
            "6/6 [==============================] - 0s 6ms/step - loss: 0.7901 - accuracy: 0.6667\n",
            "Epoch 373/500\n",
            "6/6 [==============================] - 0s 6ms/step - loss: 0.8289 - accuracy: 0.6471\n",
            "Epoch 374/500\n",
            "6/6 [==============================] - 0s 6ms/step - loss: 0.8167 - accuracy: 0.6667\n",
            "Epoch 375/500\n",
            "6/6 [==============================] - 0s 6ms/step - loss: 0.7924 - accuracy: 0.6667\n",
            "Epoch 376/500\n",
            "6/6 [==============================] - 0s 6ms/step - loss: 0.7846 - accuracy: 0.6863\n",
            "Epoch 377/500\n",
            "6/6 [==============================] - 0s 6ms/step - loss: 0.7977 - accuracy: 0.6471\n",
            "Epoch 378/500\n",
            "6/6 [==============================] - 0s 6ms/step - loss: 0.8362 - accuracy: 0.6471\n",
            "Epoch 379/500\n",
            "6/6 [==============================] - 0s 7ms/step - loss: 0.8943 - accuracy: 0.6275\n",
            "Epoch 380/500\n",
            "6/6 [==============================] - 0s 7ms/step - loss: 0.8525 - accuracy: 0.6863\n",
            "Epoch 381/500\n",
            "6/6 [==============================] - 0s 6ms/step - loss: 0.8671 - accuracy: 0.6471\n",
            "Epoch 382/500\n",
            "6/6 [==============================] - 0s 6ms/step - loss: 0.7880 - accuracy: 0.6863\n",
            "Epoch 383/500\n",
            "6/6 [==============================] - 0s 6ms/step - loss: 0.7887 - accuracy: 0.6863\n",
            "Epoch 384/500\n",
            "6/6 [==============================] - 0s 8ms/step - loss: 0.7951 - accuracy: 0.6471\n",
            "Epoch 385/500\n",
            "6/6 [==============================] - 0s 6ms/step - loss: 0.8274 - accuracy: 0.6667\n",
            "Epoch 386/500\n",
            "6/6 [==============================] - 0s 7ms/step - loss: 0.7996 - accuracy: 0.6863\n",
            "Epoch 387/500\n",
            "6/6 [==============================] - 0s 6ms/step - loss: 0.7818 - accuracy: 0.7059\n",
            "Epoch 388/500\n",
            "6/6 [==============================] - 0s 6ms/step - loss: 0.7851 - accuracy: 0.7059\n",
            "Epoch 389/500\n",
            "6/6 [==============================] - 0s 7ms/step - loss: 0.7859 - accuracy: 0.6667\n",
            "Epoch 390/500\n",
            "6/6 [==============================] - 0s 7ms/step - loss: 0.7999 - accuracy: 0.6863\n",
            "Epoch 391/500\n",
            "6/6 [==============================] - 0s 6ms/step - loss: 0.8103 - accuracy: 0.7059\n",
            "Epoch 392/500\n",
            "6/6 [==============================] - 0s 6ms/step - loss: 0.7915 - accuracy: 0.6863\n",
            "Epoch 393/500\n",
            "6/6 [==============================] - 0s 6ms/step - loss: 0.8032 - accuracy: 0.6863\n",
            "Epoch 394/500\n",
            "6/6 [==============================] - 0s 6ms/step - loss: 0.7945 - accuracy: 0.6863\n",
            "Epoch 395/500\n",
            "6/6 [==============================] - 0s 7ms/step - loss: 0.8003 - accuracy: 0.6667\n",
            "Epoch 396/500\n",
            "6/6 [==============================] - 0s 6ms/step - loss: 0.7929 - accuracy: 0.6667\n",
            "Epoch 397/500\n",
            "6/6 [==============================] - 0s 6ms/step - loss: 0.7952 - accuracy: 0.6667\n",
            "Epoch 398/500\n",
            "6/6 [==============================] - 0s 10ms/step - loss: 0.7990 - accuracy: 0.7255\n",
            "Epoch 399/500\n",
            "6/6 [==============================] - 0s 8ms/step - loss: 0.7829 - accuracy: 0.7255\n",
            "Epoch 400/500\n",
            "6/6 [==============================] - 0s 6ms/step - loss: 0.8085 - accuracy: 0.6667\n",
            "Epoch 401/500\n",
            "6/6 [==============================] - 0s 6ms/step - loss: 0.7747 - accuracy: 0.6667\n",
            "Epoch 402/500\n",
            "6/6 [==============================] - 0s 7ms/step - loss: 0.7948 - accuracy: 0.6471\n",
            "Epoch 403/500\n",
            "6/6 [==============================] - 0s 8ms/step - loss: 0.7908 - accuracy: 0.6863\n",
            "Epoch 404/500\n",
            "6/6 [==============================] - 0s 6ms/step - loss: 0.7857 - accuracy: 0.7059\n",
            "Epoch 405/500\n",
            "6/6 [==============================] - 0s 6ms/step - loss: 0.7853 - accuracy: 0.7255\n",
            "Epoch 406/500\n",
            "6/6 [==============================] - 0s 6ms/step - loss: 0.7765 - accuracy: 0.7451\n",
            "Epoch 407/500\n",
            "6/6 [==============================] - 0s 6ms/step - loss: 0.7743 - accuracy: 0.6667\n",
            "Epoch 408/500\n",
            "6/6 [==============================] - 0s 7ms/step - loss: 0.7751 - accuracy: 0.6471\n",
            "Epoch 409/500\n",
            "6/6 [==============================] - 0s 6ms/step - loss: 0.8266 - accuracy: 0.6471\n",
            "Epoch 410/500\n",
            "6/6 [==============================] - 0s 6ms/step - loss: 0.8078 - accuracy: 0.6667\n",
            "Epoch 411/500\n",
            "6/6 [==============================] - 0s 6ms/step - loss: 0.7817 - accuracy: 0.6667\n",
            "Epoch 412/500\n",
            "6/6 [==============================] - 0s 7ms/step - loss: 0.7788 - accuracy: 0.6667\n",
            "Epoch 413/500\n",
            "6/6 [==============================] - 0s 6ms/step - loss: 0.7660 - accuracy: 0.6667\n",
            "Epoch 414/500\n",
            "6/6 [==============================] - 0s 6ms/step - loss: 0.7670 - accuracy: 0.6667\n",
            "Epoch 415/500\n",
            "6/6 [==============================] - 0s 6ms/step - loss: 0.8202 - accuracy: 0.6078\n",
            "Epoch 416/500\n",
            "6/6 [==============================] - 0s 6ms/step - loss: 0.7519 - accuracy: 0.6863\n",
            "Epoch 417/500\n",
            "6/6 [==============================] - 0s 6ms/step - loss: 0.8515 - accuracy: 0.6471\n",
            "Epoch 418/500\n",
            "6/6 [==============================] - 0s 7ms/step - loss: 0.7763 - accuracy: 0.6275\n",
            "Epoch 419/500\n",
            "6/6 [==============================] - 0s 6ms/step - loss: 0.8582 - accuracy: 0.6863\n",
            "Epoch 420/500\n",
            "6/6 [==============================] - 0s 7ms/step - loss: 0.8031 - accuracy: 0.6667\n",
            "Epoch 421/500\n",
            "6/6 [==============================] - 0s 6ms/step - loss: 0.7875 - accuracy: 0.7255\n",
            "Epoch 422/500\n",
            "6/6 [==============================] - 0s 7ms/step - loss: 0.7822 - accuracy: 0.6863\n",
            "Epoch 423/500\n",
            "6/6 [==============================] - 0s 6ms/step - loss: 0.7687 - accuracy: 0.6667\n",
            "Epoch 424/500\n",
            "6/6 [==============================] - 0s 5ms/step - loss: 0.7583 - accuracy: 0.7255\n",
            "Epoch 425/500\n",
            "6/6 [==============================] - 0s 6ms/step - loss: 0.7835 - accuracy: 0.7451\n",
            "Epoch 426/500\n",
            "6/6 [==============================] - 0s 6ms/step - loss: 0.7823 - accuracy: 0.7059\n",
            "Epoch 427/500\n",
            "6/6 [==============================] - 0s 12ms/step - loss: 0.7748 - accuracy: 0.6863\n",
            "Epoch 428/500\n",
            "6/6 [==============================] - 0s 7ms/step - loss: 0.7678 - accuracy: 0.7059\n",
            "Epoch 429/500\n",
            "6/6 [==============================] - 0s 8ms/step - loss: 0.7676 - accuracy: 0.7059\n",
            "Epoch 430/500\n",
            "6/6 [==============================] - 0s 6ms/step - loss: 0.8156 - accuracy: 0.6667\n",
            "Epoch 431/500\n",
            "6/6 [==============================] - 0s 6ms/step - loss: 0.8436 - accuracy: 0.6471\n",
            "Epoch 432/500\n",
            "6/6 [==============================] - 0s 7ms/step - loss: 0.7595 - accuracy: 0.7059\n",
            "Epoch 433/500\n",
            "6/6 [==============================] - 0s 6ms/step - loss: 0.8031 - accuracy: 0.7059\n",
            "Epoch 434/500\n",
            "6/6 [==============================] - 0s 6ms/step - loss: 0.7587 - accuracy: 0.6863\n",
            "Epoch 435/500\n",
            "6/6 [==============================] - 0s 6ms/step - loss: 0.7549 - accuracy: 0.6863\n",
            "Epoch 436/500\n",
            "6/6 [==============================] - 0s 6ms/step - loss: 0.7549 - accuracy: 0.7059\n",
            "Epoch 437/500\n",
            "6/6 [==============================] - 0s 7ms/step - loss: 0.7882 - accuracy: 0.6667\n",
            "Epoch 438/500\n",
            "6/6 [==============================] - 0s 6ms/step - loss: 0.7720 - accuracy: 0.6863\n",
            "Epoch 439/500\n",
            "6/6 [==============================] - 0s 8ms/step - loss: 0.7650 - accuracy: 0.6667\n",
            "Epoch 440/500\n",
            "6/6 [==============================] - 0s 6ms/step - loss: 0.7602 - accuracy: 0.7255\n",
            "Epoch 441/500\n",
            "6/6 [==============================] - 0s 6ms/step - loss: 0.7724 - accuracy: 0.7255\n",
            "Epoch 442/500\n",
            "6/6 [==============================] - 0s 6ms/step - loss: 0.7567 - accuracy: 0.7255\n",
            "Epoch 443/500\n",
            "6/6 [==============================] - 0s 6ms/step - loss: 0.7623 - accuracy: 0.6667\n",
            "Epoch 444/500\n",
            "6/6 [==============================] - 0s 6ms/step - loss: 0.7608 - accuracy: 0.6863\n",
            "Epoch 445/500\n",
            "6/6 [==============================] - 0s 6ms/step - loss: 0.7910 - accuracy: 0.6471\n",
            "Epoch 446/500\n",
            "6/6 [==============================] - 0s 6ms/step - loss: 0.8010 - accuracy: 0.6667\n",
            "Epoch 447/500\n",
            "6/6 [==============================] - 0s 7ms/step - loss: 0.8435 - accuracy: 0.6078\n",
            "Epoch 448/500\n",
            "6/6 [==============================] - 0s 7ms/step - loss: 0.8381 - accuracy: 0.6275\n",
            "Epoch 449/500\n",
            "6/6 [==============================] - 0s 6ms/step - loss: 0.7910 - accuracy: 0.6667\n",
            "Epoch 450/500\n",
            "6/6 [==============================] - 0s 6ms/step - loss: 0.7913 - accuracy: 0.6275\n",
            "Epoch 451/500\n",
            "6/6 [==============================] - 0s 6ms/step - loss: 0.7912 - accuracy: 0.7255\n",
            "Epoch 452/500\n",
            "6/6 [==============================] - 0s 6ms/step - loss: 0.7992 - accuracy: 0.6667\n",
            "Epoch 453/500\n",
            "6/6 [==============================] - 0s 7ms/step - loss: 0.7678 - accuracy: 0.6863\n",
            "Epoch 454/500\n",
            "6/6 [==============================] - 0s 6ms/step - loss: 0.7466 - accuracy: 0.6863\n",
            "Epoch 455/500\n",
            "6/6 [==============================] - 0s 7ms/step - loss: 0.7569 - accuracy: 0.6667\n",
            "Epoch 456/500\n",
            "6/6 [==============================] - 0s 6ms/step - loss: 0.7677 - accuracy: 0.6667\n",
            "Epoch 457/500\n",
            "6/6 [==============================] - 0s 6ms/step - loss: 0.7876 - accuracy: 0.6863\n",
            "Epoch 458/500\n",
            "6/6 [==============================] - 0s 7ms/step - loss: 0.8106 - accuracy: 0.6078\n",
            "Epoch 459/500\n",
            "6/6 [==============================] - 0s 6ms/step - loss: 0.7851 - accuracy: 0.6863\n",
            "Epoch 460/500\n",
            "6/6 [==============================] - 0s 8ms/step - loss: 0.7594 - accuracy: 0.7059\n",
            "Epoch 461/500\n",
            "6/6 [==============================] - 0s 6ms/step - loss: 0.7884 - accuracy: 0.6667\n",
            "Epoch 462/500\n",
            "6/6 [==============================] - 0s 7ms/step - loss: 0.7945 - accuracy: 0.6471\n",
            "Epoch 463/500\n",
            "6/6 [==============================] - 0s 7ms/step - loss: 0.7876 - accuracy: 0.6667\n",
            "Epoch 464/500\n",
            "6/6 [==============================] - 0s 7ms/step - loss: 0.7677 - accuracy: 0.6275\n",
            "Epoch 465/500\n",
            "6/6 [==============================] - 0s 6ms/step - loss: 0.7703 - accuracy: 0.6471\n",
            "Epoch 466/500\n",
            "6/6 [==============================] - 0s 6ms/step - loss: 0.7775 - accuracy: 0.6667\n",
            "Epoch 467/500\n",
            "6/6 [==============================] - 0s 6ms/step - loss: 0.7633 - accuracy: 0.6078\n",
            "Epoch 468/500\n",
            "6/6 [==============================] - 0s 7ms/step - loss: 0.7711 - accuracy: 0.6471\n",
            "Epoch 469/500\n",
            "6/6 [==============================] - 0s 6ms/step - loss: 0.7662 - accuracy: 0.6471\n",
            "Epoch 470/500\n",
            "6/6 [==============================] - 0s 6ms/step - loss: 0.7679 - accuracy: 0.6471\n",
            "Epoch 471/500\n",
            "6/6 [==============================] - 0s 6ms/step - loss: 0.7761 - accuracy: 0.6667\n",
            "Epoch 472/500\n",
            "6/6 [==============================] - 0s 6ms/step - loss: 0.7447 - accuracy: 0.7059\n",
            "Epoch 473/500\n",
            "6/6 [==============================] - 0s 6ms/step - loss: 0.7459 - accuracy: 0.7059\n",
            "Epoch 474/500\n",
            "6/6 [==============================] - 0s 7ms/step - loss: 0.7529 - accuracy: 0.6863\n",
            "Epoch 475/500\n",
            "6/6 [==============================] - 0s 6ms/step - loss: 0.7604 - accuracy: 0.6863\n",
            "Epoch 476/500\n",
            "6/6 [==============================] - 0s 7ms/step - loss: 0.7779 - accuracy: 0.6863\n",
            "Epoch 477/500\n",
            "6/6 [==============================] - 0s 6ms/step - loss: 0.7622 - accuracy: 0.6667\n",
            "Epoch 478/500\n",
            "6/6 [==============================] - 0s 6ms/step - loss: 0.7459 - accuracy: 0.7059\n",
            "Epoch 479/500\n",
            "6/6 [==============================] - 0s 6ms/step - loss: 0.7347 - accuracy: 0.7059\n",
            "Epoch 480/500\n",
            "6/6 [==============================] - 0s 6ms/step - loss: 0.7221 - accuracy: 0.7451\n",
            "Epoch 481/500\n",
            "6/6 [==============================] - 0s 9ms/step - loss: 0.7394 - accuracy: 0.6667\n",
            "Epoch 482/500\n",
            "6/6 [==============================] - 0s 6ms/step - loss: 0.7322 - accuracy: 0.6863\n",
            "Epoch 483/500\n",
            "6/6 [==============================] - 0s 7ms/step - loss: 0.7585 - accuracy: 0.6863\n",
            "Epoch 484/500\n",
            "6/6 [==============================] - 0s 6ms/step - loss: 0.7484 - accuracy: 0.6667\n",
            "Epoch 485/500\n",
            "6/6 [==============================] - 0s 6ms/step - loss: 0.7314 - accuracy: 0.7255\n",
            "Epoch 486/500\n",
            "6/6 [==============================] - 0s 6ms/step - loss: 0.7388 - accuracy: 0.6863\n",
            "Epoch 487/500\n",
            "6/6 [==============================] - 0s 6ms/step - loss: 0.7440 - accuracy: 0.6863\n",
            "Epoch 488/500\n",
            "6/6 [==============================] - 0s 6ms/step - loss: 0.7339 - accuracy: 0.7059\n",
            "Epoch 489/500\n",
            "6/6 [==============================] - 0s 6ms/step - loss: 0.7323 - accuracy: 0.7059\n",
            "Epoch 490/500\n",
            "6/6 [==============================] - 0s 7ms/step - loss: 0.7487 - accuracy: 0.6863\n",
            "Epoch 491/500\n",
            "6/6 [==============================] - 0s 6ms/step - loss: 0.7587 - accuracy: 0.6667\n",
            "Epoch 492/500\n",
            "6/6 [==============================] - 0s 6ms/step - loss: 0.7456 - accuracy: 0.7059\n",
            "Epoch 493/500\n",
            "6/6 [==============================] - 0s 6ms/step - loss: 0.7591 - accuracy: 0.7255\n",
            "Epoch 494/500\n",
            "6/6 [==============================] - 0s 7ms/step - loss: 0.8084 - accuracy: 0.6275\n",
            "Epoch 495/500\n",
            "6/6 [==============================] - 0s 6ms/step - loss: 0.7637 - accuracy: 0.6667\n",
            "Epoch 496/500\n",
            "6/6 [==============================] - 0s 6ms/step - loss: 0.7544 - accuracy: 0.6667\n",
            "Epoch 497/500\n",
            "6/6 [==============================] - 0s 6ms/step - loss: 0.7536 - accuracy: 0.7059\n",
            "Epoch 498/500\n",
            "6/6 [==============================] - 0s 6ms/step - loss: 0.7802 - accuracy: 0.6471\n",
            "Epoch 499/500\n",
            "6/6 [==============================] - 0s 6ms/step - loss: 0.8411 - accuracy: 0.6078\n",
            "Epoch 500/500\n",
            "6/6 [==============================] - 0s 7ms/step - loss: 0.7668 - accuracy: 0.6667\n"
          ],
          "name": "stdout"
        }
      ]
    },
    {
      "cell_type": "code",
      "metadata": {
        "colab": {
          "base_uri": "https://localhost:8080/"
        },
        "id": "zahFCrbqi1Be",
        "outputId": "da5126e8-4ff9-42a3-9d35-395451be5e8f"
      },
      "source": [
        "model.evaluate(X_train, y_train)"
      ],
      "execution_count": 18,
      "outputs": [
        {
          "output_type": "stream",
          "text": [
            "2/2 [==============================] - 0s 8ms/step - loss: 2.4623 - accuracy: 0.3333\n"
          ],
          "name": "stdout"
        },
        {
          "output_type": "execute_result",
          "data": {
            "text/plain": [
              "[2.462268829345703, 0.3333333432674408]"
            ]
          },
          "metadata": {
            "tags": []
          },
          "execution_count": 18
        }
      ]
    },
    {
      "cell_type": "code",
      "metadata": {
        "colab": {
          "base_uri": "https://localhost:8080/"
        },
        "id": "KrFrYGEnsm7y",
        "outputId": "6351c9c5-c14a-46e5-ea8c-9a4c0cd22599"
      },
      "source": [
        "X_train[0:1]"
      ],
      "execution_count": 25,
      "outputs": [
        {
          "output_type": "execute_result",
          "data": {
            "text/plain": [
              "array([[[0.84615385],\n",
              "        [0.69230769],\n",
              "        [0.15384615]]])"
            ]
          },
          "metadata": {
            "tags": []
          },
          "execution_count": 25
        }
      ]
    },
    {
      "cell_type": "code",
      "metadata": {
        "colab": {
          "base_uri": "https://localhost:8080/"
        },
        "id": "P1z4JkpQlwmG",
        "outputId": "b34dc967-a358-489d-d644-f81dc7d81c5b"
      },
      "source": [
        "model.predict(X_train[0:1])"
      ],
      "execution_count": 27,
      "outputs": [
        {
          "output_type": "execute_result",
          "data": {
            "text/plain": [
              "array([[6.3580319e-07, 4.4194752e-04, 1.5752498e-02, 9.8802397e-05,\n",
              "        9.1378985e-04, 7.0886978e-07, 5.8013171e-07, 1.7947455e-01,\n",
              "        7.1770307e-03, 2.0259745e-02, 7.6679939e-01, 9.0789907e-03,\n",
              "        8.0252499e-07, 5.5807328e-07]], dtype=float32)"
            ]
          },
          "metadata": {
            "tags": []
          },
          "execution_count": 27
        }
      ]
    },
    {
      "cell_type": "code",
      "metadata": {
        "id": "pOPasWsymekE"
      },
      "source": [
        "first = 0.61538462\n",
        "second = 0.07692308\n",
        "third = 0.53846154"
      ],
      "execution_count": 21,
      "outputs": []
    },
    {
      "cell_type": "code",
      "metadata": {
        "id": "7yFL7OOYs3kV"
      },
      "source": [
        "pred = model.predict(X_train[0:1])"
      ],
      "execution_count": 31,
      "outputs": []
    },
    {
      "cell_type": "code",
      "metadata": {
        "colab": {
          "base_uri": "https://localhost:8080/"
        },
        "id": "IwgEz8VrtX14",
        "outputId": "adf44f33-8a3d-4708-fee3-9fa5e02056df"
      },
      "source": [
        "np.argmax(pred)"
      ],
      "execution_count": 33,
      "outputs": [
        {
          "output_type": "execute_result",
          "data": {
            "text/plain": [
              "10"
            ]
          },
          "metadata": {
            "tags": []
          },
          "execution_count": 33
        }
      ]
    },
    {
      "cell_type": "code",
      "metadata": {
        "id": "QOPaWmi0szsn"
      },
      "source": [
        ""
      ],
      "execution_count": null,
      "outputs": []
    }
  ]
}