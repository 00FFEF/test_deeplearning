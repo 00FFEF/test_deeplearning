{
  "nbformat": 4,
  "nbformat_minor": 0,
  "metadata": {
    "colab": {
      "name": "NLTK.ipynb",
      "provenance": [],
      "authorship_tag": "ABX9TyNf5rOjMBS1O3p5GeCLuiER",
      "include_colab_link": true
    },
    "kernelspec": {
      "name": "python3",
      "display_name": "Python 3"
    },
    "language_info": {
      "name": "python"
    }
  },
  "cells": [
    {
      "cell_type": "markdown",
      "metadata": {
        "id": "view-in-github",
        "colab_type": "text"
      },
      "source": [
        "<a href=\"https://colab.research.google.com/github/00FFEF/test_deeplearning/blob/master/NLTK.ipynb\" target=\"_parent\"><img src=\"https://colab.research.google.com/assets/colab-badge.svg\" alt=\"Open In Colab\"/></a>"
      ]
    },
    {
      "cell_type": "code",
      "metadata": {
        "id": "_Tj8gVXZJI7g"
      },
      "source": [
        "example = \"Family is not an important thing. It's everything. He has large house.\""
      ],
      "execution_count": 20,
      "outputs": []
    },
    {
      "cell_type": "code",
      "metadata": {
        "id": "ngl9mFpabxny"
      },
      "source": [
        "example = \"A barber is a person. a barber is good person. a barber is huge person. he Knew A Secret! The Secret He Kept is huge secret. Huge secret. His barber kept his word. a barber kept his word. His barber kept his secret. But keeping and keeping such a huge secret to himself was driving the barber crazy. the barber went up a huge mountain.\""
      ],
      "execution_count": 33,
      "outputs": []
    },
    {
      "cell_type": "code",
      "metadata": {
        "colab": {
          "base_uri": "https://localhost:8080/"
        },
        "id": "ShZVrXE1SvWb",
        "outputId": "4c9443a6-9e11-4255-e060-5f94b8b08c8b"
      },
      "source": [
        "import nltk\n",
        "nltk.download('punkt')"
      ],
      "execution_count": 21,
      "outputs": [
        {
          "output_type": "stream",
          "text": [
            "[nltk_data] Downloading package punkt to /root/nltk_data...\n",
            "[nltk_data]   Package punkt is already up-to-date!\n"
          ],
          "name": "stdout"
        },
        {
          "output_type": "execute_result",
          "data": {
            "text/plain": [
              "True"
            ]
          },
          "metadata": {
            "tags": []
          },
          "execution_count": 21
        }
      ]
    },
    {
      "cell_type": "code",
      "metadata": {
        "colab": {
          "base_uri": "https://localhost:8080/"
        },
        "id": "K15Z5H4dTkdR",
        "outputId": "32901dff-a59c-4365-a5dc-be381661c3b4"
      },
      "source": [
        "tok_words = nltk.tokenize.word_tokenize(example)\n",
        "print(tok_words)"
      ],
      "execution_count": 34,
      "outputs": [
        {
          "output_type": "stream",
          "text": [
            "['A', 'barber', 'is', 'a', 'person', '.', 'a', 'barber', 'is', 'good', 'person', '.', 'a', 'barber', 'is', 'huge', 'person', '.', 'he', 'Knew', 'A', 'Secret', '!', 'The', 'Secret', 'He', 'Kept', 'is', 'huge', 'secret', '.', 'Huge', 'secret', '.', 'His', 'barber', 'kept', 'his', 'word', '.', 'a', 'barber', 'kept', 'his', 'word', '.', 'His', 'barber', 'kept', 'his', 'secret', '.', 'But', 'keeping', 'and', 'keeping', 'such', 'a', 'huge', 'secret', 'to', 'himself', 'was', 'driving', 'the', 'barber', 'crazy', '.', 'the', 'barber', 'went', 'up', 'a', 'huge', 'mountain', '.']\n"
          ],
          "name": "stdout"
        }
      ]
    },
    {
      "cell_type": "code",
      "metadata": {
        "colab": {
          "base_uri": "https://localhost:8080/"
        },
        "id": "wspvE_BVVwhn",
        "outputId": "19e51191-db04-4d54-b30f-a90d15863a3b"
      },
      "source": [
        "nltk.download('stopwords')"
      ],
      "execution_count": 23,
      "outputs": [
        {
          "output_type": "stream",
          "text": [
            "[nltk_data] Downloading package stopwords to /root/nltk_data...\n",
            "[nltk_data]   Package stopwords is already up-to-date!\n"
          ],
          "name": "stdout"
        },
        {
          "output_type": "execute_result",
          "data": {
            "text/plain": [
              "True"
            ]
          },
          "metadata": {
            "tags": []
          },
          "execution_count": 23
        }
      ]
    },
    {
      "cell_type": "code",
      "metadata": {
        "id": "dYhULKFITtVx"
      },
      "source": [
        "stop_words = nltk.corpus.stopwords.words('english')\n",
        "len(stop_words)"
      ],
      "execution_count": null,
      "outputs": []
    },
    {
      "cell_type": "code",
      "metadata": {
        "id": "9yEDTUhDYfHQ"
      },
      "source": [
        "stop_words.extend(['.'])\n",
        "len(stop_words)"
      ],
      "execution_count": null,
      "outputs": []
    },
    {
      "cell_type": "code",
      "metadata": {
        "id": "lJfBGWNRY30Q"
      },
      "source": [
        "stop_words = set(stop_words)\n",
        "len(stop_words)"
      ],
      "execution_count": null,
      "outputs": []
    },
    {
      "cell_type": "code",
      "metadata": {
        "id": "I7ro54tPVO5J"
      },
      "source": [
        "# 불용어 처리\n",
        "for tok in tok_words:\n",
        "  # print(tok)\n",
        "  if tok not in stop_words:\n",
        "    print(tok)"
      ],
      "execution_count": null,
      "outputs": []
    },
    {
      "cell_type": "code",
      "metadata": {
        "id": "poO4WHMYXyID"
      },
      "source": [
        "lemn = nltk.stem.WordNetLemmatizer()"
      ],
      "execution_count": 37,
      "outputs": []
    },
    {
      "cell_type": "code",
      "metadata": {
        "id": "aJErZS4Ka96a"
      },
      "source": [
        "nltk.download('wordnet')"
      ],
      "execution_count": null,
      "outputs": []
    },
    {
      "cell_type": "code",
      "metadata": {
        "colab": {
          "base_uri": "https://localhost:8080/"
        },
        "id": "q818lyDNaJCY",
        "outputId": "10168e00-99e2-450a-ab93-c6f8358755a3"
      },
      "source": [
        "sentence = list()\n",
        "for tok in tok_words:\n",
        "  # print(tok, ', ', lemn.lemmatize(tok))\n",
        "  sentence.append(lemn.lemmatize(tok).lower())\n",
        "\n",
        "print(sentence)"
      ],
      "execution_count": 41,
      "outputs": [
        {
          "output_type": "stream",
          "text": [
            "['a', 'barber', 'is', 'a', 'person', '.', 'a', 'barber', 'is', 'good', 'person', '.', 'a', 'barber', 'is', 'huge', 'person', '.', 'he', 'knew', 'a', 'secret', '!', 'the', 'secret', 'he', 'kept', 'is', 'huge', 'secret', '.', 'huge', 'secret', '.', 'his', 'barber', 'kept', 'his', 'word', '.', 'a', 'barber', 'kept', 'his', 'word', '.', 'his', 'barber', 'kept', 'his', 'secret', '.', 'but', 'keeping', 'and', 'keeping', 'such', 'a', 'huge', 'secret', 'to', 'himself', 'wa', 'driving', 'the', 'barber', 'crazy', '.', 'the', 'barber', 'went', 'up', 'a', 'huge', 'mountain', '.']\n"
          ],
          "name": "stdout"
        }
      ]
    },
    {
      "cell_type": "code",
      "metadata": {
        "id": "8xjxYKU8gUc5"
      },
      "source": [
        "import tensorflow as tf"
      ],
      "execution_count": 42,
      "outputs": []
    },
    {
      "cell_type": "code",
      "metadata": {
        "colab": {
          "base_uri": "https://localhost:8080/"
        },
        "id": "M1_M80GUg1dL",
        "outputId": "81b4f769-f606-42f6-8bf3-2449109b157a"
      },
      "source": [
        "tokenizer = tf.keras.preprocessing.text.Tokenizer()\n",
        "tokenizer"
      ],
      "execution_count": 43,
      "outputs": [
        {
          "output_type": "execute_result",
          "data": {
            "text/plain": [
              "<keras_preprocessing.text.Tokenizer at 0x7fcb25843410>"
            ]
          },
          "metadata": {
            "tags": []
          },
          "execution_count": 43
        }
      ]
    },
    {
      "cell_type": "code",
      "metadata": {
        "id": "ow4bChMchFSL"
      },
      "source": [
        "tokenizer.fit_on_texts(sentence)"
      ],
      "execution_count": 44,
      "outputs": []
    },
    {
      "cell_type": "code",
      "metadata": {
        "colab": {
          "base_uri": "https://localhost:8080/"
        },
        "id": "uUkg8NOrhj9Z",
        "outputId": "52115cf1-1003-41d0-9dd9-49945b43f7f1"
      },
      "source": [
        "print(tokenizer.word_index)"
      ],
      "execution_count": 45,
      "outputs": [
        {
          "output_type": "stream",
          "text": [
            "{'a': 1, 'barber': 2, 'secret': 3, 'huge': 4, 'his': 5, 'is': 6, 'kept': 7, 'person': 8, 'the': 9, 'he': 10, 'word': 11, 'keeping': 12, 'good': 13, 'knew': 14, 'but': 15, 'and': 16, 'such': 17, 'to': 18, 'himself': 19, 'wa': 20, 'driving': 21, 'crazy': 22, 'went': 23, 'up': 24, 'mountain': 25}\n"
          ],
          "name": "stdout"
        }
      ]
    },
    {
      "cell_type": "code",
      "metadata": {
        "colab": {
          "base_uri": "https://localhost:8080/"
        },
        "id": "CQyvJ9BChpSb",
        "outputId": "f9e9e159-edd1-4bbd-e476-570fec55ff7e"
      },
      "source": [
        "print(tokenizer.word_counts)"
      ],
      "execution_count": 46,
      "outputs": [
        {
          "output_type": "stream",
          "text": [
            "OrderedDict([('a', 8), ('barber', 8), ('is', 4), ('person', 3), ('good', 1), ('huge', 5), ('he', 2), ('knew', 1), ('secret', 6), ('the', 3), ('kept', 4), ('his', 5), ('word', 2), ('but', 1), ('keeping', 2), ('and', 1), ('such', 1), ('to', 1), ('himself', 1), ('wa', 1), ('driving', 1), ('crazy', 1), ('went', 1), ('up', 1), ('mountain', 1)])\n"
          ],
          "name": "stdout"
        }
      ]
    },
    {
      "cell_type": "code",
      "metadata": {
        "colab": {
          "base_uri": "https://localhost:8080/"
        },
        "id": "-n9yIIp5h5tK",
        "outputId": "84b0c96e-3353-42ee-b6f2-043d4979d546"
      },
      "source": [
        "seq = tokenizer.texts_to_sequences(sentence)\n",
        "print(seq)"
      ],
      "execution_count": 47,
      "outputs": [
        {
          "output_type": "stream",
          "text": [
            "[[1], [2], [6], [1], [8], [], [1], [2], [6], [13], [8], [], [1], [2], [6], [4], [8], [], [10], [14], [1], [3], [], [9], [3], [10], [7], [6], [4], [3], [], [4], [3], [], [5], [2], [7], [5], [11], [], [1], [2], [7], [5], [11], [], [5], [2], [7], [5], [3], [], [15], [12], [16], [12], [17], [1], [4], [3], [18], [19], [20], [21], [9], [2], [22], [], [9], [2], [23], [24], [1], [4], [25], []]\n"
          ],
          "name": "stdout"
        }
      ]
    },
    {
      "cell_type": "code",
      "metadata": {
        "id": "P-kbWR1iilg0"
      },
      "source": [
        ""
      ],
      "execution_count": null,
      "outputs": []
    }
  ]
}