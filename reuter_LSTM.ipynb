{
  "nbformat": 4,
  "nbformat_minor": 0,
  "metadata": {
    "colab": {
      "name": "reuter_LSTM.ipynb",
      "provenance": [],
      "authorship_tag": "ABX9TyMG7BHVCasubMmYEHWTriJd"
    },
    "kernelspec": {
      "name": "python3",
      "display_name": "Python 3"
    },
    "language_info": {
      "name": "python"
    }
  },
  "cells": [
    {
      "cell_type": "code",
      "metadata": {
        "id": "grsTldaY3Idj"
      },
      "source": [
        "import tensorflow as tf"
      ],
      "execution_count": 27,
      "outputs": []
    },
    {
      "cell_type": "code",
      "metadata": {
        "colab": {
          "base_uri": "https://localhost:8080/"
        },
        "id": "GvSYPtn84tZY",
        "outputId": "125bce23-c18b-4f73-d8b1-ea01409678e9"
      },
      "source": [
        "(x_train, y_train), (x_test, y_test) = tf.keras.datasets.reuters.load_data(num_words=10000)"
      ],
      "execution_count": 28,
      "outputs": [
        {
          "output_type": "stream",
          "text": [
            "/usr/local/lib/python3.7/dist-packages/tensorflow/python/keras/datasets/reuters.py:143: VisibleDeprecationWarning: Creating an ndarray from ragged nested sequences (which is a list-or-tuple of lists-or-tuples-or ndarrays with different lengths or shapes) is deprecated. If you meant to do this, you must specify 'dtype=object' when creating the ndarray\n",
            "  x_train, y_train = np.array(xs[:idx]), np.array(labels[:idx])\n",
            "/usr/local/lib/python3.7/dist-packages/tensorflow/python/keras/datasets/reuters.py:144: VisibleDeprecationWarning: Creating an ndarray from ragged nested sequences (which is a list-or-tuple of lists-or-tuples-or ndarrays with different lengths or shapes) is deprecated. If you meant to do this, you must specify 'dtype=object' when creating the ndarray\n",
            "  x_test, y_test = np.array(xs[idx:]), np.array(labels[idx:])\n"
          ],
          "name": "stderr"
        }
      ]
    },
    {
      "cell_type": "code",
      "metadata": {
        "colab": {
          "base_uri": "https://localhost:8080/"
        },
        "id": "3K6fjVLA4wfR",
        "outputId": "ea39fdd6-4308-42f7-cfb6-406bf28a4d67"
      },
      "source": [
        "x_train.shape, y_train.shape, x_test.shape, y_test.shape"
      ],
      "execution_count": 29,
      "outputs": [
        {
          "output_type": "execute_result",
          "data": {
            "text/plain": [
              "((8982,), (8982,), (2246,), (2246,))"
            ]
          },
          "metadata": {
            "tags": []
          },
          "execution_count": 29
        }
      ]
    },
    {
      "cell_type": "code",
      "metadata": {
        "colab": {
          "base_uri": "https://localhost:8080/"
        },
        "id": "bTABfcvB5-bS",
        "outputId": "e5b0c094-1640-4a4c-db77-dd2663c338c9"
      },
      "source": [
        "print(y_train[50], x_train[50])"
      ],
      "execution_count": 30,
      "outputs": [
        {
          "output_type": "stream",
          "text": [
            "4 [1, 1479, 1197, 71, 8, 25, 1479, 1197, 640, 71, 304, 471, 80, 9, 1379, 1901, 4530, 6797, 79, 5, 8144, 71, 175, 80, 58, 4, 1279, 5, 63, 32, 20, 5, 4, 326, 175, 80, 335, 7, 10, 845, 31, 4, 221, 9, 108, 259, 1479, 1197, 640, 8, 16, 600, 69, 68, 11, 15, 6, 8144, 21, 397, 321, 6, 438, 1761, 3072, 79, 5, 8144, 1040, 894, 1051, 617, 80, 4, 617, 80, 23, 1051, 172, 3814, 3206, 8144, 175, 79, 9, 1379, 6, 264, 395, 3814, 3206, 79, 1479, 1197, 9, 25, 323, 8, 4, 8144, 80, 23, 381, 43, 42, 205, 50, 77, 33, 909, 9, 3509, 22, 216, 6, 216, 17, 12]\n"
          ],
          "name": "stdout"
        }
      ]
    },
    {
      "cell_type": "code",
      "metadata": {
        "colab": {
          "base_uri": "https://localhost:8080/"
        },
        "id": "4BiUXkU06WI5",
        "outputId": "2889bbe7-c3c8-476a-80e3-953975759232"
      },
      "source": [
        "len(x_train[50]), len(x_train[400]), len(x_train[200])"
      ],
      "execution_count": 31,
      "outputs": [
        {
          "output_type": "execute_result",
          "data": {
            "text/plain": [
              "(118, 90, 212)"
            ]
          },
          "metadata": {
            "tags": []
          },
          "execution_count": 31
        }
      ]
    },
    {
      "cell_type": "code",
      "metadata": {
        "colab": {
          "base_uri": "https://localhost:8080/"
        },
        "id": "o_nofX1KB3Mz",
        "outputId": "782c3cbc-2aa3-4956-a98b-92acc166f864"
      },
      "source": [
        "pad_x_train = tf.keras.preprocessing.sequence.pad_sequences(x_train, maxlen=500)\n",
        "len(pad_x_train[50])"
      ],
      "execution_count": 32,
      "outputs": [
        {
          "output_type": "execute_result",
          "data": {
            "text/plain": [
              "500"
            ]
          },
          "metadata": {
            "tags": []
          },
          "execution_count": 32
        }
      ]
    },
    {
      "cell_type": "code",
      "metadata": {
        "id": "63NYPcGFEV5J"
      },
      "source": [
        "import numpy as np"
      ],
      "execution_count": 33,
      "outputs": []
    },
    {
      "cell_type": "code",
      "metadata": {
        "colab": {
          "base_uri": "https://localhost:8080/"
        },
        "id": "fGb0d9Q5EYoR",
        "outputId": "35d5b2c0-9ed1-4a27-ed03-b896cf56c468"
      },
      "source": [
        "np.unique(y_train).shape"
      ],
      "execution_count": 34,
      "outputs": [
        {
          "output_type": "execute_result",
          "data": {
            "text/plain": [
              "(46,)"
            ]
          },
          "metadata": {
            "tags": []
          },
          "execution_count": 34
        }
      ]
    },
    {
      "cell_type": "markdown",
      "metadata": {
        "id": "ca-KPkYY7edB"
      },
      "source": [
        "# Make Model"
      ]
    },
    {
      "cell_type": "code",
      "metadata": {
        "id": "z0psjsxU7c2u"
      },
      "source": [
        "model = tf.keras.models.Sequential()"
      ],
      "execution_count": 35,
      "outputs": []
    },
    {
      "cell_type": "code",
      "metadata": {
        "id": "oXXSbo6H76kp"
      },
      "source": [
        "model.add(tf.keras.layers.Embedding(input_length=500, input_dim=10000, output_dim=24))\n",
        "model.add(tf.keras.layers.LSTM(24, return_sequences=True, activation='tanh'))\n",
        "model.add(tf.keras.layers.LSTM(12, activation='tanh'))\n",
        "# model.add(tf.keras.layers.Flatten())\n",
        "model.add(tf.keras.layers.Dense(46, activation='softmax'))\n",
        "\n",
        "model.compile(optimizer='adam', loss='sparse_categorical_crossentropy', metrics=['acc'])"
      ],
      "execution_count": 36,
      "outputs": []
    },
    {
      "cell_type": "code",
      "metadata": {
        "colab": {
          "base_uri": "https://localhost:8080/"
        },
        "id": "T0WLYInhIJgz",
        "outputId": "b734ab5d-287c-41cb-cd6c-b42260f4da01"
      },
      "source": [
        "hist = model.fit(pad_x_train, y_train, epochs=100, validation_split=0.3, batch_size=256)\n",
        "# hist = model.fit(pad_x_train, y_train, epochs=5, validation_split=0.3, batch_size=128)"
      ],
      "execution_count": 37,
      "outputs": [
        {
          "output_type": "stream",
          "text": [
            "Epoch 1/100\n",
            "25/25 [==============================] - 22s 752ms/step - loss: 3.7479 - acc: 0.3057 - val_loss: 3.5032 - val_acc: 0.3532\n",
            "Epoch 2/100\n",
            "25/25 [==============================] - 18s 710ms/step - loss: 3.2212 - acc: 0.3510 - val_loss: 2.9667 - val_acc: 0.3532\n",
            "Epoch 3/100\n",
            "25/25 [==============================] - 18s 714ms/step - loss: 2.8237 - acc: 0.3510 - val_loss: 2.6428 - val_acc: 0.3532\n",
            "Epoch 4/100\n",
            "25/25 [==============================] - 18s 714ms/step - loss: 2.5842 - acc: 0.3510 - val_loss: 2.4855 - val_acc: 0.3532\n",
            "Epoch 5/100\n",
            "25/25 [==============================] - 18s 713ms/step - loss: 2.4826 - acc: 0.3510 - val_loss: 2.4252 - val_acc: 0.3532\n",
            "Epoch 6/100\n",
            "25/25 [==============================] - 18s 715ms/step - loss: 2.4445 - acc: 0.3510 - val_loss: 2.4033 - val_acc: 0.3532\n",
            "Epoch 7/100\n",
            "25/25 [==============================] - 18s 718ms/step - loss: 2.4293 - acc: 0.3510 - val_loss: 2.3929 - val_acc: 0.3532\n",
            "Epoch 8/100\n",
            "25/25 [==============================] - 18s 715ms/step - loss: 2.4225 - acc: 0.3510 - val_loss: 2.3881 - val_acc: 0.3532\n",
            "Epoch 9/100\n",
            "25/25 [==============================] - 18s 714ms/step - loss: 2.4187 - acc: 0.3510 - val_loss: 2.3861 - val_acc: 0.3532\n",
            "Epoch 10/100\n",
            "25/25 [==============================] - 18s 714ms/step - loss: 2.4164 - acc: 0.3510 - val_loss: 2.3846 - val_acc: 0.3532\n",
            "Epoch 11/100\n",
            "25/25 [==============================] - 18s 713ms/step - loss: 2.4150 - acc: 0.3510 - val_loss: 2.3833 - val_acc: 0.3532\n",
            "Epoch 12/100\n",
            "25/25 [==============================] - 18s 715ms/step - loss: 2.4140 - acc: 0.3510 - val_loss: 2.3832 - val_acc: 0.3532\n",
            "Epoch 13/100\n",
            "25/25 [==============================] - 18s 712ms/step - loss: 2.4135 - acc: 0.3510 - val_loss: 2.3825 - val_acc: 0.3532\n",
            "Epoch 14/100\n",
            "25/25 [==============================] - 18s 717ms/step - loss: 2.4130 - acc: 0.3510 - val_loss: 2.3822 - val_acc: 0.3532\n",
            "Epoch 15/100\n",
            "25/25 [==============================] - 18s 715ms/step - loss: 2.4127 - acc: 0.3510 - val_loss: 2.3821 - val_acc: 0.3532\n",
            "Epoch 16/100\n",
            "25/25 [==============================] - 18s 712ms/step - loss: 2.4124 - acc: 0.3510 - val_loss: 2.3820 - val_acc: 0.3532\n",
            "Epoch 17/100\n",
            "25/25 [==============================] - 18s 711ms/step - loss: 2.4122 - acc: 0.3510 - val_loss: 2.3824 - val_acc: 0.3532\n",
            "Epoch 18/100\n",
            "25/25 [==============================] - 18s 716ms/step - loss: 2.4121 - acc: 0.3510 - val_loss: 2.3822 - val_acc: 0.3532\n",
            "Epoch 19/100\n",
            "25/25 [==============================] - 18s 718ms/step - loss: 2.4118 - acc: 0.3510 - val_loss: 2.3822 - val_acc: 0.3532\n",
            "Epoch 20/100\n",
            "25/25 [==============================] - 18s 734ms/step - loss: 2.4119 - acc: 0.3510 - val_loss: 2.3826 - val_acc: 0.3532\n",
            "Epoch 21/100\n",
            "25/25 [==============================] - 18s 730ms/step - loss: 2.4118 - acc: 0.3510 - val_loss: 2.3823 - val_acc: 0.3532\n",
            "Epoch 22/100\n",
            "25/25 [==============================] - 18s 721ms/step - loss: 2.4118 - acc: 0.3510 - val_loss: 2.3820 - val_acc: 0.3532\n",
            "Epoch 23/100\n",
            "25/25 [==============================] - 18s 726ms/step - loss: 2.4116 - acc: 0.3510 - val_loss: 2.3823 - val_acc: 0.3532\n",
            "Epoch 24/100\n",
            "25/25 [==============================] - 18s 729ms/step - loss: 2.4119 - acc: 0.3510 - val_loss: 2.3823 - val_acc: 0.3532\n",
            "Epoch 25/100\n",
            "25/25 [==============================] - 18s 722ms/step - loss: 2.4116 - acc: 0.3510 - val_loss: 2.3824 - val_acc: 0.3532\n",
            "Epoch 26/100\n",
            "25/25 [==============================] - 18s 720ms/step - loss: 2.4117 - acc: 0.3510 - val_loss: 2.3822 - val_acc: 0.3532\n",
            "Epoch 27/100\n",
            "25/25 [==============================] - 18s 722ms/step - loss: 2.4117 - acc: 0.3510 - val_loss: 2.3822 - val_acc: 0.3532\n",
            "Epoch 28/100\n",
            "25/25 [==============================] - 18s 722ms/step - loss: 2.4117 - acc: 0.3510 - val_loss: 2.3817 - val_acc: 0.3532\n",
            "Epoch 29/100\n",
            "25/25 [==============================] - 18s 736ms/step - loss: 2.4119 - acc: 0.3510 - val_loss: 2.3822 - val_acc: 0.3532\n",
            "Epoch 30/100\n",
            "25/25 [==============================] - 18s 722ms/step - loss: 2.4116 - acc: 0.3510 - val_loss: 2.3826 - val_acc: 0.3532\n",
            "Epoch 31/100\n",
            "25/25 [==============================] - 18s 719ms/step - loss: 2.4116 - acc: 0.3510 - val_loss: 2.3821 - val_acc: 0.3532\n",
            "Epoch 32/100\n",
            "25/25 [==============================] - 18s 721ms/step - loss: 2.4116 - acc: 0.3510 - val_loss: 2.3822 - val_acc: 0.3532\n",
            "Epoch 33/100\n",
            "25/25 [==============================] - 18s 728ms/step - loss: 2.4114 - acc: 0.3510 - val_loss: 2.3822 - val_acc: 0.3532\n",
            "Epoch 34/100\n",
            "25/25 [==============================] - 18s 730ms/step - loss: 2.4118 - acc: 0.3510 - val_loss: 2.3824 - val_acc: 0.3532\n",
            "Epoch 35/100\n",
            "25/25 [==============================] - 18s 732ms/step - loss: 2.4115 - acc: 0.3510 - val_loss: 2.3823 - val_acc: 0.3532\n",
            "Epoch 36/100\n",
            "25/25 [==============================] - 18s 738ms/step - loss: 2.4113 - acc: 0.3510 - val_loss: 2.3817 - val_acc: 0.3532\n",
            "Epoch 37/100\n",
            "25/25 [==============================] - 18s 730ms/step - loss: 2.4091 - acc: 0.3510 - val_loss: 2.3732 - val_acc: 0.3532\n",
            "Epoch 38/100\n",
            "25/25 [==============================] - 18s 722ms/step - loss: 2.3612 - acc: 0.3510 - val_loss: 2.3282 - val_acc: 0.3532\n",
            "Epoch 39/100\n",
            "25/25 [==============================] - 18s 722ms/step - loss: 2.2827 - acc: 0.3510 - val_loss: 2.1956 - val_acc: 0.3532\n",
            "Epoch 40/100\n",
            "25/25 [==============================] - 18s 720ms/step - loss: 2.2130 - acc: 0.3510 - val_loss: 2.2277 - val_acc: 0.3532\n",
            "Epoch 41/100\n",
            "25/25 [==============================] - 18s 718ms/step - loss: 2.2020 - acc: 0.3510 - val_loss: 2.1446 - val_acc: 0.3532\n",
            "Epoch 42/100\n",
            "25/25 [==============================] - 18s 724ms/step - loss: 2.1268 - acc: 0.3510 - val_loss: 2.0898 - val_acc: 0.3532\n",
            "Epoch 43/100\n",
            "25/25 [==============================] - 18s 719ms/step - loss: 2.0622 - acc: 0.3510 - val_loss: 2.0505 - val_acc: 0.3532\n",
            "Epoch 44/100\n",
            "25/25 [==============================] - 18s 716ms/step - loss: 2.0155 - acc: 0.3803 - val_loss: 2.0230 - val_acc: 0.3788\n",
            "Epoch 45/100\n",
            "25/25 [==============================] - 18s 720ms/step - loss: 1.9963 - acc: 0.3940 - val_loss: 2.0211 - val_acc: 0.3781\n",
            "Epoch 46/100\n",
            "25/25 [==============================] - 18s 721ms/step - loss: 1.9671 - acc: 0.3926 - val_loss: 1.9971 - val_acc: 0.3918\n",
            "Epoch 47/100\n",
            "25/25 [==============================] - 18s 716ms/step - loss: 1.9323 - acc: 0.4031 - val_loss: 1.9813 - val_acc: 0.3915\n",
            "Epoch 48/100\n",
            "25/25 [==============================] - 18s 715ms/step - loss: 1.9144 - acc: 0.4040 - val_loss: 1.9799 - val_acc: 0.3915\n",
            "Epoch 49/100\n",
            "25/25 [==============================] - 18s 720ms/step - loss: 1.8999 - acc: 0.4035 - val_loss: 1.9695 - val_acc: 0.3929\n",
            "Epoch 50/100\n",
            "25/25 [==============================] - 18s 723ms/step - loss: 1.8832 - acc: 0.4050 - val_loss: 1.9677 - val_acc: 0.3933\n",
            "Epoch 51/100\n",
            "25/25 [==============================] - 18s 718ms/step - loss: 1.8632 - acc: 0.4048 - val_loss: 1.9364 - val_acc: 0.3941\n",
            "Epoch 52/100\n",
            "25/25 [==============================] - 18s 724ms/step - loss: 1.8258 - acc: 0.4046 - val_loss: 1.9351 - val_acc: 0.3959\n",
            "Epoch 53/100\n",
            "25/25 [==============================] - 18s 731ms/step - loss: 1.7837 - acc: 0.4107 - val_loss: 1.9214 - val_acc: 0.4030\n",
            "Epoch 54/100\n",
            "25/25 [==============================] - 18s 734ms/step - loss: 1.7548 - acc: 0.4158 - val_loss: 1.9618 - val_acc: 0.3955\n",
            "Epoch 55/100\n",
            "25/25 [==============================] - 18s 721ms/step - loss: 1.7298 - acc: 0.4191 - val_loss: 1.9135 - val_acc: 0.4037\n",
            "Epoch 56/100\n",
            "25/25 [==============================] - 18s 719ms/step - loss: 1.6924 - acc: 0.4285 - val_loss: 1.9043 - val_acc: 0.4078\n",
            "Epoch 57/100\n",
            "25/25 [==============================] - 18s 721ms/step - loss: 1.6778 - acc: 0.4291 - val_loss: 1.9210 - val_acc: 0.3993\n",
            "Epoch 58/100\n",
            "25/25 [==============================] - 18s 713ms/step - loss: 1.6568 - acc: 0.4357 - val_loss: 1.9031 - val_acc: 0.4048\n",
            "Epoch 59/100\n",
            "25/25 [==============================] - 18s 717ms/step - loss: 1.6176 - acc: 0.4458 - val_loss: 1.8997 - val_acc: 0.4085\n",
            "Epoch 60/100\n",
            "25/25 [==============================] - 18s 719ms/step - loss: 1.6040 - acc: 0.4541 - val_loss: 1.9091 - val_acc: 0.4104\n",
            "Epoch 61/100\n",
            "25/25 [==============================] - 18s 720ms/step - loss: 1.5799 - acc: 0.4586 - val_loss: 1.9074 - val_acc: 0.4111\n",
            "Epoch 62/100\n",
            "25/25 [==============================] - 18s 719ms/step - loss: 1.5517 - acc: 0.4695 - val_loss: 1.9046 - val_acc: 0.4197\n",
            "Epoch 63/100\n",
            "25/25 [==============================] - 18s 718ms/step - loss: 1.5253 - acc: 0.4792 - val_loss: 1.9144 - val_acc: 0.4130\n",
            "Epoch 64/100\n",
            "25/25 [==============================] - 18s 714ms/step - loss: 1.5125 - acc: 0.4796 - val_loss: 1.9055 - val_acc: 0.4204\n",
            "Epoch 65/100\n",
            "25/25 [==============================] - 18s 714ms/step - loss: 1.4956 - acc: 0.4808 - val_loss: 1.9364 - val_acc: 0.4104\n",
            "Epoch 66/100\n",
            "25/25 [==============================] - 18s 718ms/step - loss: 1.5004 - acc: 0.4762 - val_loss: 1.9205 - val_acc: 0.4193\n",
            "Epoch 67/100\n",
            "25/25 [==============================] - 18s 720ms/step - loss: 1.4674 - acc: 0.4869 - val_loss: 1.9152 - val_acc: 0.4156\n",
            "Epoch 68/100\n",
            "25/25 [==============================] - 18s 713ms/step - loss: 1.4696 - acc: 0.4845 - val_loss: 1.9438 - val_acc: 0.4089\n",
            "Epoch 69/100\n",
            "25/25 [==============================] - 18s 716ms/step - loss: 1.4466 - acc: 0.4885 - val_loss: 1.9301 - val_acc: 0.4167\n",
            "Epoch 70/100\n",
            "25/25 [==============================] - 18s 720ms/step - loss: 1.4222 - acc: 0.4953 - val_loss: 1.9413 - val_acc: 0.4171\n",
            "Epoch 71/100\n",
            "25/25 [==============================] - 18s 730ms/step - loss: 1.4031 - acc: 0.5015 - val_loss: 1.9453 - val_acc: 0.4160\n",
            "Epoch 72/100\n",
            "25/25 [==============================] - 18s 732ms/step - loss: 1.3913 - acc: 0.5025 - val_loss: 1.9652 - val_acc: 0.4126\n",
            "Epoch 73/100\n",
            "25/25 [==============================] - 18s 733ms/step - loss: 1.3743 - acc: 0.5076 - val_loss: 1.9656 - val_acc: 0.4167\n",
            "Epoch 74/100\n",
            "25/25 [==============================] - 18s 731ms/step - loss: 1.3698 - acc: 0.5060 - val_loss: 1.9539 - val_acc: 0.4163\n",
            "Epoch 75/100\n",
            "25/25 [==============================] - 18s 721ms/step - loss: 1.3641 - acc: 0.5099 - val_loss: 1.9622 - val_acc: 0.4171\n",
            "Epoch 76/100\n",
            "25/25 [==============================] - 18s 717ms/step - loss: 1.3867 - acc: 0.4991 - val_loss: 1.9543 - val_acc: 0.4193\n",
            "Epoch 77/100\n",
            "25/25 [==============================] - 18s 721ms/step - loss: 1.3579 - acc: 0.5099 - val_loss: 1.9713 - val_acc: 0.4156\n",
            "Epoch 78/100\n",
            "25/25 [==============================] - 18s 728ms/step - loss: 1.3547 - acc: 0.5101 - val_loss: 1.9766 - val_acc: 0.4193\n",
            "Epoch 79/100\n",
            "25/25 [==============================] - 18s 727ms/step - loss: 1.3270 - acc: 0.5204 - val_loss: 1.9746 - val_acc: 0.4193\n",
            "Epoch 80/100\n",
            "25/25 [==============================] - 18s 732ms/step - loss: 1.3145 - acc: 0.5257 - val_loss: 1.9682 - val_acc: 0.4263\n",
            "Epoch 81/100\n",
            "25/25 [==============================] - 18s 723ms/step - loss: 1.3036 - acc: 0.5336 - val_loss: 1.9810 - val_acc: 0.4197\n",
            "Epoch 82/100\n",
            "25/25 [==============================] - 18s 723ms/step - loss: 1.2914 - acc: 0.5403 - val_loss: 1.9810 - val_acc: 0.4241\n",
            "Epoch 83/100\n",
            "25/25 [==============================] - 18s 728ms/step - loss: 1.3314 - acc: 0.5165 - val_loss: 1.9978 - val_acc: 0.4171\n",
            "Epoch 84/100\n",
            "25/25 [==============================] - 18s 727ms/step - loss: 1.2899 - acc: 0.5418 - val_loss: 1.9834 - val_acc: 0.4278\n",
            "Epoch 85/100\n",
            "25/25 [==============================] - 18s 726ms/step - loss: 1.2672 - acc: 0.5542 - val_loss: 1.9789 - val_acc: 0.4282\n",
            "Epoch 86/100\n",
            "25/25 [==============================] - 18s 732ms/step - loss: 1.2491 - acc: 0.5650 - val_loss: 2.0017 - val_acc: 0.4278\n",
            "Epoch 87/100\n",
            "25/25 [==============================] - 18s 730ms/step - loss: 1.2462 - acc: 0.5664 - val_loss: 1.9928 - val_acc: 0.4293\n",
            "Epoch 88/100\n",
            "25/25 [==============================] - 18s 726ms/step - loss: 1.2272 - acc: 0.5737 - val_loss: 1.9974 - val_acc: 0.4278\n",
            "Epoch 89/100\n",
            "25/25 [==============================] - 18s 731ms/step - loss: 1.2364 - acc: 0.5639 - val_loss: 2.0167 - val_acc: 0.4204\n",
            "Epoch 90/100\n",
            "25/25 [==============================] - 18s 728ms/step - loss: 1.2149 - acc: 0.5755 - val_loss: 2.0101 - val_acc: 0.4215\n",
            "Epoch 91/100\n",
            "25/25 [==============================] - 18s 727ms/step - loss: 1.1995 - acc: 0.5818 - val_loss: 2.0138 - val_acc: 0.4260\n",
            "Epoch 92/100\n",
            "25/25 [==============================] - 18s 729ms/step - loss: 1.1940 - acc: 0.5812 - val_loss: 2.0216 - val_acc: 0.4241\n",
            "Epoch 93/100\n",
            "25/25 [==============================] - 18s 727ms/step - loss: 1.1946 - acc: 0.5771 - val_loss: 2.0263 - val_acc: 0.4263\n",
            "Epoch 94/100\n",
            "25/25 [==============================] - 18s 724ms/step - loss: 1.1794 - acc: 0.5822 - val_loss: 2.0400 - val_acc: 0.4245\n",
            "Epoch 95/100\n",
            "25/25 [==============================] - 18s 719ms/step - loss: 1.1677 - acc: 0.5847 - val_loss: 2.0384 - val_acc: 0.4256\n",
            "Epoch 96/100\n",
            "25/25 [==============================] - 18s 724ms/step - loss: 1.1630 - acc: 0.5868 - val_loss: 2.0458 - val_acc: 0.4263\n",
            "Epoch 97/100\n",
            "25/25 [==============================] - 18s 723ms/step - loss: 1.1504 - acc: 0.5880 - val_loss: 2.0503 - val_acc: 0.4230\n",
            "Epoch 98/100\n",
            "25/25 [==============================] - 18s 721ms/step - loss: 1.1404 - acc: 0.5933 - val_loss: 2.0504 - val_acc: 0.4226\n",
            "Epoch 99/100\n",
            "25/25 [==============================] - 18s 721ms/step - loss: 1.1285 - acc: 0.5954 - val_loss: 2.0449 - val_acc: 0.4275\n",
            "Epoch 100/100\n",
            "25/25 [==============================] - 18s 720ms/step - loss: 1.1357 - acc: 0.5906 - val_loss: 2.0691 - val_acc: 0.4263\n"
          ],
          "name": "stdout"
        }
      ]
    },
    {
      "cell_type": "markdown",
      "metadata": {
        "id": "AoEM8GCbRdpj"
      },
      "source": [
        "# Evaluation"
      ]
    },
    {
      "cell_type": "code",
      "metadata": {
        "colab": {
          "base_uri": "https://localhost:8080/"
        },
        "id": "pt_YhNGOINQC",
        "outputId": "7dddf2f9-4a0d-4449-c475-5131582a9fed"
      },
      "source": [
        "model.evaluate(pad_x_train, y_train)"
      ],
      "execution_count": 38,
      "outputs": [
        {
          "output_type": "stream",
          "text": [
            "281/281 [==============================] - 18s 63ms/step - loss: 1.4032 - acc: 0.5460\n"
          ],
          "name": "stdout"
        },
        {
          "output_type": "execute_result",
          "data": {
            "text/plain": [
              "[1.4032166004180908, 0.5459808707237244]"
            ]
          },
          "metadata": {
            "tags": []
          },
          "execution_count": 38
        }
      ]
    },
    {
      "cell_type": "code",
      "metadata": {
        "id": "suf1vq1GUrpn"
      },
      "source": [
        "pad_x_train = tf.keras.preprocessing.sequence.pad_sequences(x_train, maxlen=500)\n",
        "pad_x_test = tf.keras.preprocessing.sequence.pad_sequences(x_test, maxlen=500)"
      ],
      "execution_count": 39,
      "outputs": []
    },
    {
      "cell_type": "code",
      "metadata": {
        "id": "LGHH6DhIXJyY"
      },
      "source": [
        "def pad_make(x_data):\n",
        "  pad_x = tf.keras.preprocessing.sequence.pad_sequences(x_data, maxlen=500)\n",
        "  return pad_x"
      ],
      "execution_count": 40,
      "outputs": []
    },
    {
      "cell_type": "code",
      "metadata": {
        "id": "6O6PoJmvX7Dc"
      },
      "source": [
        "pad_make_x = pad_make(x_test)"
      ],
      "execution_count": 41,
      "outputs": []
    },
    {
      "cell_type": "code",
      "metadata": {
        "colab": {
          "base_uri": "https://localhost:8080/"
        },
        "id": "t-Y5aDVXYOEY",
        "outputId": "e9b38bcf-f66d-4788-b3df-403ffeeac5ee"
      },
      "source": [
        "model.evaluate(pad_make_x, y_test)"
      ],
      "execution_count": 42,
      "outputs": [
        {
          "output_type": "stream",
          "text": [
            "71/71 [==============================] - 5s 65ms/step - loss: 2.2039 - acc: 0.4252\n"
          ],
          "name": "stdout"
        },
        {
          "output_type": "execute_result",
          "data": {
            "text/plain": [
              "[2.203883171081543, 0.42520034313201904]"
            ]
          },
          "metadata": {
            "tags": []
          },
          "execution_count": 42
        }
      ]
    },
    {
      "cell_type": "code",
      "metadata": {
        "colab": {
          "base_uri": "https://localhost:8080/"
        },
        "id": "IXf9V-kfRmNi",
        "outputId": "60b5a5bc-dc23-4321-ae3b-e0673efed5f7"
      },
      "source": [
        "model.evaluate(pad_x_test, y_test)"
      ],
      "execution_count": 43,
      "outputs": [
        {
          "output_type": "stream",
          "text": [
            "71/71 [==============================] - 5s 67ms/step - loss: 2.2039 - acc: 0.4252\n"
          ],
          "name": "stdout"
        },
        {
          "output_type": "execute_result",
          "data": {
            "text/plain": [
              "[2.203883171081543, 0.42520034313201904]"
            ]
          },
          "metadata": {
            "tags": []
          },
          "execution_count": 43
        }
      ]
    },
    {
      "cell_type": "code",
      "metadata": {
        "id": "NoHQGAR2U7iq"
      },
      "source": [
        "import matplotlib.pyplot as plt"
      ],
      "execution_count": 44,
      "outputs": []
    },
    {
      "cell_type": "code",
      "metadata": {
        "colab": {
          "base_uri": "https://localhost:8080/",
          "height": 265
        },
        "id": "UUpKtahXV5K6",
        "outputId": "f0d3370f-2083-4136-df21-4fbe32b50d39"
      },
      "source": [
        "plt.plot(hist.history['loss'])\n",
        "plt.plot(hist.history['val_loss'])\n",
        "plt.show()"
      ],
      "execution_count": 45,
      "outputs": [
        {
          "output_type": "display_data",
          "data": {
            "image/png": "[encoded data removed]",
            "text/plain": [
              "<Figure size 432x288 with 1 Axes>"
            ]
          },
          "metadata": {
            "tags": [],
            "needs_background": "light"
          }
        }
      ]
    },
    {
      "cell_type": "code",
      "metadata": {
        "colab": {
          "base_uri": "https://localhost:8080/",
          "height": 265
        },
        "id": "-peX-0rsWLr8",
        "outputId": "e0ed9a68-f038-4ed1-bdc3-8a27ff09eddb"
      },
      "source": [
        "plt.plot(hist.history['acc'])\n",
        "plt.plot(hist.history['val_acc'])\n",
        "plt.show()"
      ],
      "execution_count": 46,
      "outputs": [
        {
          "output_type": "display_data",
          "data": {
            "image/png": "[encoded data removed]",
            "text/plain": [
              "<Figure size 432x288 with 1 Axes>"
            ]
          },
          "metadata": {
            "tags": [],
            "needs_background": "light"
          }
        }
      ]
    },
    {
      "cell_type": "code",
      "metadata": {
        "id": "_qtBNLcTWsYL"
      },
      "source": [
        "from sklearn.metrics import classification_report"
      ],
      "execution_count": 47,
      "outputs": []
    },
    {
      "cell_type": "code",
      "metadata": {
        "id": "D_hpdO6Api51"
      },
      "source": [
        "y_train_pred = model.predict(pad_x_train)"
      ],
      "execution_count": 48,
      "outputs": []
    },
    {
      "cell_type": "code",
      "metadata": {
        "colab": {
          "base_uri": "https://localhost:8080/"
        },
        "id": "H3HAXD-Lqzko",
        "outputId": "576545fb-908a-43ee-aba9-1f31a964f042"
      },
      "source": [
        "y_pred = np.argmax(y_train_pred, axis=1)\n",
        "y_pred.shape"
      ],
      "execution_count": 49,
      "outputs": [
        {
          "output_type": "execute_result",
          "data": {
            "text/plain": [
              "(8982,)"
            ]
          },
          "metadata": {
            "tags": []
          },
          "execution_count": 49
        }
      ]
    },
    {
      "cell_type": "code",
      "metadata": {
        "id": "Vn1BXdvkp8yk"
      },
      "source": [
        "print(classification_report(y_train, y_pred))"
      ],
      "execution_count": null,
      "outputs": []
    },
    {
      "cell_type": "markdown",
      "metadata": {
        "id": "SOzlgzSKtrlK"
      },
      "source": [
        "test"
      ]
    },
    {
      "cell_type": "code",
      "metadata": {
        "id": "yXu92AnKtHmZ"
      },
      "source": [
        "y_test_pred = model.predict(pad_x_test)"
      ],
      "execution_count": 60,
      "outputs": []
    },
    {
      "cell_type": "code",
      "metadata": {
        "id": "CFzWwGEatLHV"
      },
      "source": [
        "y_pred2 = np.argmax(y_test_pred, axis=1)"
      ],
      "execution_count": 61,
      "outputs": []
    },
    {
      "cell_type": "code",
      "metadata": {
        "colab": {
          "base_uri": "https://localhost:8080/"
        },
        "id": "coCP8y6-tVp-",
        "outputId": "5f0ca536-0dfa-489b-8035-0d9f24f4045a"
      },
      "source": [
        "print(classification_report(y_test, y_pred2))"
      ],
      "execution_count": 62,
      "outputs": [
        {
          "output_type": "stream",
          "text": [
            "              precision    recall  f1-score   support\n",
            "\n",
            "           0       0.00      0.00      0.00        12\n",
            "           1       0.38      0.32      0.35       105\n",
            "           2       0.04      0.10      0.06        20\n",
            "           3       0.61      0.94      0.74       813\n",
            "           4       0.00      0.00      0.00       474\n",
            "           5       0.00      0.00      0.00         5\n",
            "           6       0.00      0.00      0.00        14\n",
            "           7       0.00      0.00      0.00         3\n",
            "           8       0.00      0.00      0.00        38\n",
            "           9       0.00      0.00      0.00        25\n",
            "          10       0.13      0.13      0.13        30\n",
            "          11       0.16      0.36      0.22        83\n",
            "          12       0.00      0.00      0.00        13\n",
            "          13       0.07      0.16      0.09        37\n",
            "          14       0.00      0.00      0.00         2\n",
            "          15       0.00      0.00      0.00         9\n",
            "          16       0.21      0.41      0.28        99\n",
            "          17       0.00      0.00      0.00        12\n",
            "          18       0.04      0.05      0.04        20\n",
            "          19       0.32      0.41      0.36       133\n",
            "          20       0.00      0.00      0.00        70\n",
            "          21       0.21      0.22      0.22        27\n",
            "          22       0.00      0.00      0.00         7\n",
            "          23       0.00      0.00      0.00        12\n",
            "          24       0.00      0.00      0.00        19\n",
            "          25       0.17      0.29      0.21        31\n",
            "          26       0.00      0.00      0.00         8\n",
            "          27       0.00      0.00      0.00         4\n",
            "          28       0.00      0.00      0.00        10\n",
            "          29       0.00      0.00      0.00         4\n",
            "          30       0.00      0.00      0.00        12\n",
            "          31       0.00      0.00      0.00        13\n",
            "          32       0.00      0.00      0.00        10\n",
            "          33       0.00      0.00      0.00         5\n",
            "          34       0.00      0.00      0.00         7\n",
            "          35       0.00      0.00      0.00         6\n",
            "          36       0.00      0.00      0.00        11\n",
            "          37       0.00      0.00      0.00         2\n",
            "          38       0.00      0.00      0.00         3\n",
            "          39       0.00      0.00      0.00         5\n",
            "          40       0.00      0.00      0.00        10\n",
            "          41       0.00      0.00      0.00         8\n",
            "          42       0.00      0.00      0.00         3\n",
            "          43       0.00      0.00      0.00         6\n",
            "          44       0.00      0.00      0.00         5\n",
            "          45       0.00      0.00      0.00         1\n",
            "\n",
            "    accuracy                           0.43      2246\n",
            "   macro avg       0.05      0.07      0.06      2246\n",
            "weighted avg       0.28      0.43      0.34      2246\n",
            "\n"
          ],
          "name": "stdout"
        },
        {
          "output_type": "stream",
          "text": [
            "/usr/local/lib/python3.7/dist-packages/sklearn/metrics/_classification.py:1272: UndefinedMetricWarning: Precision and F-score are ill-defined and being set to 0.0 in labels with no predicted samples. Use `zero_division` parameter to control this behavior.\n",
            "  _warn_prf(average, modifier, msg_start, len(result))\n"
          ],
          "name": "stderr"
        }
      ]
    },
    {
      "cell_type": "code",
      "metadata": {
        "id": "ITkTxFhItnJt"
      },
      "source": [
        ""
      ],
      "execution_count": null,
      "outputs": []
    }
  ]
}