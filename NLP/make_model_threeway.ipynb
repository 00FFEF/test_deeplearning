{
  "nbformat": 4,
  "nbformat_minor": 0,
  "metadata": {
    "colab": {
      "name": "make_model_threeway.ipynb",
      "provenance": [],
      "collapsed_sections": [],
      "authorship_tag": "ABX9TyMENB/y6wz4RA2XiQBa2ian"
    },
    "kernelspec": {
      "name": "python3",
      "display_name": "Python 3"
    },
    "language_info": {
      "name": "python"
    }
  },
  "cells": [
    {
      "cell_type": "markdown",
      "metadata": {
        "id": "VPFQp1s8W_fb"
      },
      "source": [
        "# Sequential()"
      ]
    },
    {
      "cell_type": "code",
      "metadata": {
        "id": "Kvl5bKlBXBwD"
      },
      "source": [
        ""
      ],
      "execution_count": null,
      "outputs": []
    },
    {
      "cell_type": "markdown",
      "metadata": {
        "id": "ZDcnXxM6XC85"
      },
      "source": [
        "# Function API"
      ]
    },
    {
      "cell_type": "code",
      "metadata": {
        "id": "yxseSwqcXHJi"
      },
      "source": [
        "import tensorflow as tf"
      ],
      "execution_count": 1,
      "outputs": []
    },
    {
      "cell_type": "code",
      "metadata": {
        "id": "Oy2wojGCXJEY"
      },
      "source": [
        "inputs = tf.keras.Input(shape=(2,))"
      ],
      "execution_count": 2,
      "outputs": []
    },
    {
      "cell_type": "code",
      "metadata": {
        "id": "H212F2cMX40k"
      },
      "source": [
        "hidden = tf.keras.layers.Dense(2, activation='sigmoid')(inputs)"
      ],
      "execution_count": 3,
      "outputs": []
    },
    {
      "cell_type": "code",
      "metadata": {
        "id": "EqC5rHrJYQZk"
      },
      "source": [
        "outputs = tf.keras.layers.Dense(1, activation='sigmoid')(hidden)"
      ],
      "execution_count": 4,
      "outputs": []
    },
    {
      "cell_type": "code",
      "metadata": {
        "id": "q9a6dd_QYt3r"
      },
      "source": [
        "model = tf.keras.models.Model(inputs=inputs, outputs=outputs)"
      ],
      "execution_count": 5,
      "outputs": []
    },
    {
      "cell_type": "code",
      "metadata": {
        "colab": {
          "base_uri": "https://localhost:8080/",
          "height": 272
        },
        "id": "3I77iWOiZNFr",
        "outputId": "a684b341-8a5b-4d84-9dec-2501af06f961"
      },
      "source": [
        "tf.keras.utils.plot_model(model)"
      ],
      "execution_count": 6,
      "outputs": [
        {
          "output_type": "execute_result",
          "data": {
            "image/png": "[encoded data removed]",
            "text/plain": [
              "<IPython.core.display.Image object>"
            ]
          },
          "metadata": {},
          "execution_count": 6
        }
      ]
    },
    {
      "cell_type": "code",
      "metadata": {
        "id": "tBriaFL0ZrKk"
      },
      "source": [
        ""
      ],
      "execution_count": 6,
      "outputs": []
    },
    {
      "cell_type": "markdown",
      "metadata": {
        "id": "jH3J02a7_57u"
      },
      "source": [
        "# Sub Class"
      ]
    },
    {
      "cell_type": "code",
      "metadata": {
        "id": "-B7p0Yo8_6_8"
      },
      "source": [
        "# class MyClass(tf.keras.models.Model):\n",
        "#   def __init__(self):\n",
        "#     super(MyClass, self).__init__()\n",
        "#     self.inputs = tf.keras.layers.Input(shpae=(2,))\n",
        "#     self.hidden01 = tf.keras.layers.Dense(2, activation='sigmoid')\n",
        "#     self.outputs = tf.keras.layers.Dense(1, activation='sigmoid')\n",
        "\n",
        "#   def call(self, input):\n",
        "#     layers = self.inputs(input)\n",
        "#     layers = self.hidden01(layers)\n",
        "#     layers = self.outputs(layers)\n",
        "\n",
        "#     return layers\n",
        "\n",
        "class MyClass(tf.keras.models.Model):\n",
        "  def __init__(self):\n",
        "    super(MyClass, self).__init__()\n",
        "    # input layer\n",
        "    self.inputs = tf.keras.Input(shape=(2,)) \n",
        "    # hidden layer\n",
        "    self.hidden01 = tf.keras.layers.Dense(2, activation='sigmoid')\n",
        "    # output layer\n",
        "    self.outputs = tf.keras.layers.Dense(1, activation='sigmoid')\n",
        "\n",
        "  def call(self, input):\n",
        "    layers = self.inputs(input)\n",
        "    layers = self.hidden01(layers)\n",
        "    layers = self.outputs(layers)\n",
        "\n",
        "    tf.keras.utils.plot_model(layers)\n",
        "    \n",
        "    return layers"
      ],
      "execution_count": 26,
      "outputs": []
    },
    {
      "cell_type": "code",
      "metadata": {
        "id": "1GEme1crDR62"
      },
      "source": [
        "model = MyClass()"
      ],
      "execution_count": 27,
      "outputs": []
    },
    {
      "cell_type": "code",
      "metadata": {
        "colab": {
          "base_uri": "https://localhost:8080/",
          "height": 77
        },
        "id": "UYTQeFnBDebX",
        "outputId": "26d3ff2a-a3e8-469c-85ab-88473c993ff1"
      },
      "source": [
        "tf.keras.utils.plot_model(model)"
      ],
      "execution_count": 28,
      "outputs": [
        {
          "output_type": "execute_result",
          "data": {
            "image/png": "[encoded data removed]",
            "text/plain": [
              "<IPython.core.display.Image object>"
            ]
          },
          "metadata": {},
          "execution_count": 28
        }
      ]
    },
    {
      "cell_type": "code",
      "metadata": {
        "id": "lc2K1pxZDoB_"
      },
      "source": [
        ""
      ],
      "execution_count": null,
      "outputs": []
    }
  ]
}