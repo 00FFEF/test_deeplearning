{
  "nbformat": 4,
  "nbformat_minor": 0,
  "metadata": {
    "colab": {
      "name": "seq2seq.ipynb",
      "provenance": [],
      "authorship_tag": "ABX9TyOlVJe24uoImGMGkdn7VPYO"
    },
    "kernelspec": {
      "name": "python3",
      "display_name": "Python 3"
    },
    "language_info": {
      "name": "python"
    }
  },
  "cells": [
    {
      "cell_type": "code",
      "metadata": {
        "id": "A2iMjmhiXMwF"
      },
      "source": [
        "import numpy as np"
      ],
      "execution_count": 49,
      "outputs": []
    },
    {
      "cell_type": "code",
      "metadata": {
        "colab": {
          "base_uri": "https://localhost:8080/"
        },
        "id": "Cj_UpIFbXiyJ",
        "outputId": "0ee8be63-90dc-4cb2-92e1-d21a34ec8261"
      },
      "source": [
        "index_inputs = np.load(open('./train_inputs.npy', 'rb'))\n",
        "index_outputs = np.load(open('./train_outputs.npy', 'rb'))\n",
        "index_targets = np.load(open('./train_targets.npy', 'rb'))\n",
        "\n",
        "type(index_inputs), type(index_outputs), type(index_targets)"
      ],
      "execution_count": 50,
      "outputs": [
        {
          "output_type": "execute_result",
          "data": {
            "text/plain": [
              "(numpy.ndarray, numpy.ndarray, numpy.ndarray)"
            ]
          },
          "metadata": {},
          "execution_count": 50
        }
      ]
    },
    {
      "cell_type": "code",
      "metadata": {
        "colab": {
          "base_uri": "https://localhost:8080/"
        },
        "id": "0DOlWXRpXqmR",
        "outputId": "0092bdb1-12c2-470d-d370-ff57af64b5b6"
      },
      "source": [
        "index_inputs[3:5]"
      ],
      "execution_count": 51,
      "outputs": [
        {
          "output_type": "execute_result",
          "data": {
            "text/plain": [
              "array([[ 20,  30, 107,   0,   0,   0,   0,   0,   0,   0,   0,   0,   0,\n",
              "          0,   0,   0,   0,   0,   0,   0,   0,   0,   0,   0,   0],\n",
              "       [ 93,   7,  79,   0,   0,   0,   0,   0,   0,   0,   0,   0,   0,\n",
              "          0,   0,   0,   0,   0,   0,   0,   0,   0,   0,   0,   0]])"
            ]
          },
          "metadata": {},
          "execution_count": 51
        }
      ]
    },
    {
      "cell_type": "code",
      "metadata": {
        "colab": {
          "base_uri": "https://localhost:8080/"
        },
        "id": "jxL2JzF0XsfQ",
        "outputId": "ae4349e7-5d1c-4c14-8da2-85a0fd2a2e44"
      },
      "source": [
        "!python -m pip install konlpy"
      ],
      "execution_count": 52,
      "outputs": [
        {
          "output_type": "stream",
          "text": [
            "Requirement already satisfied: konlpy in /usr/local/lib/python3.7/dist-packages (0.5.2)\n",
            "Requirement already satisfied: beautifulsoup4==4.6.0 in /usr/local/lib/python3.7/dist-packages (from konlpy) (4.6.0)\n",
            "Requirement already satisfied: numpy>=1.6 in /usr/local/lib/python3.7/dist-packages (from konlpy) (1.19.5)\n",
            "Requirement already satisfied: colorama in /usr/local/lib/python3.7/dist-packages (from konlpy) (0.4.4)\n",
            "Requirement already satisfied: tweepy>=3.7.0 in /usr/local/lib/python3.7/dist-packages (from konlpy) (3.10.0)\n",
            "Requirement already satisfied: lxml>=4.1.0 in /usr/local/lib/python3.7/dist-packages (from konlpy) (4.2.6)\n",
            "Requirement already satisfied: JPype1>=0.7.0 in /usr/local/lib/python3.7/dist-packages (from konlpy) (1.3.0)\n",
            "Requirement already satisfied: typing-extensions in /usr/local/lib/python3.7/dist-packages (from JPype1>=0.7.0->konlpy) (3.7.4.3)\n",
            "Requirement already satisfied: six>=1.10.0 in /usr/local/lib/python3.7/dist-packages (from tweepy>=3.7.0->konlpy) (1.15.0)\n",
            "Requirement already satisfied: requests[socks]>=2.11.1 in /usr/local/lib/python3.7/dist-packages (from tweepy>=3.7.0->konlpy) (2.23.0)\n",
            "Requirement already satisfied: requests-oauthlib>=0.7.0 in /usr/local/lib/python3.7/dist-packages (from tweepy>=3.7.0->konlpy) (1.3.0)\n",
            "Requirement already satisfied: oauthlib>=3.0.0 in /usr/local/lib/python3.7/dist-packages (from requests-oauthlib>=0.7.0->tweepy>=3.7.0->konlpy) (3.1.1)\n",
            "Requirement already satisfied: idna<3,>=2.5 in /usr/local/lib/python3.7/dist-packages (from requests[socks]>=2.11.1->tweepy>=3.7.0->konlpy) (2.10)\n",
            "Requirement already satisfied: certifi>=2017.4.17 in /usr/local/lib/python3.7/dist-packages (from requests[socks]>=2.11.1->tweepy>=3.7.0->konlpy) (2021.5.30)\n",
            "Requirement already satisfied: chardet<4,>=3.0.2 in /usr/local/lib/python3.7/dist-packages (from requests[socks]>=2.11.1->tweepy>=3.7.0->konlpy) (3.0.4)\n",
            "Requirement already satisfied: urllib3!=1.25.0,!=1.25.1,<1.26,>=1.21.1 in /usr/local/lib/python3.7/dist-packages (from requests[socks]>=2.11.1->tweepy>=3.7.0->konlpy) (1.24.3)\n",
            "Requirement already satisfied: PySocks!=1.5.7,>=1.5.6 in /usr/local/lib/python3.7/dist-packages (from requests[socks]>=2.11.1->tweepy>=3.7.0->konlpy) (1.7.1)\n"
          ],
          "name": "stdout"
        }
      ]
    },
    {
      "cell_type": "code",
      "metadata": {
        "id": "0n1FB2n5pr9i"
      },
      "source": [
        "import preprocess as pp"
      ],
      "execution_count": 53,
      "outputs": []
    },
    {
      "cell_type": "code",
      "metadata": {
        "colab": {
          "base_uri": "https://localhost:8080/"
        },
        "id": "vmp-rXHxpv3B",
        "outputId": "a3ba149d-b6eb-4170-b858-5aac8e05cd4b"
      },
      "source": [
        "prepro_configs = pp.json.load(open('./data_configs.json','r'))\n",
        "type(prepro_configs)"
      ],
      "execution_count": 54,
      "outputs": [
        {
          "output_type": "execute_result",
          "data": {
            "text/plain": [
              "dict"
            ]
          },
          "metadata": {},
          "execution_count": 54
        }
      ]
    },
    {
      "cell_type": "code",
      "metadata": {
        "colab": {
          "base_uri": "https://localhost:8080/"
        },
        "id": "YHxdGuvfqIXq",
        "outputId": "2bd01427-1e8f-4b06-eb16-7bacc4c19788"
      },
      "source": [
        "prepro_configs.keys()"
      ],
      "execution_count": 55,
      "outputs": [
        {
          "output_type": "execute_result",
          "data": {
            "text/plain": [
              "dict_keys(['char2idx', 'idx2char', 'vocab_size', 'pad_symbol', 'std_symbol', 'end_symbol', 'unk_symbol'])"
            ]
          },
          "metadata": {},
          "execution_count": 55
        }
      ]
    },
    {
      "cell_type": "markdown",
      "metadata": {
        "id": "l7O1srRaqwRO"
      },
      "source": [
        "# make model"
      ]
    },
    {
      "cell_type": "code",
      "metadata": {
        "id": "snhJyksqqxPK"
      },
      "source": [
        "import tensorflow as tf"
      ],
      "execution_count": 56,
      "outputs": []
    },
    {
      "cell_type": "markdown",
      "metadata": {
        "id": "05ifExKQt5iX"
      },
      "source": [
        "# encode model"
      ]
    },
    {
      "cell_type": "code",
      "metadata": {
        "id": "ftb5aKQNuQTA"
      },
      "source": [
        "vocab_size = prepro_configs['vocab_size']\n",
        "latent_dim = 60"
      ],
      "execution_count": 57,
      "outputs": []
    },
    {
      "cell_type": "code",
      "metadata": {
        "id": "fFzQIMVfqz2C"
      },
      "source": [
        "encode_input = tf.keras.Input(shape=(None,))\n",
        "encode_hidden = tf.keras.layers.Embedding(input_dim=vocab_size, output_dim=latent_dim)(encode_input)\n",
        "encode_output, state_h, state_c = tf.keras.layers.LSTM(50, return_state=True)(encode_hidden)\n",
        "encode_states = [state_h, state_c]"
      ],
      "execution_count": 58,
      "outputs": []
    },
    {
      "cell_type": "markdown",
      "metadata": {
        "id": "-ao5MOIgwg7J"
      },
      "source": [
        "# decode model"
      ]
    },
    {
      "cell_type": "code",
      "metadata": {
        "id": "2VVjnmyYvxsD"
      },
      "source": [
        "decode_input = tf.keras.Input(shape=(None,))\n",
        "decode_hidden = tf.keras.layers.Embedding(input_dim=vocab_size, output_dim=latent_dim)(decode_input)\n",
        "decode_lstm, _, _ = tf.keras.layers.LSTM(50, return_state=True, return_sequences=True)(decode_hidden, initial_state=encode_states)\n",
        "decode_output = tf.keras.layers.Dense(vocab_size, activation='softmax')(decode_lstm)"
      ],
      "execution_count": 59,
      "outputs": []
    },
    {
      "cell_type": "code",
      "metadata": {
        "id": "XA_CWllLzM88"
      },
      "source": [
        "model = tf.keras.models.Model(inputs=[encode_input, decode_input], outputs=decode_output)"
      ],
      "execution_count": 60,
      "outputs": []
    },
    {
      "cell_type": "code",
      "metadata": {
        "colab": {
          "base_uri": "https://localhost:8080/",
          "height": 466
        },
        "id": "m9qXxKeY0QZJ",
        "outputId": "c8f0c942-a958-4f1b-800e-a5ea79c4108c"
      },
      "source": [
        "tf.keras.utils.plot_model(model)"
      ],
      "execution_count": 61,
      "outputs": [
        {
          "output_type": "execute_result",
          "data": {
            "image/png": "[encoded data removed]",
            "text/plain": [
              "<IPython.core.display.Image object>"
            ]
          },
          "metadata": {},
          "execution_count": 61
        }
      ]
    },
    {
      "cell_type": "code",
      "metadata": {
        "id": "fEy66AmD0dHO"
      },
      "source": [
        "model.compile(optimizer='adam', loss='sparse_categorical_crossentropy', metrics=['acc'])"
      ],
      "execution_count": 62,
      "outputs": []
    },
    {
      "cell_type": "markdown",
      "metadata": {
        "id": "n0sK3RqG4PUs"
      },
      "source": [
        "# fit"
      ]
    },
    {
      "cell_type": "code",
      "metadata": {
        "colab": {
          "base_uri": "https://localhost:8080/"
        },
        "id": "uV_q4Zba4OAP",
        "outputId": "e96f5bcf-7fed-4d57-fcfb-b0467b40c7b5"
      },
      "source": [
        "#type(index_inputs), type(index_outputs), type(index_targets)\n",
        "model.fit(x=[index_inputs, index_outputs], y=index_targets, batch_size=128, epochs=50)"
      ],
      "execution_count": 63,
      "outputs": [
        {
          "output_type": "stream",
          "text": [
            "Epoch 1/50\n",
            "1/1 [==============================] - 4s 4s/step - loss: 4.7329 - acc: 0.0000e+00\n",
            "Epoch 2/50\n",
            "1/1 [==============================] - 0s 32ms/step - loss: 4.7179 - acc: 0.0020\n",
            "Epoch 3/50\n",
            "1/1 [==============================] - 0s 36ms/step - loss: 4.7036 - acc: 0.0000e+00\n",
            "Epoch 4/50\n",
            "1/1 [==============================] - 0s 30ms/step - loss: 4.6897 - acc: 0.0200\n",
            "Epoch 5/50\n",
            "1/1 [==============================] - 0s 33ms/step - loss: 4.6759 - acc: 0.1920\n",
            "Epoch 6/50\n",
            "1/1 [==============================] - 0s 32ms/step - loss: 4.6617 - acc: 0.8200\n",
            "Epoch 7/50\n",
            "1/1 [==============================] - 0s 39ms/step - loss: 4.6469 - acc: 0.8200\n",
            "Epoch 8/50\n",
            "1/1 [==============================] - 0s 40ms/step - loss: 4.6310 - acc: 0.8200\n",
            "Epoch 9/50\n",
            "1/1 [==============================] - 0s 36ms/step - loss: 4.6137 - acc: 0.8200\n",
            "Epoch 10/50\n",
            "1/1 [==============================] - 0s 32ms/step - loss: 4.5945 - acc: 0.8180\n",
            "Epoch 11/50\n",
            "1/1 [==============================] - 0s 35ms/step - loss: 4.5730 - acc: 0.8180\n",
            "Epoch 12/50\n",
            "1/1 [==============================] - 0s 34ms/step - loss: 4.5485 - acc: 0.8180\n",
            "Epoch 13/50\n",
            "1/1 [==============================] - 0s 35ms/step - loss: 4.5202 - acc: 0.8180\n",
            "Epoch 14/50\n",
            "1/1 [==============================] - 0s 34ms/step - loss: 4.4870 - acc: 0.8180\n",
            "Epoch 15/50\n",
            "1/1 [==============================] - 0s 33ms/step - loss: 4.4477 - acc: 0.8180\n",
            "Epoch 16/50\n",
            "1/1 [==============================] - 0s 40ms/step - loss: 4.4002 - acc: 0.8180\n",
            "Epoch 17/50\n",
            "1/1 [==============================] - 0s 40ms/step - loss: 4.3423 - acc: 0.8180\n",
            "Epoch 18/50\n",
            "1/1 [==============================] - 0s 36ms/step - loss: 4.2705 - acc: 0.8180\n",
            "Epoch 19/50\n",
            "1/1 [==============================] - 0s 35ms/step - loss: 4.1807 - acc: 0.8180\n",
            "Epoch 20/50\n",
            "1/1 [==============================] - 0s 37ms/step - loss: 4.0682 - acc: 0.8180\n",
            "Epoch 21/50\n",
            "1/1 [==============================] - 0s 38ms/step - loss: 3.9283 - acc: 0.8180\n",
            "Epoch 22/50\n",
            "1/1 [==============================] - 0s 43ms/step - loss: 3.7592 - acc: 0.8180\n",
            "Epoch 23/50\n",
            "1/1 [==============================] - 0s 39ms/step - loss: 3.5652 - acc: 0.8180\n",
            "Epoch 24/50\n",
            "1/1 [==============================] - 0s 39ms/step - loss: 3.3578 - acc: 0.8180\n",
            "Epoch 25/50\n",
            "1/1 [==============================] - 0s 35ms/step - loss: 3.1523 - acc: 0.8180\n",
            "Epoch 26/50\n",
            "1/1 [==============================] - 0s 35ms/step - loss: 2.9600 - acc: 0.8180\n",
            "Epoch 27/50\n",
            "1/1 [==============================] - 0s 35ms/step - loss: 2.7853 - acc: 0.8180\n",
            "Epoch 28/50\n",
            "1/1 [==============================] - 0s 37ms/step - loss: 2.6274 - acc: 0.8180\n",
            "Epoch 29/50\n",
            "1/1 [==============================] - 0s 32ms/step - loss: 2.4833 - acc: 0.8180\n",
            "Epoch 30/50\n",
            "1/1 [==============================] - 0s 35ms/step - loss: 2.3499 - acc: 0.8180\n",
            "Epoch 31/50\n",
            "1/1 [==============================] - 0s 37ms/step - loss: 2.2248 - acc: 0.8180\n",
            "Epoch 32/50\n",
            "1/1 [==============================] - 0s 37ms/step - loss: 2.1067 - acc: 0.8180\n",
            "Epoch 33/50\n",
            "1/1 [==============================] - 0s 45ms/step - loss: 1.9944 - acc: 0.8180\n",
            "Epoch 34/50\n",
            "1/1 [==============================] - 0s 40ms/step - loss: 1.8879 - acc: 0.8180\n",
            "Epoch 35/50\n",
            "1/1 [==============================] - 0s 39ms/step - loss: 1.7870 - acc: 0.8180\n",
            "Epoch 36/50\n",
            "1/1 [==============================] - 0s 48ms/step - loss: 1.6921 - acc: 0.8180\n",
            "Epoch 37/50\n",
            "1/1 [==============================] - 0s 38ms/step - loss: 1.6035 - acc: 0.8180\n",
            "Epoch 38/50\n",
            "1/1 [==============================] - 0s 39ms/step - loss: 1.5217 - acc: 0.8180\n",
            "Epoch 39/50\n",
            "1/1 [==============================] - 0s 38ms/step - loss: 1.4469 - acc: 0.8180\n",
            "Epoch 40/50\n",
            "1/1 [==============================] - 0s 40ms/step - loss: 1.3792 - acc: 0.8180\n",
            "Epoch 41/50\n",
            "1/1 [==============================] - 0s 45ms/step - loss: 1.3188 - acc: 0.8180\n",
            "Epoch 42/50\n",
            "1/1 [==============================] - 0s 34ms/step - loss: 1.2651 - acc: 0.8180\n",
            "Epoch 43/50\n",
            "1/1 [==============================] - 0s 39ms/step - loss: 1.2179 - acc: 0.8180\n",
            "Epoch 44/50\n",
            "1/1 [==============================] - 0s 40ms/step - loss: 1.1764 - acc: 0.8180\n",
            "Epoch 45/50\n",
            "1/1 [==============================] - 0s 38ms/step - loss: 1.1399 - acc: 0.8180\n",
            "Epoch 46/50\n",
            "1/1 [==============================] - 0s 44ms/step - loss: 1.1075 - acc: 0.8180\n",
            "Epoch 47/50\n",
            "1/1 [==============================] - 0s 35ms/step - loss: 1.0786 - acc: 0.8180\n",
            "Epoch 48/50\n",
            "1/1 [==============================] - 0s 36ms/step - loss: 1.0525 - acc: 0.8180\n",
            "Epoch 49/50\n",
            "1/1 [==============================] - 0s 35ms/step - loss: 1.0284 - acc: 0.8180\n",
            "Epoch 50/50\n",
            "1/1 [==============================] - 0s 40ms/step - loss: 1.0061 - acc: 0.8180\n"
          ],
          "name": "stdout"
        },
        {
          "output_type": "execute_result",
          "data": {
            "text/plain": [
              "<keras.callbacks.History at 0x7f88e529a3d0>"
            ]
          },
          "metadata": {},
          "execution_count": 63
        }
      ]
    },
    {
      "cell_type": "code",
      "metadata": {
        "id": "UK3Khfo26e5S"
      },
      "source": [
        ""
      ],
      "execution_count": 63,
      "outputs": []
    }
  ]
}