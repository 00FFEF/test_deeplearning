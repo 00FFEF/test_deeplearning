{
  "nbformat": 4,
  "nbformat_minor": 0,
  "metadata": {
    "colab": {
      "name": "boston_housingwithregression.ipynb",
      "provenance": [],
      "authorship_tag": "ABX9TyN/VC+3GD2k4ISID70T7fGn",
      "include_colab_link": true
    },
    "kernelspec": {
      "name": "python3",
      "display_name": "Python 3"
    },
    "language_info": {
      "name": "python"
    }
  },
  "cells": [
    {
      "cell_type": "markdown",
      "metadata": {
        "id": "view-in-github",
        "colab_type": "text"
      },
      "source": [
        "<a href=\"https://colab.research.google.com/github/00FFEF/test_deeplearning/blob/master/boston_housingwithregression.ipynb\" target=\"_parent\"><img src=\"https://colab.research.google.com/assets/colab-badge.svg\" alt=\"Open In Colab\"/></a>"
      ]
    },
    {
      "cell_type": "code",
      "metadata": {
        "id": "4hC1gjo0aqVu"
      },
      "source": [
        "import tensorflow as tf\n",
        "from tensorflow.keras.datasets.boston_housing import load_data"
      ],
      "execution_count": 1,
      "outputs": []
    },
    {
      "cell_type": "markdown",
      "metadata": {
        "id": "TL-cAicg1K4J"
      },
      "source": [
        "#Dataset"
      ]
    },
    {
      "cell_type": "code",
      "metadata": {
        "colab": {
          "base_uri": "https://localhost:8080/"
        },
        "id": "3jhIP6Z8df5i",
        "outputId": "1cf8b423-8fa1-4391-ad31-ffdb575617ba"
      },
      "source": [
        "(x_train, y_train), (x_test, y_test) = load_data(path='boston_housing.npz', test_split=0.2, seed=113)\n",
        "x_train.shape, y_train.shape, x_test.shape, y_test.shape"
      ],
      "execution_count": 2,
      "outputs": [
        {
          "output_type": "execute_result",
          "data": {
            "text/plain": [
              "((404, 13), (404,), (102, 13), (102,))"
            ]
          },
          "metadata": {
            "tags": []
          },
          "execution_count": 2
        }
      ]
    },
    {
      "cell_type": "code",
      "metadata": {
        "id": "LOyIDYDC1PVq"
      },
      "source": [
        "import pandas as pd"
      ],
      "execution_count": 25,
      "outputs": []
    },
    {
      "cell_type": "code",
      "metadata": {
        "colab": {
          "base_uri": "https://localhost:8080/"
        },
        "id": "QzJ81dk71R9x",
        "outputId": "56444f1b-4bf2-4c4c-8e82-ee055cb79995"
      },
      "source": [
        "df = pd.DataFrame(x_train)\n",
        "df.info()"
      ],
      "execution_count": 27,
      "outputs": [
        {
          "output_type": "stream",
          "text": [
            "<class 'pandas.core.frame.DataFrame'>\n",
            "RangeIndex: 404 entries, 0 to 403\n",
            "Data columns (total 13 columns):\n",
            " #   Column  Non-Null Count  Dtype  \n",
            "---  ------  --------------  -----  \n",
            " 0   0       404 non-null    float64\n",
            " 1   1       404 non-null    float64\n",
            " 2   2       404 non-null    float64\n",
            " 3   3       404 non-null    float64\n",
            " 4   4       404 non-null    float64\n",
            " 5   5       404 non-null    float64\n",
            " 6   6       404 non-null    float64\n",
            " 7   7       404 non-null    float64\n",
            " 8   8       404 non-null    float64\n",
            " 9   9       404 non-null    float64\n",
            " 10  10      404 non-null    float64\n",
            " 11  11      404 non-null    float64\n",
            " 12  12      404 non-null    float64\n",
            "dtypes: float64(13)\n",
            "memory usage: 41.2 KB\n"
          ],
          "name": "stdout"
        }
      ]
    },
    {
      "cell_type": "code",
      "metadata": {
        "id": "t5jnZpr-2maV"
      },
      "source": [
        "df.describe()"
      ],
      "execution_count": null,
      "outputs": []
    },
    {
      "cell_type": "code",
      "metadata": {
        "colab": {
          "base_uri": "https://localhost:8080/"
        },
        "id": "mSZds00w3AjJ",
        "outputId": "bb7d8db4-085c-4f71-ffc9-7f6006cd97cc"
      },
      "source": [
        "from sklearn.preprocessing import StandardScaler\n",
        "scaler = StandardScaler()\n",
        "scaler.fit(x_train)"
      ],
      "execution_count": 31,
      "outputs": [
        {
          "output_type": "execute_result",
          "data": {
            "text/plain": [
              "StandardScaler(copy=True, with_mean=True, with_std=True)"
            ]
          },
          "metadata": {
            "tags": []
          },
          "execution_count": 31
        }
      ]
    },
    {
      "cell_type": "code",
      "metadata": {
        "colab": {
          "base_uri": "https://localhost:8080/"
        },
        "id": "qng7aCeO3qSq",
        "outputId": "3af2ee7b-da0b-479b-b5a1-058eb874fb0a"
      },
      "source": [
        "x_train = scaler.transform(x_train)\n",
        "x_test = scaler.transform(x_test)\n",
        "x_train.shape, x_test.shape"
      ],
      "execution_count": 33,
      "outputs": [
        {
          "output_type": "execute_result",
          "data": {
            "text/plain": [
              "((404, 13), (102, 13))"
            ]
          },
          "metadata": {
            "tags": []
          },
          "execution_count": 33
        }
      ]
    },
    {
      "cell_type": "code",
      "metadata": {
        "colab": {
          "base_uri": "https://localhost:8080/",
          "height": 402
        },
        "id": "PWCVMFwv4C9v",
        "outputId": "053ad327-a28d-4227-f5b0-e26de2d22bb9"
      },
      "source": [
        "df = pd.DataFrame(x_train)\n",
        "df.describe()"
      ],
      "execution_count": 34,
      "outputs": [
        {
          "output_type": "execute_result",
          "data": {
            "text/html": [
              "<div>\n",
              "<style scoped>\n",
              "    .dataframe tbody tr th:only-of-type {\n",
              "        vertical-align: middle;\n",
              "    }\n",
              "\n",
              "    .dataframe tbody tr th {\n",
              "        vertical-align: top;\n",
              "    }\n",
              "\n",
              "    .dataframe thead th {\n",
              "        text-align: right;\n",
              "    }\n",
              "</style>\n",
              "<table border=\"1\" class=\"dataframe\">\n",
              "  <thead>\n",
              "    <tr style=\"text-align: right;\">\n",
              "      <th></th>\n",
              "      <th>0</th>\n",
              "      <th>1</th>\n",
              "      <th>2</th>\n",
              "      <th>3</th>\n",
              "      <th>4</th>\n",
              "      <th>5</th>\n",
              "      <th>6</th>\n",
              "      <th>7</th>\n",
              "      <th>8</th>\n",
              "      <th>9</th>\n",
              "      <th>10</th>\n",
              "      <th>11</th>\n",
              "      <th>12</th>\n",
              "    </tr>\n",
              "  </thead>\n",
              "  <tbody>\n",
              "    <tr>\n",
              "      <th>count</th>\n",
              "      <td>4.040000e+02</td>\n",
              "      <td>4.040000e+02</td>\n",
              "      <td>4.040000e+02</td>\n",
              "      <td>4.040000e+02</td>\n",
              "      <td>4.040000e+02</td>\n",
              "      <td>4.040000e+02</td>\n",
              "      <td>4.040000e+02</td>\n",
              "      <td>4.040000e+02</td>\n",
              "      <td>4.040000e+02</td>\n",
              "      <td>4.040000e+02</td>\n",
              "      <td>4.040000e+02</td>\n",
              "      <td>4.040000e+02</td>\n",
              "      <td>4.040000e+02</td>\n",
              "    </tr>\n",
              "    <tr>\n",
              "      <th>mean</th>\n",
              "      <td>-1.015414e-16</td>\n",
              "      <td>1.099231e-17</td>\n",
              "      <td>1.743380e-15</td>\n",
              "      <td>-1.266863e-16</td>\n",
              "      <td>-5.253773e-15</td>\n",
              "      <td>6.414149e-15</td>\n",
              "      <td>2.984411e-16</td>\n",
              "      <td>4.946538e-16</td>\n",
              "      <td>1.126711e-17</td>\n",
              "      <td>-1.981363e-16</td>\n",
              "      <td>2.366864e-14</td>\n",
              "      <td>5.956800e-15</td>\n",
              "      <td>6.139204e-16</td>\n",
              "    </tr>\n",
              "    <tr>\n",
              "      <th>std</th>\n",
              "      <td>1.001240e+00</td>\n",
              "      <td>1.001240e+00</td>\n",
              "      <td>1.001240e+00</td>\n",
              "      <td>1.001240e+00</td>\n",
              "      <td>1.001240e+00</td>\n",
              "      <td>1.001240e+00</td>\n",
              "      <td>1.001240e+00</td>\n",
              "      <td>1.001240e+00</td>\n",
              "      <td>1.001240e+00</td>\n",
              "      <td>1.001240e+00</td>\n",
              "      <td>1.001240e+00</td>\n",
              "      <td>1.001240e+00</td>\n",
              "      <td>1.001240e+00</td>\n",
              "    </tr>\n",
              "    <tr>\n",
              "      <th>min</th>\n",
              "      <td>-4.051005e-01</td>\n",
              "      <td>-4.836155e-01</td>\n",
              "      <td>-1.564696e+00</td>\n",
              "      <td>-2.568327e-01</td>\n",
              "      <td>-1.471269e+00</td>\n",
              "      <td>-3.817250e+00</td>\n",
              "      <td>-2.369042e+00</td>\n",
              "      <td>-1.287503e+00</td>\n",
              "      <td>-9.715693e-01</td>\n",
              "      <td>-1.311311e+00</td>\n",
              "      <td>-2.673752e+00</td>\n",
              "      <td>-3.771101e+00</td>\n",
              "      <td>-1.519664e+00</td>\n",
              "    </tr>\n",
              "    <tr>\n",
              "      <th>25%</th>\n",
              "      <td>-3.969615e-01</td>\n",
              "      <td>-4.836155e-01</td>\n",
              "      <td>-8.782218e-01</td>\n",
              "      <td>-2.568327e-01</td>\n",
              "      <td>-8.908055e-01</td>\n",
              "      <td>-5.534305e-01</td>\n",
              "      <td>-8.433882e-01</td>\n",
              "      <td>-8.202251e-01</td>\n",
              "      <td>-6.262491e-01</td>\n",
              "      <td>-7.636737e-01</td>\n",
              "      <td>-5.692381e-01</td>\n",
              "      <td>2.116008e-01</td>\n",
              "      <td>-8.075036e-01</td>\n",
              "    </tr>\n",
              "    <tr>\n",
              "      <th>50%</th>\n",
              "      <td>-3.766520e-01</td>\n",
              "      <td>-4.836155e-01</td>\n",
              "      <td>-2.079167e-01</td>\n",
              "      <td>-2.568327e-01</td>\n",
              "      <td>-1.652266e-01</td>\n",
              "      <td>-9.674263e-02</td>\n",
              "      <td>3.400464e-01</td>\n",
              "      <td>-2.949009e-01</td>\n",
              "      <td>-5.111423e-01</td>\n",
              "      <td>-4.567563e-01</td>\n",
              "      <td>2.839433e-01</td>\n",
              "      <td>3.879673e-01</td>\n",
              "      <td>-1.857436e-01</td>\n",
              "    </tr>\n",
              "    <tr>\n",
              "      <th>75%</th>\n",
              "      <td>-7.617386e-03</td>\n",
              "      <td>4.296024e-02</td>\n",
              "      <td>1.028326e+00</td>\n",
              "      <td>-2.568327e-01</td>\n",
              "      <td>6.286420e-01</td>\n",
              "      <td>4.823165e-01</td>\n",
              "      <td>8.990647e-01</td>\n",
              "      <td>6.794540e-01</td>\n",
              "      <td>1.675886e+00</td>\n",
              "      <td>1.565287e+00</td>\n",
              "      <td>7.844764e-01</td>\n",
              "      <td>4.401777e-01</td>\n",
              "      <td>6.005999e-01</td>\n",
              "    </tr>\n",
              "    <tr>\n",
              "      <th>max</th>\n",
              "      <td>9.234847e+00</td>\n",
              "      <td>3.728990e+00</td>\n",
              "      <td>2.445374e+00</td>\n",
              "      <td>3.893584e+00</td>\n",
              "      <td>2.677335e+00</td>\n",
              "      <td>3.467186e+00</td>\n",
              "      <td>1.110488e+00</td>\n",
              "      <td>3.437406e+00</td>\n",
              "      <td>1.675886e+00</td>\n",
              "      <td>1.836097e+00</td>\n",
              "      <td>1.603531e+00</td>\n",
              "      <td>4.480771e-01</td>\n",
              "      <td>3.482019e+00</td>\n",
              "    </tr>\n",
              "  </tbody>\n",
              "</table>\n",
              "</div>"
            ],
            "text/plain": [
              "                 0             1   ...            11            12\n",
              "count  4.040000e+02  4.040000e+02  ...  4.040000e+02  4.040000e+02\n",
              "mean  -1.015414e-16  1.099231e-17  ...  5.956800e-15  6.139204e-16\n",
              "std    1.001240e+00  1.001240e+00  ...  1.001240e+00  1.001240e+00\n",
              "min   -4.051005e-01 -4.836155e-01  ... -3.771101e+00 -1.519664e+00\n",
              "25%   -3.969615e-01 -4.836155e-01  ...  2.116008e-01 -8.075036e-01\n",
              "50%   -3.766520e-01 -4.836155e-01  ...  3.879673e-01 -1.857436e-01\n",
              "75%   -7.617386e-03  4.296024e-02  ...  4.401777e-01  6.005999e-01\n",
              "max    9.234847e+00  3.728990e+00  ...  4.480771e-01  3.482019e+00\n",
              "\n",
              "[8 rows x 13 columns]"
            ]
          },
          "metadata": {
            "tags": []
          },
          "execution_count": 34
        }
      ]
    },
    {
      "cell_type": "markdown",
      "metadata": {
        "id": "rZMhy8m71MjE"
      },
      "source": [
        "#Model and fit"
      ]
    },
    {
      "cell_type": "code",
      "metadata": {
        "id": "HYEyJbt6d7GN"
      },
      "source": [
        "model = tf.keras.models.Sequential()"
      ],
      "execution_count": 42,
      "outputs": []
    },
    {
      "cell_type": "code",
      "metadata": {
        "colab": {
          "base_uri": "https://localhost:8080/"
        },
        "id": "wBgrxkVZea-U",
        "outputId": "20455da0-0669-4531-9dfa-ed1026344c5e"
      },
      "source": [
        "model.add(tf.keras.Input(shape=(13))) # input layer\n",
        "model.add(tf.keras.layers.Dense(64, activation='sigmoid')) # hidden layer\n",
        "model.add(tf.keras.layers.Dense(64, activation='sigmoid')) # hidden layer\n",
        "model.add(tf.keras.layers.Dense(64, activation='sigmoid')) # hidden layer\n",
        "model.add(tf.keras.layers.Dense(1,)) # output layer\n",
        "\n",
        "model.compile(optimizer='sgd', loss='mae', metrics=['mae'])"
      ],
      "execution_count": 43,
      "outputs": [
        {
          "output_type": "stream",
          "text": [
            "WARNING:tensorflow:Please add `keras.layers.InputLayer` instead of `keras.Input` to Sequential model. `keras.Input` is intended to be used by Functional model.\n"
          ],
          "name": "stdout"
        }
      ]
    },
    {
      "cell_type": "code",
      "metadata": {
        "id": "mFtCbO92rKJZ"
      },
      "source": [
        "tf.keras.utils.plot_model(model, show_shapes=True)"
      ],
      "execution_count": null,
      "outputs": []
    },
    {
      "cell_type": "code",
      "metadata": {
        "colab": {
          "base_uri": "https://localhost:8080/"
        },
        "id": "z8P0GjDvrSdQ",
        "outputId": "be5492de-45af-4c29-82b3-7e4eaa2786b1"
      },
      "source": [
        "model.summary()"
      ],
      "execution_count": 44,
      "outputs": [
        {
          "output_type": "stream",
          "text": [
            "Model: \"sequential_5\"\n",
            "_________________________________________________________________\n",
            "Layer (type)                 Output Shape              Param #   \n",
            "=================================================================\n",
            "dense_26 (Dense)             (None, 64)                896       \n",
            "_________________________________________________________________\n",
            "dense_27 (Dense)             (None, 64)                4160      \n",
            "_________________________________________________________________\n",
            "dense_28 (Dense)             (None, 64)                4160      \n",
            "_________________________________________________________________\n",
            "dense_29 (Dense)             (None, 1)                 65        \n",
            "=================================================================\n",
            "Total params: 9,281\n",
            "Trainable params: 9,281\n",
            "Non-trainable params: 0\n",
            "_________________________________________________________________\n"
          ],
          "name": "stdout"
        }
      ]
    },
    {
      "cell_type": "code",
      "metadata": {
        "colab": {
          "base_uri": "https://localhost:8080/"
        },
        "id": "AQ6UuFbjtqSB",
        "outputId": "286dd0ac-b77f-42c9-d020-246c4f6e0892"
      },
      "source": [
        "model.fit(x_train, y_train, epochs=100)"
      ],
      "execution_count": 45,
      "outputs": [
        {
          "output_type": "stream",
          "text": [
            "Epoch 1/100\n",
            "13/13 [==============================] - 0s 1ms/step - loss: 20.6535 - mae: 20.6535\n",
            "Epoch 2/100\n",
            "13/13 [==============================] - 0s 1ms/step - loss: 17.9231 - mae: 17.9231\n",
            "Epoch 3/100\n",
            "13/13 [==============================] - 0s 1ms/step - loss: 15.0124 - mae: 15.0124\n",
            "Epoch 4/100\n",
            "13/13 [==============================] - 0s 2ms/step - loss: 12.0567 - mae: 12.0567\n",
            "Epoch 5/100\n",
            "13/13 [==============================] - 0s 2ms/step - loss: 9.4230 - mae: 9.4230\n",
            "Epoch 6/100\n",
            "13/13 [==============================] - 0s 1ms/step - loss: 7.8470 - mae: 7.8470\n",
            "Epoch 7/100\n",
            "13/13 [==============================] - 0s 1ms/step - loss: 6.9617 - mae: 6.9617\n",
            "Epoch 8/100\n",
            "13/13 [==============================] - 0s 1ms/step - loss: 6.6073 - mae: 6.6073\n",
            "Epoch 9/100\n",
            "13/13 [==============================] - 0s 1ms/step - loss: 6.5117 - mae: 6.5117\n",
            "Epoch 10/100\n",
            "13/13 [==============================] - 0s 2ms/step - loss: 6.4871 - mae: 6.4871\n",
            "Epoch 11/100\n",
            "13/13 [==============================] - 0s 1ms/step - loss: 6.4865 - mae: 6.4865\n",
            "Epoch 12/100\n",
            "13/13 [==============================] - 0s 1ms/step - loss: 6.4789 - mae: 6.4789\n",
            "Epoch 13/100\n",
            "13/13 [==============================] - 0s 2ms/step - loss: 6.4714 - mae: 6.4714\n",
            "Epoch 14/100\n",
            "13/13 [==============================] - 0s 2ms/step - loss: 6.4683 - mae: 6.4683\n",
            "Epoch 15/100\n",
            "13/13 [==============================] - 0s 2ms/step - loss: 6.4645 - mae: 6.4645\n",
            "Epoch 16/100\n",
            "13/13 [==============================] - 0s 2ms/step - loss: 6.4607 - mae: 6.4607\n",
            "Epoch 17/100\n",
            "13/13 [==============================] - 0s 2ms/step - loss: 6.4557 - mae: 6.4557\n",
            "Epoch 18/100\n",
            "13/13 [==============================] - 0s 1ms/step - loss: 6.4538 - mae: 6.4538\n",
            "Epoch 19/100\n",
            "13/13 [==============================] - 0s 2ms/step - loss: 6.4501 - mae: 6.4501\n",
            "Epoch 20/100\n",
            "13/13 [==============================] - 0s 1ms/step - loss: 6.4461 - mae: 6.4461\n",
            "Epoch 21/100\n",
            "13/13 [==============================] - 0s 2ms/step - loss: 6.4433 - mae: 6.4433\n",
            "Epoch 22/100\n",
            "13/13 [==============================] - 0s 2ms/step - loss: 6.4356 - mae: 6.4356\n",
            "Epoch 23/100\n",
            "13/13 [==============================] - 0s 2ms/step - loss: 6.4321 - mae: 6.4321\n",
            "Epoch 24/100\n",
            "13/13 [==============================] - 0s 2ms/step - loss: 6.4293 - mae: 6.4293\n",
            "Epoch 25/100\n",
            "13/13 [==============================] - 0s 2ms/step - loss: 6.4235 - mae: 6.4235\n",
            "Epoch 26/100\n",
            "13/13 [==============================] - 0s 2ms/step - loss: 6.4215 - mae: 6.4215\n",
            "Epoch 27/100\n",
            "13/13 [==============================] - 0s 2ms/step - loss: 6.4119 - mae: 6.4119\n",
            "Epoch 28/100\n",
            "13/13 [==============================] - 0s 2ms/step - loss: 6.4117 - mae: 6.4117\n",
            "Epoch 29/100\n",
            "13/13 [==============================] - 0s 2ms/step - loss: 6.4062 - mae: 6.4062\n",
            "Epoch 30/100\n",
            "13/13 [==============================] - 0s 1ms/step - loss: 6.4011 - mae: 6.4011\n",
            "Epoch 31/100\n",
            "13/13 [==============================] - 0s 2ms/step - loss: 6.3970 - mae: 6.3970\n",
            "Epoch 32/100\n",
            "13/13 [==============================] - 0s 2ms/step - loss: 6.3906 - mae: 6.3906\n",
            "Epoch 33/100\n",
            "13/13 [==============================] - 0s 1ms/step - loss: 6.3828 - mae: 6.3828\n",
            "Epoch 34/100\n",
            "13/13 [==============================] - 0s 2ms/step - loss: 6.3781 - mae: 6.3781\n",
            "Epoch 35/100\n",
            "13/13 [==============================] - 0s 2ms/step - loss: 6.3714 - mae: 6.3714\n",
            "Epoch 36/100\n",
            "13/13 [==============================] - 0s 2ms/step - loss: 6.3672 - mae: 6.3672\n",
            "Epoch 37/100\n",
            "13/13 [==============================] - 0s 2ms/step - loss: 6.3584 - mae: 6.3584\n",
            "Epoch 38/100\n",
            "13/13 [==============================] - 0s 2ms/step - loss: 6.3525 - mae: 6.3525\n",
            "Epoch 39/100\n",
            "13/13 [==============================] - 0s 1ms/step - loss: 6.3500 - mae: 6.3500\n",
            "Epoch 40/100\n",
            "13/13 [==============================] - 0s 2ms/step - loss: 6.3417 - mae: 6.3417\n",
            "Epoch 41/100\n",
            "13/13 [==============================] - 0s 2ms/step - loss: 6.3338 - mae: 6.3338\n",
            "Epoch 42/100\n",
            "13/13 [==============================] - 0s 1ms/step - loss: 6.3259 - mae: 6.3259\n",
            "Epoch 43/100\n",
            "13/13 [==============================] - 0s 2ms/step - loss: 6.3190 - mae: 6.3190\n",
            "Epoch 44/100\n",
            "13/13 [==============================] - 0s 1ms/step - loss: 6.3103 - mae: 6.3103\n",
            "Epoch 45/100\n",
            "13/13 [==============================] - 0s 2ms/step - loss: 6.3024 - mae: 6.3024\n",
            "Epoch 46/100\n",
            "13/13 [==============================] - 0s 2ms/step - loss: 6.2918 - mae: 6.2918\n",
            "Epoch 47/100\n",
            "13/13 [==============================] - 0s 2ms/step - loss: 6.2866 - mae: 6.2866\n",
            "Epoch 48/100\n",
            "13/13 [==============================] - 0s 2ms/step - loss: 6.2776 - mae: 6.2776\n",
            "Epoch 49/100\n",
            "13/13 [==============================] - 0s 2ms/step - loss: 6.2714 - mae: 6.2714\n",
            "Epoch 50/100\n",
            "13/13 [==============================] - 0s 2ms/step - loss: 6.2601 - mae: 6.2601\n",
            "Epoch 51/100\n",
            "13/13 [==============================] - 0s 2ms/step - loss: 6.2510 - mae: 6.2510\n",
            "Epoch 52/100\n",
            "13/13 [==============================] - 0s 2ms/step - loss: 6.2400 - mae: 6.2400\n",
            "Epoch 53/100\n",
            "13/13 [==============================] - 0s 2ms/step - loss: 6.2256 - mae: 6.2256\n",
            "Epoch 54/100\n",
            "13/13 [==============================] - 0s 2ms/step - loss: 6.2178 - mae: 6.2178\n",
            "Epoch 55/100\n",
            "13/13 [==============================] - 0s 2ms/step - loss: 6.2044 - mae: 6.2044\n",
            "Epoch 56/100\n",
            "13/13 [==============================] - 0s 2ms/step - loss: 6.1942 - mae: 6.1942\n",
            "Epoch 57/100\n",
            "13/13 [==============================] - 0s 2ms/step - loss: 6.1818 - mae: 6.1818\n",
            "Epoch 58/100\n",
            "13/13 [==============================] - 0s 1ms/step - loss: 6.1680 - mae: 6.1680\n",
            "Epoch 59/100\n",
            "13/13 [==============================] - 0s 2ms/step - loss: 6.1604 - mae: 6.1604\n",
            "Epoch 60/100\n",
            "13/13 [==============================] - 0s 1ms/step - loss: 6.1356 - mae: 6.1356\n",
            "Epoch 61/100\n",
            "13/13 [==============================] - 0s 2ms/step - loss: 6.1210 - mae: 6.1210\n",
            "Epoch 62/100\n",
            "13/13 [==============================] - 0s 2ms/step - loss: 6.1034 - mae: 6.1034\n",
            "Epoch 63/100\n",
            "13/13 [==============================] - 0s 2ms/step - loss: 6.0940 - mae: 6.0940\n",
            "Epoch 64/100\n",
            "13/13 [==============================] - 0s 2ms/step - loss: 6.0685 - mae: 6.0685\n",
            "Epoch 65/100\n",
            "13/13 [==============================] - 0s 2ms/step - loss: 6.0552 - mae: 6.0552\n",
            "Epoch 66/100\n",
            "13/13 [==============================] - 0s 2ms/step - loss: 6.0318 - mae: 6.0318\n",
            "Epoch 67/100\n",
            "13/13 [==============================] - 0s 2ms/step - loss: 6.0134 - mae: 6.0134\n",
            "Epoch 68/100\n",
            "13/13 [==============================] - 0s 2ms/step - loss: 5.9921 - mae: 5.9921\n",
            "Epoch 69/100\n",
            "13/13 [==============================] - 0s 2ms/step - loss: 5.9755 - mae: 5.9755\n",
            "Epoch 70/100\n",
            "13/13 [==============================] - 0s 2ms/step - loss: 5.9490 - mae: 5.9490\n",
            "Epoch 71/100\n",
            "13/13 [==============================] - 0s 2ms/step - loss: 5.9216 - mae: 5.9216\n",
            "Epoch 72/100\n",
            "13/13 [==============================] - 0s 2ms/step - loss: 5.9033 - mae: 5.9033\n",
            "Epoch 73/100\n",
            "13/13 [==============================] - 0s 2ms/step - loss: 5.8719 - mae: 5.8719\n",
            "Epoch 74/100\n",
            "13/13 [==============================] - 0s 2ms/step - loss: 5.8440 - mae: 5.8440\n",
            "Epoch 75/100\n",
            "13/13 [==============================] - 0s 2ms/step - loss: 5.8153 - mae: 5.8153\n",
            "Epoch 76/100\n",
            "13/13 [==============================] - 0s 2ms/step - loss: 5.7839 - mae: 5.7839\n",
            "Epoch 77/100\n",
            "13/13 [==============================] - 0s 1ms/step - loss: 5.7531 - mae: 5.7531\n",
            "Epoch 78/100\n",
            "13/13 [==============================] - 0s 1ms/step - loss: 5.7212 - mae: 5.7212\n",
            "Epoch 79/100\n",
            "13/13 [==============================] - 0s 1ms/step - loss: 5.6923 - mae: 5.6923\n",
            "Epoch 80/100\n",
            "13/13 [==============================] - 0s 2ms/step - loss: 5.6561 - mae: 5.6561\n",
            "Epoch 81/100\n",
            "13/13 [==============================] - 0s 2ms/step - loss: 5.6283 - mae: 5.6283\n",
            "Epoch 82/100\n",
            "13/13 [==============================] - 0s 2ms/step - loss: 5.5964 - mae: 5.5964\n",
            "Epoch 83/100\n",
            "13/13 [==============================] - 0s 2ms/step - loss: 5.5569 - mae: 5.5569\n",
            "Epoch 84/100\n",
            "13/13 [==============================] - 0s 2ms/step - loss: 5.5184 - mae: 5.5184\n",
            "Epoch 85/100\n",
            "13/13 [==============================] - 0s 2ms/step - loss: 5.4806 - mae: 5.4806\n",
            "Epoch 86/100\n",
            "13/13 [==============================] - 0s 2ms/step - loss: 5.4418 - mae: 5.4418\n",
            "Epoch 87/100\n",
            "13/13 [==============================] - 0s 2ms/step - loss: 5.4001 - mae: 5.4001\n",
            "Epoch 88/100\n",
            "13/13 [==============================] - 0s 1ms/step - loss: 5.3653 - mae: 5.3653\n",
            "Epoch 89/100\n",
            "13/13 [==============================] - 0s 1ms/step - loss: 5.3234 - mae: 5.3234\n",
            "Epoch 90/100\n",
            "13/13 [==============================] - 0s 2ms/step - loss: 5.2855 - mae: 5.2855\n",
            "Epoch 91/100\n",
            "13/13 [==============================] - 0s 1ms/step - loss: 5.2461 - mae: 5.2461\n",
            "Epoch 92/100\n",
            "13/13 [==============================] - 0s 1ms/step - loss: 5.2008 - mae: 5.2008\n",
            "Epoch 93/100\n",
            "13/13 [==============================] - 0s 2ms/step - loss: 5.1535 - mae: 5.1535\n",
            "Epoch 94/100\n",
            "13/13 [==============================] - 0s 2ms/step - loss: 5.1091 - mae: 5.1091\n",
            "Epoch 95/100\n",
            "13/13 [==============================] - 0s 2ms/step - loss: 5.0742 - mae: 5.0742\n",
            "Epoch 96/100\n",
            "13/13 [==============================] - 0s 1ms/step - loss: 5.0252 - mae: 5.0252\n",
            "Epoch 97/100\n",
            "13/13 [==============================] - 0s 2ms/step - loss: 4.9876 - mae: 4.9876\n",
            "Epoch 98/100\n",
            "13/13 [==============================] - 0s 2ms/step - loss: 4.9483 - mae: 4.9483\n",
            "Epoch 99/100\n",
            "13/13 [==============================] - 0s 2ms/step - loss: 4.9112 - mae: 4.9112\n",
            "Epoch 100/100\n",
            "13/13 [==============================] - 0s 2ms/step - loss: 4.8780 - mae: 4.8780\n"
          ],
          "name": "stdout"
        },
        {
          "output_type": "execute_result",
          "data": {
            "text/plain": [
              "<tensorflow.python.keras.callbacks.History at 0x7f4d5d459810>"
            ]
          },
          "metadata": {
            "tags": []
          },
          "execution_count": 45
        }
      ]
    },
    {
      "cell_type": "markdown",
      "metadata": {
        "id": "0v7DyIXL0aj5"
      },
      "source": [
        "#Evaluation"
      ]
    },
    {
      "cell_type": "code",
      "metadata": {
        "colab": {
          "base_uri": "https://localhost:8080/"
        },
        "id": "iKkjmEuM0aD-",
        "outputId": "327e00b2-640c-4ccc-c49a-f74303fe2124"
      },
      "source": [
        "model.evaluate(x_train, y_train)"
      ],
      "execution_count": 46,
      "outputs": [
        {
          "output_type": "stream",
          "text": [
            "13/13 [==============================] - 0s 2ms/step - loss: 4.8532 - mae: 4.8532\n"
          ],
          "name": "stdout"
        },
        {
          "output_type": "execute_result",
          "data": {
            "text/plain": [
              "[4.853243827819824, 4.853243827819824]"
            ]
          },
          "metadata": {
            "tags": []
          },
          "execution_count": 46
        }
      ]
    },
    {
      "cell_type": "markdown",
      "metadata": {
        "id": "iW9eEUYKxKZ_"
      },
      "source": [
        "#Service"
      ]
    },
    {
      "cell_type": "code",
      "metadata": {
        "colab": {
          "base_uri": "https://localhost:8080/"
        },
        "id": "ld7MZBwDxGAt",
        "outputId": "016aea31-2b7e-4f78-997a-e5f1bc8652b4"
      },
      "source": [
        "x_train[10]"
      ],
      "execution_count": 52,
      "outputs": [
        {
          "output_type": "execute_result",
          "data": {
            "text/plain": [
              "array([ 0.63391647, -0.48361547,  1.0283258 , -0.25683275,  1.15788777,\n",
              "        0.19313958,  1.11048828, -1.03628262,  1.67588577,  1.5652875 ,\n",
              "        0.78447637,  0.22689422,  1.04466491])"
            ]
          },
          "metadata": {
            "tags": []
          },
          "execution_count": 52
        }
      ]
    },
    {
      "cell_type": "code",
      "metadata": {
        "colab": {
          "base_uri": "https://localhost:8080/"
        },
        "id": "giKHjm-gxH9s",
        "outputId": "dad4afdb-f05c-4b97-c4d4-6b5cd934031e"
      },
      "source": [
        "model.predict([[ 0.63391647, -0.48361547,  1.0283258 , -0.25683275,  1.15788777,\n",
        "        0.19313958,  1.11048828, -1.03628262,  1.67588577,  1.5652875 ,\n",
        "        0.78447637,  0.22689422,  1.04466491]])"
      ],
      "execution_count": 53,
      "outputs": [
        {
          "output_type": "execute_result",
          "data": {
            "text/plain": [
              "array([[16.603802]], dtype=float32)"
            ]
          },
          "metadata": {
            "tags": []
          },
          "execution_count": 53
        }
      ]
    },
    {
      "cell_type": "code",
      "metadata": {
        "colab": {
          "base_uri": "https://localhost:8080/"
        },
        "id": "45HPgw_JxZGs",
        "outputId": "be9148d0-efb0-4b41-b517-c9d48bdce5ea"
      },
      "source": [
        "y_train[10]"
      ],
      "execution_count": 54,
      "outputs": [
        {
          "output_type": "execute_result",
          "data": {
            "text/plain": [
              "12.1"
            ]
          },
          "metadata": {
            "tags": []
          },
          "execution_count": 54
        }
      ]
    },
    {
      "cell_type": "code",
      "metadata": {
        "id": "WYr1vXEJ5l2_"
      },
      "source": [
        ""
      ],
      "execution_count": null,
      "outputs": []
    }
  ]
}