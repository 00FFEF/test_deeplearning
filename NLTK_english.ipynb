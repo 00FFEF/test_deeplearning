{
  "nbformat": 4,
  "nbformat_minor": 0,
  "metadata": {
    "colab": {
      "name": "NLTK_english.ipynb",
      "provenance": [],
      "mount_file_id": "11Wx7bllUbT2C8vwCSzBeTuAnEPx8FWC-",
      "authorship_tag": "ABX9TyO8g6CxyN7rxlk9dY/yLiN3"
    },
    "kernelspec": {
      "name": "python3",
      "display_name": "Python 3"
    },
    "language_info": {
      "name": "python"
    }
  },
  "cells": [
    {
      "cell_type": "code",
      "metadata": {
        "id": "NZqa3zd32RAt"
      },
      "source": [
        "import pandas as pd"
      ],
      "execution_count": 4,
      "outputs": []
    },
    {
      "cell_type": "code",
      "metadata": {
        "colab": {
          "base_uri": "https://localhost:8080/"
        },
        "id": "CQcxzKar5vaw",
        "outputId": "6209520d-c3c7-43a2-f554-81677b0c2c3e"
      },
      "source": [
        "!ls ./drive/MyDrive/Test/CEO3.csv"
      ],
      "execution_count": 2,
      "outputs": [
        {
          "output_type": "stream",
          "text": [
            "./drive/MyDrive/Test/CEO3.csv\n"
          ],
          "name": "stdout"
        }
      ]
    },
    {
      "cell_type": "code",
      "metadata": {
        "id": "67ONVSDn3iUH"
      },
      "source": [
        "df = pd.read_csv('./drive/MyDrive/Test/CEO3.csv', encoding='latin')\n",
        "df.head(5)"
      ],
      "execution_count": null,
      "outputs": []
    },
    {
      "cell_type": "code",
      "metadata": {
        "id": "_z1wXXV63lJG",
        "colab": {
          "base_uri": "https://localhost:8080/"
        },
        "outputId": "e3ecd679-a921-4130-b388-011d5ef40a25"
      },
      "source": [
        "texts = df['text']\n",
        "texts[0:5]"
      ],
      "execution_count": 8,
      "outputs": [
        {
          "output_type": "execute_result",
          "data": {
            "text/plain": [
              "0    We will use beauty to change the world and bec...\n",
              "1    AMOREPACIFC Group will endeavor to become a gr...\n",
              "2    AMOREPACIFIC Group has been pursuing the path ...\n",
              "3    This year marks the 25th anniversary of the es...\n",
              "4    Since the inception, Asiana Airlines has pledg...\n",
              "Name: text, dtype: object"
            ]
          },
          "metadata": {
            "tags": []
          },
          "execution_count": 8
        }
      ]
    },
    {
      "cell_type": "code",
      "metadata": {
        "colab": {
          "base_uri": "https://localhost:8080/"
        },
        "id": "p7mII6L7EUbg",
        "outputId": "67dce919-7e74-4907-f7fa-6a8694ff2262"
      },
      "source": [
        "len(texts[5]), texts[5]"
      ],
      "execution_count": 9,
      "outputs": [
        {
          "output_type": "execute_result",
          "data": {
            "text/plain": [
              "(3903,\n",
              " 'All of us will do our best without stopping for sustainable growth and development. First of all, I would like to convey my sincere appreciation to our stakeholders for continued affection and trust. In the last year, we were able to reinforce our core competency and competitiveness under  he motto of ¡®new Kumho Asiana¡¯. These achievements were made possible because of the assionnd unwavering focus which we learned in our early years. We chose ¡®Flawless Operational Safety¡¯ and ¡®Regaining Customer Trust¡¯ as our top priorities because safety and service are Asiana Airlines¡¯ highest goals. We¡¯ve made improvements in flight training system and maintenance quality system to reinforce our general safety systems. Aisana Airlines has introduced A380, the next generation cutting-edge aircraft, to provide convenience for customers and put them into lA flights. In order to reinforce the competitiveness of long-haul flights, we  expanded Paris and Istanbul flights. Furthermore, we added more flights to Guangzhou, yanji and Shenzhen to take the dominance as a leading carrier in the Chinese market. Asiana Airlines has laid the groundwork for sustainability with the revitalization of organizational culture. ¡®Smile brings blessings¡¯ campaign, the meeting between executives and staffers which leads to frank exchanges of opinions, has given us the sense of belonging and strong bond by tearing down the walls between positions. Asiana Airlines is going to fulfill the management policy of the last year, new Kumho Asiana, in 2015 and will try its best to be a reliable and beautiful company under the new motto ¡°Strengthen Self without Stopping¡±. That means we are ready to stand as one and work tirelessly for the steady development and growth of the company. In addition to the safety and service items we have already promoted, an integrated safety information system will be built and bold investment for hi-tech operation equipment will be made to continuously strengthen the infrastructure for safety. This will also enhance the foundation for bringing about the awareness of safety issues. In order to reinforce our competitiveness through the latest aircraft, we confirmed the plan to introduce A350XWb and A321 nEO. We hope this will help build up the foundation for future growth. This year, we will put additional A380s into new york flights and will start a new flight to Rome to reinforce our competitiveness in long-haul flight. Also, we will speed up the plan to add our strategic air routes in China and other Asian countries. Asiana Airlines hopes to become a company that contributes to the nation and society by social and environmental activities. We are going to take responsibility for social and environmental issues with persistence and sincerity. One of such efforts is the ¡®unICEF Spare Coin Collection¡¯ which we has been working with the Korean Committee for unICEF (united nations Children¡¯s Fund). In the last year, the accumulated amount of money has exceeded 10 billion won. This fundraising campaign will be continued for the benefit of underprivileged children. There are also other activities and campaigns to promote corporate responsibility such as ¡®Social Work Volunteering In Relay¡¯, ¡®beautiful Classroom¡¯ in China, tree planting events on the reclaimed lands near metropolitan areas and various environmental activities to reduce greenhouse gases. In retrospect, Asiana Airlines has grown and evolved thanks to our stakeholders¡¯ continuous affection and support. We will make utmost efforts to raise the corporate value to the best in the business and to be a ¡®beautiful Company¡¯who is willing to take the social responsibilities by raising awareness of safety issues and differentiating the services with distinct ideas. We hope all our stakeholders will favor us with supports and expectations. Thank you.\\nSoo Cheon, Kim\\nPresident & CEO')"
            ]
          },
          "metadata": {
            "tags": []
          },
          "execution_count": 9
        }
      ]
    },
    {
      "cell_type": "code",
      "metadata": {
        "colab": {
          "base_uri": "https://localhost:8080/"
        },
        "id": "0msJs3PYRMf1",
        "outputId": "0208e22e-5dfa-45a1-95ad-838605bfaee7"
      },
      "source": [
        "texts = pd.Series(texts[0:4])\n",
        "texts"
      ],
      "execution_count": 25,
      "outputs": [
        {
          "output_type": "execute_result",
          "data": {
            "text/plain": [
              "0    We will use beauty to change the world and bec...\n",
              "1    AMOREPACIFC Group will endeavor to become a gr...\n",
              "2    AMOREPACIFIC Group has been pursuing the path ...\n",
              "3    This year marks the 25th anniversary of the es...\n",
              "Name: text, dtype: object"
            ]
          },
          "metadata": {
            "tags": []
          },
          "execution_count": 25
        }
      ]
    },
    {
      "cell_type": "code",
      "metadata": {
        "id": "MZDcZMugFXxo"
      },
      "source": [
        "from nltk.tokenize import RegexpTokenizer"
      ],
      "execution_count": 10,
      "outputs": []
    },
    {
      "cell_type": "code",
      "metadata": {
        "colab": {
          "base_uri": "https://localhost:8080/"
        },
        "id": "J35EgHcNGtAI",
        "outputId": "ac566b80-40b7-417d-bcdc-af8576d98df0"
      },
      "source": [
        "tokenizer = RegexpTokenizer(r'\\w+')\n",
        "tokenizer"
      ],
      "execution_count": 11,
      "outputs": [
        {
          "output_type": "execute_result",
          "data": {
            "text/plain": [
              "RegexpTokenizer(pattern='\\\\w+', gaps=False, discard_empty=True, flags=<RegexFlag.UNICODE|DOTALL|MULTILINE: 56>)"
            ]
          },
          "metadata": {
            "tags": []
          },
          "execution_count": 11
        }
      ]
    },
    {
      "cell_type": "code",
      "metadata": {
        "id": "axSBRAzvHLwY"
      },
      "source": [
        "texts.values"
      ],
      "execution_count": null,
      "outputs": []
    },
    {
      "cell_type": "code",
      "metadata": {
        "colab": {
          "base_uri": "https://localhost:8080/"
        },
        "id": "TIx-OUN9KF-e",
        "outputId": "3b24f5b8-fc97-4118-bc55-f467897455b2"
      },
      "source": [
        "type(texts.values)"
      ],
      "execution_count": 16,
      "outputs": [
        {
          "output_type": "execute_result",
          "data": {
            "text/plain": [
              "numpy.ndarray"
            ]
          },
          "metadata": {
            "tags": []
          },
          "execution_count": 16
        }
      ]
    },
    {
      "cell_type": "code",
      "metadata": {
        "id": "93CiHErWKJY8"
      },
      "source": [
        "from nltk.stem import WordNetLemmatizer\n",
        "lemmatizer = WordNetLemmatizer()"
      ],
      "execution_count": 17,
      "outputs": []
    },
    {
      "cell_type": "code",
      "metadata": {
        "colab": {
          "base_uri": "https://localhost:8080/"
        },
        "id": "H41DeZjJLQvw",
        "outputId": "55cf9b4f-76ba-4d64-875c-bec0125e555c"
      },
      "source": [
        "import nltk\n",
        "from nltk import wordnet\n",
        "nltk.download('wordnet')"
      ],
      "execution_count": 22,
      "outputs": [
        {
          "output_type": "stream",
          "text": [
            "[nltk_data] Downloading package wordnet to /root/nltk_data...\n",
            "[nltk_data]   Unzipping corpora/wordnet.zip.\n"
          ],
          "name": "stdout"
        },
        {
          "output_type": "execute_result",
          "data": {
            "text/plain": [
              "True"
            ]
          },
          "metadata": {
            "tags": []
          },
          "execution_count": 22
        }
      ]
    },
    {
      "cell_type": "code",
      "metadata": {
        "colab": {
          "base_uri": "https://localhost:8080/"
        },
        "id": "jygZxreIUHjK",
        "outputId": "42ca7603-4b84-4034-d08b-3924ba64dcab"
      },
      "source": [
        "nltk.download('stopwords')"
      ],
      "execution_count": 29,
      "outputs": [
        {
          "output_type": "stream",
          "text": [
            "[nltk_data] Downloading package stopwords to /root/nltk_data...\n",
            "[nltk_data]   Unzipping corpora/stopwords.zip.\n"
          ],
          "name": "stdout"
        },
        {
          "output_type": "execute_result",
          "data": {
            "text/plain": [
              "True"
            ]
          },
          "metadata": {
            "tags": []
          },
          "execution_count": 29
        }
      ]
    },
    {
      "cell_type": "code",
      "metadata": {
        "colab": {
          "base_uri": "https://localhost:8080/"
        },
        "id": "ZUGI5lXrUaP0",
        "outputId": "3a015c96-e26e-4e04-81e6-2ebe806f41f8"
      },
      "source": [
        "from nltk.corpus import stopwords\n",
        "stop_words = stopwords.words('english')\n",
        "stop_words.extend('[employer]')\n",
        "stop_words[0:5], len(stop_words)"
      ],
      "execution_count": 31,
      "outputs": [
        {
          "output_type": "execute_result",
          "data": {
            "text/plain": [
              "(['i', 'me', 'my', 'myself', 'we'], 189)"
            ]
          },
          "metadata": {
            "tags": []
          },
          "execution_count": 31
        }
      ]
    },
    {
      "cell_type": "code",
      "metadata": {
        "colab": {
          "base_uri": "https://localhost:8080/"
        },
        "id": "5ymceqssH_bo",
        "outputId": "5442e624-e358-4317-b8a8-2e4b24bece22"
      },
      "source": [
        "preprocessed_texts = list()\n",
        "for text in texts.values:\n",
        "  tokenized_text = tokenizer.tokenize(text.lower())\n",
        "  # print(len(tokenized_text))\n",
        "  lemmatized_list = list()\n",
        "  for token in tokenized_text:\n",
        "    lemmatized_text = lemmatizer.lemmatize(token)\n",
        "    # print(type(lemmatized_text), lemmatized_text)\n",
        "    lemmatized_list.append(lemmatized_text)\n",
        "  # print(len(lemmatized_list), lemmatized_list)\n",
        "  for tok in lemmatized_list:\n",
        "    if tok not in stop_words:\n",
        "      preprocessed_texts.append(tok)\n",
        "\n",
        "print(len(preprocessed_texts), preprocessed_texts)"
      ],
      "execution_count": 36,
      "outputs": [
        {
          "output_type": "stream",
          "text": [
            "1378 ['use', 'beauty', 'change', 'world', 'become', 'company', 'customer', 'love', 'stakeholder', 'past', '67', 'year', 'amorepacific', 'ha', 'embarked', 'long', 'journey', 'beauty', 'provide', 'happiness', 'pleasure', 'people', 'around', 'world', 'amorepacific', 'creation', 'beauty', 'product', 'stood', 'test', 'numerous', 'crisis', 'resulting', 'uncertain', 'management', 'condition', 'achieve', 'continuous', 'growth', 'caring', 'customer', 'taking', 'quick', 'action', 'seek', 'new', 'opportunity', 'even', 'moment', 'amorepacific', 'striving', 'satisfy', 'global', 'customer', 'discovering', 'value', 'sustainable', 'beauty', 'found', 'asia', 'profound', 'wisdom', 'also', 'making', 'concerted', 'effort', 'create', 'sustainable', 'company', 'amorepacific', 'ha', 'minimized', 'negative', 'impact', 'environment', 'strengthened', 'development', 'sustainable', 'product', 'packaging', 'material', 'deliver', 'value', 'environment', 'friendly', 'consumption', 'customer', 'continually', 'expanded', 'beautiful', 'fair', 'trade', 'acquire', 'outstanding', 'local', 'raw', 'material', 'support', 'local', 'community', 'concentrated', 'corporate', 'competency', 'developing', 'eco', 'friendly', 'package', 'used', 'botanical', 'raw', 'material', 'recycled', 'material', 'also', 'amorepacific', 'beauty', 'production', 'site', 'equipped', 'production', 'logistics', 'system', 'global', 'standard', 'acquired', 'certification', 'eco', 'friendly', 'building', 'cgmp', 'cosmetic', 'good', 'manufacturing', 'practice', 'constructed', 'botanical', 'garden', 'raw', 'material', 'environment', 'friendly', 'natural', 'park', 'based', 'effort', 'become', 'beauty', 'creator', 'world', 'providing', 'high', 'quality', 'product', 'best', 'raw', 'material', 'customer', 'contributing', 'environment', 'local', 'community', 'global', 'brand', 'company', 'amorepacific', 'seeking', 'achieve', 'realized', 'talented', 'people', 'ready', 'challenge', 'world', 'stage', 'therefore', 'amorepacific', 'ha', 'worked', 'towards', 'developing', 'global', 'competency', 'employee', 'based', 'management', 'philosophy', 'valuing', 'people', 'everything', 'else', 'creating', 'workplace', 'employee', 'grow', 'individual', 'smart', 'work', 'happy', 'plus', 'campaign', 'increased', 'employee', 'engagement', 'devoted', 'customer', 'helped', 'find', 'balance', 'work', 'personal', 'life', 'also', 'consolidate', 'dream', 'vocation', 'variety', 'talented', 'employee', 'one', 'implementing', 'corporate', 'culture', 'activity', 'one', 'amorepacific', 'global', 'perspective', 'amorepacific', 'ha', 'continually', 'strengthened', 'win', 'win', 'relationship', 'business', 'partner', 'create', 'healthy', 'business', 'ecosystem', 'strengthen', 'competitiveness', 'business', 'partner', 'expanded', 'supplier', 'support', 'fund', 'supplier', 'opened', 'win', 'win', 'portal', 'site', 'supplier', 'effectively', 'resolve', 'complaint', 'business', 'partner', 'result', 'amorepacific', 'business', 'partner', 'maintain', 'beautiful', 'relationship', 'help', 'achieve', 'growth', 'furthermore', 'order', 'fulfill', 'responsibility', 'global', 'citizen', 'support', 'ten', 'principle', 'un', 'global', 'compact', 'ungc', 'including', 'human', 'right', 'labor', 'environment', 'anticorruption', 'continually', 'work', 'towards', 'reflecting', 'principle', 'amorepacific', 'management', 'activity', 'stakeholder', 'management', 'policy', 'amorepacific', '2013', 'team', 'together', 'show', 'amorepacific', 'commitment', 'look', 'apex', 'two', 'point', 'meet', 'together', 'instead', 'dividing', 'world', 'mine', 'others', 'thereby', 'walking', 'side', 'side', 'partner', 'business', 'ecosystem', 'including', 'supplier', 'furthermore', 'walk', 'together', 'world', 'society', 'grow', 'much', 'faster', 'healthier', 'amorepacific', 'ha', 'dream', 'changing', 'world', 'beauty', 'product', 'employee', 'amorepacific', 'make', 'concerted', 'effort', 'achieve', 'dream', 'become', 'company', 'customer', 'love', 'asia', 'thank', 'chairman', 'ceo', 'amorepacific', 'corporation', 'kyung', 'bae', 'suh', 'amorepacifc', 'group', 'endeavor', 'become', 'great', 'global', 'company', 'brings', 'brighter', 'future', 'next', 'generation', 'changing', 'world', 'beautiful', 'healthier', 'place', 'honoring', 'founder', 'philosophy', 'contributing', 'mankind', 'creating', 'beauty', 'health', 'technology', 'heartfelt', 'sincerity', 'amorepacific', 'group', 'ha', 'continued', 'journey', 'beauty', 'past', '70', 'year', 'change', 'world', 'unique', 'asian', 'beauty', 'mission', 'spread', 'essence', 'asian', 'beauty', 'around', 'world', 'asian', 'beauty', 'creator', 'fully', 'devoted', 'discover', 'value', 'harmony', 'beauty', 'based', 'asian', 'wisdom', 'deliver', 'customer', 'world', 'despite', 'fast', 'changing', 'global', 'business', 'environment', 'economic', 'uncertainty', 'recent', 'year', 'never', 'ceased', 'grow', 'constantly', 'innovating', 'provide', 'better', 'product', 'service', 'based', 'voice', 'customer', 'always', 'reminding', 'stay', 'humble', 'learn', 'customer', 'today', 'success', 'could', 'possible', 'without', 'great', 'support', 'customer', 'well', 'society', 'working', 'together', 'nature', 'owe', 'next', 'generation', 'reason', 'engaged', 'various', 'sustainable', 'activity', 'order', 'promote', 'harmonious', 'co', 'existence', 'co', 'prosperity', 'customer', 'society', 'natural', 'environment', 'first', 'part', 'effort', 'established', 'implemented', 'strategy', 'minimize', 'social', 'environmental', 'impact', 'entire', 'life', 'cycle', 'product', 'technological', 'development', 'disposal', 'addition', 'maximize', 'customer', 'value', 'continuing', 'launch', 'innovative', 'product', 'consider', 'diverse', 'preference', 'shown', 'customer', 'around', 'world', 'offering', 'differentiated', 'shopping', 'experience', 'digital', 'innovation', 'second', 'engaging', 'various', 'green', 'activity', 'reduce', 'environmental', 'impact', 'corporate', 'activity', 'protect', 'planet', 'response', 'global', 'issue', 'climate', 'change', 'water', 'scarcity', 'trying', 'reduce', 'carbon', 'emission', 'water', 'consumption', 'also', 'strengthened', 'safety', 'environmental', 'management', 'system', 'also', 'made', 'effort', 'preserve', 'biodiversity', 'conducting', 'research', 'recovery', 'efficacy', 'rare', 'indigenous', 'plant', 'specie', 'third', 'reinforcing', 'win', 'win', 'relationship', 'executive', 'employee', 'partner', 'heightened', 'education', 'training', 'standard', 'foster', 'global', 'talent', 'enhance', 'competency', 'executive', 'employee', 'also', 'committed', 'creating', 'pleasant', 'working', 'environment', 'help', 'employee', 'maintain', 'good', 'balance', 'work', 'personal', 'life', 'meanwhile', 'ensure', 'harmonious', 'mutual', 'growth', 'business', 'partner', 'client', 'beauty', 'partner', 'strengthened', 'financial', 'educational', 'support', 'prepared', 'foundation', 'promote', 'open', 'communication', 'active', 'participation', 'fourth', 'responsible', 'corporate', 'citizen', 'dedicated', 'fulfilling', 'corporate', 'social', 'responsibility', 'helping', 'woman', 'member', 'local', 'community', 'realize', 'beautiful', 'healthy', 'life', 'thereby', 'creating', 'prosperous', 'society', 'spreading', 'value', 'beauty', 'three', 'area', 'woman', 'natural', 'ecosystem', 'culture', 'discover', 'create', 'new', 'value', 'shared', 'society', 'spread', 'value', 'beyond', 'national', 'border', 'across', 'whole', 'world', 'lastly', 'global', 'citizen', 'support', 'adhere', '10', 'principle', 'un', 'global', 'compact', 'ungc', 'regarding', 'human', 'right', 'labor', 'environment', 'anti', 'corruption', 'continue', 'advance', 'respect', 'principle', 'management', 'practice', 'honorable', 'stakeholder', '2015', 'meaningful', 'year', 'mark', '70th', 'anniversary', 'amorepacific', 'group', 'foundation', 'also', 'time', 'transition', '70', 'year', 'journey', 'ha', 'travelled', 'pond', 'stream', 'river', 'ha', 'finally', 'set', 'sail', 'greater', 'ocean', 'amorepacific', 'group', 'never', 'cease', 'effort', 'make', 'positive', 'impact', 'people', 'life', 'beauty', 'health', 'engage', 'sustainable', 'management', 'become', 'great', 'global', 'company', 'trusted', 'supported', 'customer', 'throughout', 'world', 'thank', 'amorepacific', 'group', 'ha', 'pursuing', 'path', 'beauty', 'last', '70', 'year', 'respond', 'customer', 'high', 'expectation', 'product', 'service', 'answering', 'vocation', 'asian', 'beauty', 'creator', 'made', 'every', 'effort', 'transform', 'world', 'beauty', 'sharing', 'customer', 'stakeholder', 'unique', 'beauty', 'product', 'company', 'best', 'creating', '2015', 'despite', 'global', 'economic', 'slowdown', 'outbreak', 'middle', 'east', 'respiratory', 'syndrome', 'mers', 'affected', 'social', 'corporate', 'activity', 'korea', 'continued', 'emphasize', 'innovation', 'retail', 'sale', 'global', 'expansion', 'result', 'able', 'celebrate', '70th', 'anniversary', 'closer', 'ever', 'reaching', 'dream', 'becoming', 'great', 'global', 'brand', 'company', 'amorepacific', 'group', 'ha', 'journeyed', 'pond', 'stream', 'river', 'confluence', 'set', 'sail', 'upon', 'great', 'ocean', 'great', 'journey', 'across', 'ocean', 'cannot', 'made', 'alone', 'done', 'hastily', 'rather', 'shall', 'travel', 'hand', 'hand', 'others', 'endure', 'complete', 'far', 'reaching', 'journey', 'committed', 'fulfilling', 'responsibility', 'ethical', 'corporate', 'citizen', 'throughout', 'year', 'amorepacific', 'group', 'ha', 'undertaken', 'following', 'activity', 'employee', 'customer', 'stakeholder', 'environment', 'society', 'first', 'implementing', 'rigorous', 'strategy', 'designed', 'reduce', 'social', 'environmental', 'footprint', 'throughout', 'entire', 'lifecycle', 'product', 'research', 'development', 'end', 'user', 'stage', 'beauty', 'maestro', 'continue', 'maximize', 'customer', 'value', 'experience', 'continuing', 'launch', 'highly', 'competitive', 'innovative', 'product', 'reflecting', 'diverse', 'preference', 'customer', 'around', 'world', 'offer', 'differentiated', 'shopping', 'experience', 'digital', 'innovation', 'mobile', 'application', 'second', 'line', 'commitment', 'protecting', 'planet', 'undertaking', 'range', 'activity', 'preserve', 'nature', 'reduce', 'environmental', 'effect', 'corporate', 'activity', 'specifically', 'response', 'global', 'environmental', 'priority', 'climate', 'change', 'water', 'scarcity', 'emphasize', 'reducing', 'greenhouse', 'gas', 'emission', 'optimizing', 'water', 'use', 'systematically', 'improving', 'environmental', 'safety', 'measure', 'contribute', 'biodiversity', 'engage', 'activity', 'restore', 'rare', 'indigenous', 'plant', 'specie', 'third', 'strengthening', 'win', 'win', 'partnership', 'employee', 'business', 'partner', 'start', 'end', 'supply', 'chain', 'heightened', 'education', 'training', 'standard', 'foster', 'global', 'talent', 'enhance', 'global', 'professional', 'competency', 'employee', 'management', 'rolled', 'program', 'help', 'create', 'great', 'global', 'company', 'respect', 'work', 'life', 'balance', 'addition', 'ensure', 'win', 'win', 'growth', 'business', 'partner', 'expanded', 'financial', 'educational', 'support', 'prepared', 'foundation', 'upon', 'promote', 'open', 'communication', 'active', 'participation', 'fourth', 'responsible', 'corporate', 'citizen', 'supporting', 'various', 'program', 'enrich', 'life', 'woman', 'community', 'group', 'particular', 'corporate', 'social', 'responsibility', 'activity', 'focused', 'woman', 'natural', 'ecosystem', 'culture', 'aim', 'integrate', 'emphasis', 'healthy', 'beauty', 'creating', 'shared', 'value', 'business', 'society', 'worldwide', 'finally', 'global', 'citizen', 'support', '10', 'principle', 'united', 'nation', 'global', 'compact', 'regarding', 'human', 'right', 'labor', 'environment', 'anti', 'corruption', 'putting', 'every', 'effort', 'fully', 'integrating', 'principle', 'corporate', 'strategy', 'operation', 'sustainable', 'business', 'practice', 'reflect', 'commitment', 'grand', 'vision', 'bring', 'happier', 'today', 'beautiful', 'tomorrow', 'customer', 'stakeholder', 'begun', '70th', 'year', 'journey', 'transform', 'world', 'beauty', 'thank', 'showing', 'support', 'journey', 'count', 'continued', 'interest', 'engagement', 'year', 'mark', '25th', 'anniversary', 'establishment', 'asiana', 'airline', 'since', 'embarked', 'journey', 'brighter', 'future', 'truly', 'grateful', 'stakeholder', 'loved', 'rooted', 'u', 'past', '25', 'year', 'thanks', 'support', 'asiana', 'airline', 'wa', 'able', 'become', '1st', 'airline', 'named', 'airline', 'year', 'five', 'consecutive', 'time', 'asiana', 'airline', 'ha', 'unwavering', 'commitment', 'responsibility', 'beautiful', 'company', 'creates', 'best', 'corporate', 'value', 'industry', 'achieving', 'customer', 'satisfaction', 'safest', 'superior', 'service', 'despite', 'adverse', 'external', 'condition', 'including', 'economic', 'recession', 'triggered', 'developed', 'country', 'spread', 'korea', 'asiana', 'airline', 'achieved', 'positive', 'performance', 'carrying', '11million', 'passenger', 'year', 'generating', 'krw', '5', 'trillion', '638', '1', 'billion', 'revenue', 'krw', '132', '5', 'billion', 'ebit', 'driven', 'part', 'growth', 'chinese', 'market', 'increasing', 'demand', 'leisure', 'activity', '2012', 'addition', 'asiana', 'ha', 'continued', 'introducing', 'latest', 'equipment', 'facility', 'including', 'nine', 'passenger', 'jet', 'two', 'cargo', 'jet', 'operate', 'total', '80', 'airplane', 'upgrading', 'plane', 'seat', 'facility', 'two', 'boeing', '777', 'airplane', 'asiana', 'also', 'launched', 'flight', 'vladivostok', 'completing', 'triangle', 'route', 'far', 'east', 'connecting', 'flight', 'khabarovsk', 'sakhalin', 'increased', 'flight', 'haneda', 'hong', 'kong', 'honolulu', 'paris', 'increase', 'customer', 'convenience', 'parallel', 'asiana', 'airline', 'ha', 'introduced', 'wide', 'array', 'initiative', 'beautiful', 'world', 'create', 'prosperity', 'everyone', 'company', 'faithfully', 'complying', '10', 'principle', 'un', 'global', 'compact', 'various', 'issue', 'human', 'right', 'labor', 'environment', 'anti', 'corruption', 'expanding', 'scope', 'eco', 'flight', 'distinct', 'green', 'operation', 'program', 'company', 'promoting', 'family', 'friendly', 'work', 'environment', 'inclusive', 'growth', 'also', 'making', 'remarkable', 'stride', 'social', 'contribution', 'initiative', 'go', 'beyond', 'national', 'boundary', 'donating', 'book', 'multi', 'cultural', 'family', 'korea', 'opening', 'beautiful', 'class', 'sister', 'school', 'china', 'launching', 'love', 'house', 'initiative', 'vietnam', 'strenuous', 'endeavor', 'ha', 'earned', 'asiana', 'recognition', '1', 'airline', 'dow', 'jones', 'sustainability', 'index', 'four', 'consecutive', 'year', 'grand', 'prize', '1st', 'family', 'friendly', 'employer', 'award', '1', 'airline', 'korean', 'sustainability', 'index', 'going', 'forward', 'asiana', 'people', 'exert', 'best', 'endeavor', 'building', 'achievement', 'past', '25', 'year', 'fly', 'beyond', 'competition', 'hope', 'stakeholder', 'continue', 'give', 'support', 'journey', 'towards', 'beautiful', 'future', 'thank']\n"
          ],
          "name": "stdout"
        }
      ]
    },
    {
      "cell_type": "code",
      "metadata": {
        "colab": {
          "base_uri": "https://localhost:8080/",
          "height": 35
        },
        "id": "nhHp9i5oIE2w",
        "outputId": "a0611b56-ba2f-4083-bccc-f2b3ea8fb55f"
      },
      "source": [
        "tokenized_text[0]"
      ],
      "execution_count": 28,
      "outputs": [
        {
          "output_type": "execute_result",
          "data": {
            "application/vnd.google.colaboratory.intrinsic+json": {
              "type": "string"
            },
            "text/plain": [
              "'this'"
            ]
          },
          "metadata": {
            "tags": []
          },
          "execution_count": 28
        }
      ]
    },
    {
      "cell_type": "code",
      "metadata": {
        "id": "KFZ-YCwvUD_h"
      },
      "source": [
        "from wordcloud import WordCloud"
      ],
      "execution_count": 37,
      "outputs": []
    },
    {
      "cell_type": "code",
      "metadata": {
        "id": "0SsaAjWaYC93"
      },
      "source": [
        ""
      ],
      "execution_count": null,
      "outputs": []
    }
  ]
}